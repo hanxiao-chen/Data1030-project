{
 "cells": [
  {
   "cell_type": "code",
   "execution_count": 1,
   "metadata": {},
   "outputs": [
    {
     "data": {
      "text/html": [
       "<div>\n",
       "<style scoped>\n",
       "    .dataframe tbody tr th:only-of-type {\n",
       "        vertical-align: middle;\n",
       "    }\n",
       "\n",
       "    .dataframe tbody tr th {\n",
       "        vertical-align: top;\n",
       "    }\n",
       "\n",
       "    .dataframe thead th {\n",
       "        text-align: right;\n",
       "    }\n",
       "</style>\n",
       "<table border=\"1\" class=\"dataframe\">\n",
       "  <thead>\n",
       "    <tr style=\"text-align: right;\">\n",
       "      <th></th>\n",
       "      <th>Age</th>\n",
       "      <th>Weight</th>\n",
       "      <th>Length</th>\n",
       "      <th>Sex</th>\n",
       "      <th>BMI</th>\n",
       "      <th>DM</th>\n",
       "      <th>HTN</th>\n",
       "      <th>Current Smoker</th>\n",
       "      <th>EX-Smoker</th>\n",
       "      <th>FH</th>\n",
       "      <th>...</th>\n",
       "      <th>K</th>\n",
       "      <th>Na</th>\n",
       "      <th>WBC</th>\n",
       "      <th>Lymph</th>\n",
       "      <th>Neut</th>\n",
       "      <th>PLT</th>\n",
       "      <th>EF-TTE</th>\n",
       "      <th>Region RWMA</th>\n",
       "      <th>VHD</th>\n",
       "      <th>Cath</th>\n",
       "    </tr>\n",
       "  </thead>\n",
       "  <tbody>\n",
       "    <tr>\n",
       "      <th>0</th>\n",
       "      <td>53</td>\n",
       "      <td>90</td>\n",
       "      <td>175</td>\n",
       "      <td>Male</td>\n",
       "      <td>29.387755</td>\n",
       "      <td>0</td>\n",
       "      <td>1</td>\n",
       "      <td>1</td>\n",
       "      <td>0</td>\n",
       "      <td>0</td>\n",
       "      <td>...</td>\n",
       "      <td>4.7</td>\n",
       "      <td>141</td>\n",
       "      <td>5700</td>\n",
       "      <td>39</td>\n",
       "      <td>52</td>\n",
       "      <td>261</td>\n",
       "      <td>50</td>\n",
       "      <td>0</td>\n",
       "      <td>N</td>\n",
       "      <td>Cad</td>\n",
       "    </tr>\n",
       "    <tr>\n",
       "      <th>1</th>\n",
       "      <td>67</td>\n",
       "      <td>70</td>\n",
       "      <td>157</td>\n",
       "      <td>Fmale</td>\n",
       "      <td>28.398718</td>\n",
       "      <td>0</td>\n",
       "      <td>1</td>\n",
       "      <td>0</td>\n",
       "      <td>0</td>\n",
       "      <td>0</td>\n",
       "      <td>...</td>\n",
       "      <td>4.7</td>\n",
       "      <td>156</td>\n",
       "      <td>7700</td>\n",
       "      <td>38</td>\n",
       "      <td>55</td>\n",
       "      <td>165</td>\n",
       "      <td>40</td>\n",
       "      <td>4</td>\n",
       "      <td>N</td>\n",
       "      <td>Cad</td>\n",
       "    </tr>\n",
       "    <tr>\n",
       "      <th>2</th>\n",
       "      <td>54</td>\n",
       "      <td>54</td>\n",
       "      <td>164</td>\n",
       "      <td>Male</td>\n",
       "      <td>20.077335</td>\n",
       "      <td>0</td>\n",
       "      <td>0</td>\n",
       "      <td>1</td>\n",
       "      <td>0</td>\n",
       "      <td>0</td>\n",
       "      <td>...</td>\n",
       "      <td>4.7</td>\n",
       "      <td>139</td>\n",
       "      <td>7400</td>\n",
       "      <td>38</td>\n",
       "      <td>60</td>\n",
       "      <td>230</td>\n",
       "      <td>40</td>\n",
       "      <td>2</td>\n",
       "      <td>mild</td>\n",
       "      <td>Cad</td>\n",
       "    </tr>\n",
       "    <tr>\n",
       "      <th>3</th>\n",
       "      <td>66</td>\n",
       "      <td>67</td>\n",
       "      <td>158</td>\n",
       "      <td>Fmale</td>\n",
       "      <td>26.838648</td>\n",
       "      <td>0</td>\n",
       "      <td>1</td>\n",
       "      <td>0</td>\n",
       "      <td>0</td>\n",
       "      <td>0</td>\n",
       "      <td>...</td>\n",
       "      <td>4.4</td>\n",
       "      <td>142</td>\n",
       "      <td>13000</td>\n",
       "      <td>18</td>\n",
       "      <td>72</td>\n",
       "      <td>742</td>\n",
       "      <td>55</td>\n",
       "      <td>0</td>\n",
       "      <td>Severe</td>\n",
       "      <td>Normal</td>\n",
       "    </tr>\n",
       "    <tr>\n",
       "      <th>4</th>\n",
       "      <td>50</td>\n",
       "      <td>87</td>\n",
       "      <td>153</td>\n",
       "      <td>Fmale</td>\n",
       "      <td>37.165193</td>\n",
       "      <td>0</td>\n",
       "      <td>1</td>\n",
       "      <td>0</td>\n",
       "      <td>0</td>\n",
       "      <td>0</td>\n",
       "      <td>...</td>\n",
       "      <td>4.0</td>\n",
       "      <td>140</td>\n",
       "      <td>9200</td>\n",
       "      <td>55</td>\n",
       "      <td>39</td>\n",
       "      <td>274</td>\n",
       "      <td>50</td>\n",
       "      <td>0</td>\n",
       "      <td>Severe</td>\n",
       "      <td>Normal</td>\n",
       "    </tr>\n",
       "  </tbody>\n",
       "</table>\n",
       "<p>5 rows × 56 columns</p>\n",
       "</div>"
      ],
      "text/plain": [
       "   Age  Weight  Length    Sex        BMI  DM  HTN  Current Smoker  EX-Smoker  \\\n",
       "0   53      90     175   Male  29.387755   0    1               1          0   \n",
       "1   67      70     157  Fmale  28.398718   0    1               0          0   \n",
       "2   54      54     164   Male  20.077335   0    0               1          0   \n",
       "3   66      67     158  Fmale  26.838648   0    1               0          0   \n",
       "4   50      87     153  Fmale  37.165193   0    1               0          0   \n",
       "\n",
       "   FH  ...    K   Na    WBC Lymph Neut  PLT EF-TTE  Region RWMA     VHD  \\\n",
       "0   0  ...  4.7  141   5700    39   52  261     50            0       N   \n",
       "1   0  ...  4.7  156   7700    38   55  165     40            4       N   \n",
       "2   0  ...  4.7  139   7400    38   60  230     40            2    mild   \n",
       "3   0  ...  4.4  142  13000    18   72  742     55            0  Severe   \n",
       "4   0  ...  4.0  140   9200    55   39  274     50            0  Severe   \n",
       "\n",
       "     Cath  \n",
       "0     Cad  \n",
       "1     Cad  \n",
       "2     Cad  \n",
       "3  Normal  \n",
       "4  Normal  \n",
       "\n",
       "[5 rows x 56 columns]"
      ]
     },
     "execution_count": 1,
     "metadata": {},
     "output_type": "execute_result"
    }
   ],
   "source": [
    "import pandas as pd\n",
    "import numpy as np\n",
    "df = pd.read_csv('Z_sani.csv')\n",
    "# 1: oh 2: or 3:mm 4: std 5:target\n",
    "encode_list = [3,3,3,1,3,1,1,1,1,1,1,1,1,1,1,1,1,3,3,\n",
    "          1,1,1,1,1,1,1,1,1,1,1,1,1,1,1,1,1,1,1,\n",
    "          4,4,4,4,4,4,4,3,3,3,4,4,3,4,4,1,2,5]\n",
    "df.head()"
   ]
  },
  {
   "cell_type": "code",
   "execution_count": 2,
   "metadata": {},
   "outputs": [],
   "source": [
    "from sklearn.model_selection import train_test_split\n",
    "X = df.drop('Cath', axis=1)\n",
    "y = df['Cath']\n",
    "\n",
    "X_train, X_test, y_train, y_test = train_test_split(X, y, test_size=0.00004)\n",
    "#####\n",
    "\n",
    "####"
   ]
  },
  {
   "cell_type": "code",
   "execution_count": 30,
   "metadata": {
    "jupyter": {
     "source_hidden": true
    }
   },
   "outputs": [],
   "source": [
    "from sklearn.preprocessing import OneHotEncoder,OrdinalEncoder,MinMaxScaler,StandardScaler,LabelEncoder\n",
    "train_col_to_drop = pd.DataFrame({df.columns[0]:X_train[df.columns[0]]})\n",
    "test_col_to_drop = pd.DataFrame({df.columns[0]:X_test[df.columns[0]]})\n",
    "col_names = []\n",
    "for i in range(55):\n",
    "    if encode_list[i] == 1:\n",
    "        train = pd.DataFrame({df.columns[i]:X_train[df.columns[i]]})\n",
    "        test = pd.DataFrame({df.columns[i]:X_test[df.columns[i]]})\n",
    "        cd = OneHotEncoder(sparse=False,handle_unknown = \"ignore\")\n",
    "        X_t_train = cd.fit_transform(train)\n",
    "        X_t_test = cd.transform(test)\n",
    "        \n",
    "        col_name = train.columns[0]\n",
    "        num_col = X_t_train.shape[1]\n",
    "        for j in range(num_col):\n",
    "            col_names.append(col_name + str(j))\n",
    "        \n",
    "    if encode_list[i] == 2:\n",
    "        train = pd.DataFrame({df.columns[i]:X_train[df.columns[i]]})\n",
    "        test = pd.DataFrame({df.columns[i]:X_test[df.columns[i]]})\n",
    "        cd = OrdinalEncoder(categories = [['N','mild','Moderate','Severe']])\n",
    "        X_t_train = cd.fit_transform(train)\n",
    "        X_t_test = cd.transform(test)\n",
    "        \n",
    "        col_name = train.columns[0]\n",
    "        col_names.append(col_name)\n",
    "        \n",
    "    if encode_list[i] == 3:\n",
    "        train = pd.DataFrame({df.columns[i]:X_train[df.columns[i]]})\n",
    "        test = pd.DataFrame({df.columns[i]:X_test[df.columns[i]]})\n",
    "        cd = MinMaxScaler()\n",
    "        X_t_train = cd.fit_transform(train)\n",
    "        X_t_test = cd.transform(test)\n",
    "        \n",
    "        col_name = train.columns[0]\n",
    "        col_names.append(col_name)\n",
    "        \n",
    "    if encode_list[i] == 4:\n",
    "        train = pd.DataFrame({df.columns[i]:X_train[df.columns[i]]})\n",
    "        test = pd.DataFrame({df.columns[i]:X_test[df.columns[i]]})\n",
    "        cd = StandardScaler()\n",
    "        X_t_train = cd.fit_transform(train)\n",
    "        X_t_test = cd.transform(test)\n",
    "        \n",
    "        col_name = train.columns[0]\n",
    "        col_names.append(col_name)\n",
    "        \n",
    "    train_col_to_drop = np.concatenate((train_col_to_drop,X_t_train),axis=1)\n",
    "    test_col_to_drop = np.concatenate((test_col_to_drop,X_t_test),axis=1)\n",
    "    \n",
    "\n",
    "le = LabelEncoder()\n",
    "y_train_le = le.fit_transform(y_train)\n",
    "y_test_le = le.transform(y_test)\n",
    "train_data = pd.DataFrame(train_col_to_drop).drop(0,axis=1)\n",
    "test_data = pd.DataFrame(test_col_to_drop).drop(0,axis=1)\n",
    "train_data.columns = col_names\n",
    "test_data.columns = col_names\n",
    "train_data['y'] = y_train_le\n",
    "test_data['y'] = y_test_le"
   ]
  },
  {
   "cell_type": "code",
   "execution_count": 7,
   "metadata": {},
   "outputs": [],
   "source": [
    "# train_data.to_csv(\"train.csv\")\n",
    "# test_data.to_csv(\"preprocess_testdata.csv\")"
   ]
  },
  {
   "cell_type": "code",
   "execution_count": 8,
   "metadata": {},
   "outputs": [
    {
     "name": "stdout",
     "output_type": "stream",
     "text": [
      "[0.0, 0.0, 0.0, 0.0, 0.0, 0.0, 0.0, 0.0, 0.0, 0.0, 0.0, 0.0, 0.0, 0.0, 0.0, 0.0, 0.0, 0.0, 0.0, 0.0, 0.0, 0.0, 0.0, 0.0, 0.0, 0.0, 0.0, 0.0, 0.0, 0.0, 0.0, 0.0, 0.0, 0.0, 0.0, 0.0, 0.0, 0.0, 0.0, 0.0, 0.0, 0.0, 0.0, 0.0, 0.0, 0.0, 0.0, 0.0, 0.0, 0.0, 0.0, 0.0, 0.0, 0.0, 0.0, 0.0]\n"
     ]
    }
   ],
   "source": [
    "ftr_mis = []\n",
    "for i in df.columns:\n",
    "    ftr_mis.append(np.mean(df[i].isnull()))\n",
    "print(ftr_mis)"
   ]
  },
  {
   "cell_type": "code",
   "execution_count": 90,
   "metadata": {},
   "outputs": [
    {
     "data": {
      "image/png": "[encoded data removed]",
      "text/plain": [
       "<Figure size 1080x1080 with 49 Axes>"
      ]
     },
     "metadata": {
      "needs_background": "light"
     },
     "output_type": "display_data"
    }
   ],
   "source": [
    "from matplotlib import pylab as plt\n",
    "\n",
    "df_preprocessed = train_data\n",
    "\n",
    "corrmat = df_preprocessed.corr()\n",
    "\n",
    "all_cols = corrmat.sort_values('y',ascending=False)['y'].index \n",
    "cols = all_cols[1:8] # positively correlated features\n",
    "#cols = ['SalePrice']+[col for col in all_cols if '_nan' not in col][:-10:-1] # negatively correlated features\n",
    "\n",
    "pd.plotting.scatter_matrix(df_preprocessed[cols],c = df_preprocessed['y'], figsize=(15, 15), marker='o',\n",
    "                           hist_kwds={'bins': 20}, s=100, alpha=.6)\n",
    "plt.show()"
   ]
  },
  {
   "cell_type": "code",
   "execution_count": 91,
   "metadata": {},
   "outputs": [
    {
     "name": "stderr",
     "output_type": "stream",
     "text": [
      "/opt/conda/lib/python3.7/site-packages/pandas/plotting/_matplotlib/misc.py:71: UserWarning:\n",
      "\n",
      "Attempting to set identical left == right == 1.0 results in singular transformations; automatically expanding.\n",
      "\n",
      "/opt/conda/lib/python3.7/site-packages/pandas/plotting/_matplotlib/misc.py:81: UserWarning:\n",
      "\n",
      "Attempting to set identical bottom == top == 1.0 results in singular transformations; automatically expanding.\n",
      "\n",
      "/opt/conda/lib/python3.7/site-packages/pandas/plotting/_matplotlib/misc.py:80: UserWarning:\n",
      "\n",
      "Attempting to set identical left == right == 1.0 results in singular transformations; automatically expanding.\n",
      "\n",
      "/opt/conda/lib/python3.7/site-packages/pandas/plotting/_matplotlib/misc.py:95: RuntimeWarning:\n",
      "\n",
      "invalid value encountered in true_divide\n",
      "\n"
     ]
    },
    {
     "data": {
      "image/png": "[encoded data removed]",
      "text/plain": [
       "<Figure size 1080x1080 with 49 Axes>"
      ]
     },
     "metadata": {
      "needs_background": "light"
     },
     "output_type": "display_data"
    }
   ],
   "source": [
    "all_cols = corrmat.sort_values('y',ascending=False)['y'].index \n",
    "cols = all_cols[:-8:-1] # positively correlated features\n",
    "#cols = ['SalePrice']+[col for col in all_cols if '_nan' not in col][:-10:-1] # negatively correlated features\n",
    "\n",
    "pd.plotting.scatter_matrix(df_preprocessed[cols],c = df_preprocessed['y'], figsize=(15, 15), marker='o',\n",
    "                           hist_kwds={'bins': 20}, s=100, alpha=.6)\n",
    "plt.show()"
   ]
  },
  {
   "cell_type": "code",
   "execution_count": 92,
   "metadata": {},
   "outputs": [
    {
     "data": {
      "image/png": "[encoded data removed]",
      "text/plain": [
       "<Figure size 720x720 with 2 Axes>"
      ]
     },
     "metadata": {
      "needs_background": "light"
     },
     "output_type": "display_data"
    },
    {
     "data": {
      "text/plain": [
       "Index(['y', 'Typical Chest Pain0', 'Typical Chest Pain1', 'Atypical1',\n",
       "       'Atypical0', 'Age', 'Region RWMA0', 'HTN0', 'HTN1', 'Nonanginal1',\n",
       "       'Nonanginal0', 'DM1', 'DM0', 'BP', 'Tinversion0', 'Tinversion1',\n",
       "       'EF-TTE', 'FBS', 'Region RWMA2', 'K', 'ESR', 'PR', 'Q Wave0', 'Q Wave1',\n",
       "       'Diastolic Murmur1', 'Diastolic Murmur0', 'St Depression0',\n",
       "       'St Depression1', 'Region RWMA3', 'Region RWMA4', 'St Elevation0',\n",
       "       'St Elevation1', 'TG', 'Dyspnea1', 'Dyspnea0', 'Lymph', 'Neut',\n",
       "       'Region RWMA1', 'Poor R Progression0', 'Poor R Progression1', 'PLT',\n",
       "       'BUN', 'Function Class1', 'CRF1', 'CRF0', 'BBB1', 'CR',\n",
       "       'Current Smoker1', 'Current Smoker0', 'Edema1', 'Edema0',\n",
       "       'Airway disease1', 'Airway disease0', 'BBB0', 'Function Class0', 'Na',\n",
       "       'Weak Peripheral Pulse0', 'Weak Peripheral Pulse1', 'BMI', 'Sex1',\n",
       "       'Sex0', 'WBC', 'Weight', 'Function Class3', 'Function Class2',\n",
       "       'LowTH Ang0', 'LowTH Ang1', 'LVH1', 'LVH0', 'Thyroid Disease1',\n",
       "       'Thyroid Disease0', 'Lung rales1', 'Lung rales0', 'HDL', 'HB', 'CHF0',\n",
       "       'CHF1', 'EX-Smoker1', 'EX-Smoker0', 'FH0', 'FH1', 'BBB2', 'LDL', 'CVA0',\n",
       "       'CVA1', 'Obesity1', 'Obesity0', 'DLP0', 'DLP1', 'Systolic Murmur1',\n",
       "       'Systolic Murmur0', 'Length', 'VHD', 'Exertional CP0'],\n",
       "      dtype='object')"
      ]
     },
     "execution_count": 92,
     "metadata": {},
     "output_type": "execute_result"
    }
   ],
   "source": [
    "corrmat = df_preprocessed.corr()\n",
    "\n",
    "# use the absolute value of the correlation matrix for sorting!\n",
    "all_cols = np.abs(corrmat).sort_values('y',ascending=False)['y'].index \n",
    "cols = all_cols[:10] # positively correlated features\n",
    "\n",
    "cm = corrmat.loc[cols,cols]\n",
    "\n",
    "plt.figure(figsize=(10,10))\n",
    "plt.matshow(cm,vmin=-1,vmax=1,cmap='seismic',fignum=0)\n",
    "plt.colorbar(label='corr. coeff.')\n",
    "plt.xticks(np.arange(cm.shape[0]),list(cols),rotation=90)\n",
    "plt.yticks(np.arange(cm.shape[0]),list(cols))\n",
    "plt.tight_layout()\n",
    "plt.show()\n",
    "all_cols"
   ]
  },
  {
   "cell_type": "code",
   "execution_count": 93,
   "metadata": {},
   "outputs": [
    {
     "data": {
      "image/png": "[encoded data removed]",
      "text/plain": [
       "<Figure size 288x288 with 2 Axes>"
      ]
     },
     "metadata": {
      "needs_background": "light"
     },
     "output_type": "display_data"
    }
   ],
   "source": [
    "count_matrix = df_preprocessed.groupby(['Typical Chest Pain0', 'y']).size().unstack()\n",
    "# print(count_matrix)\n",
    "\n",
    "count_matrix_norm = count_matrix.div(count_matrix.sum(axis=1),axis=0)\n",
    "# print(count_matrix_norm)\n",
    "\n",
    "\n",
    "plt.matshow(count_matrix_norm.T,vmin=0,vmax=1)\n",
    "plt.xticks(np.arange(count_matrix_norm.shape[0]),count_matrix_norm.index,rotation=90)\n",
    "plt.yticks(np.arange(count_matrix_norm.shape[1]),count_matrix_norm.columns)\n",
    "plt.ylabel('Typical Chest Pain')\n",
    "plt.xlabel('CAD')\n",
    "plt.colorbar(label='fraction')\n",
    "plt.text(0.65, 0.8, \"0.55\", fontsize=18,color='red')\n",
    "plt.text(0.65, 0.3, \"0.06\", fontsize=18,color='red')\n",
    "plt.text(-0.1, 0.3, \"0.94\", fontsize=18,color='red')\n",
    "plt.text(-0.1, 0.8, \"0.45\", fontsize=18,color='red')\n",
    "# plt.tight_layout()\n",
    "plt.show()"
   ]
  },
  {
   "cell_type": "code",
   "execution_count": 94,
   "metadata": {},
   "outputs": [
    {
     "data": {
      "application/vnd.plotly.v1+json": {
       "config": {
        "plotlyServerURL": "https://plot.ly"
       },
       "data": [
        {
         "type": "heatmap",
         "x": [
          "No CAD",
          "CAD"
         ],
         "y": [
          "No Chest Pain",
          "Chest Pain"
         ],
         "z": [
          [
           0.9447852760736196,
           0.05521472392638037
          ],
          [
           0.4460431654676259,
           0.5539568345323741
          ]
         ]
        }
       ],
       "layout": {
        "autosize": true,
        "template": {
         "data": {
          "bar": [
           {
            "error_x": {
             "color": "#2a3f5f"
            },
            "error_y": {
             "color": "#2a3f5f"
            },
            "marker": {
             "line": {
              "color": "#E5ECF6",
              "width": 0.5
             }
            },
            "type": "bar"
           }
          ],
          "barpolar": [
           {
            "marker": {
             "line": {
              "color": "#E5ECF6",
              "width": 0.5
             }
            },
            "type": "barpolar"
           }
          ],
          "carpet": [
           {
            "aaxis": {
             "endlinecolor": "#2a3f5f",
             "gridcolor": "white",
             "linecolor": "white",
             "minorgridcolor": "white",
             "startlinecolor": "#2a3f5f"
            },
            "baxis": {
             "endlinecolor": "#2a3f5f",
             "gridcolor": "white",
             "linecolor": "white",
             "minorgridcolor": "white",
             "startlinecolor": "#2a3f5f"
            },
            "type": "carpet"
           }
          ],
          "choropleth": [
           {
            "colorbar": {
             "outlinewidth": 0,
             "ticks": ""
            },
            "type": "choropleth"
           }
          ],
          "contour": [
           {
            "colorbar": {
             "outlinewidth": 0,
             "ticks": ""
            },
            "colorscale": [
             [
              0,
              "#0d0887"
             ],
             [
              0.1111111111111111,
              "#46039f"
             ],
             [
              0.2222222222222222,
              "#7201a8"
             ],
             [
              0.3333333333333333,
              "#9c179e"
             ],
             [
              0.4444444444444444,
              "#bd3786"
             ],
             [
              0.5555555555555556,
              "#d8576b"
             ],
             [
              0.6666666666666666,
              "#ed7953"
             ],
             [
              0.7777777777777778,
              "#fb9f3a"
             ],
             [
              0.8888888888888888,
              "#fdca26"
             ],
             [
              1,
              "#f0f921"
             ]
            ],
            "type": "contour"
           }
          ],
          "contourcarpet": [
           {
            "colorbar": {
             "outlinewidth": 0,
             "ticks": ""
            },
            "type": "contourcarpet"
           }
          ],
          "heatmap": [
           {
            "colorbar": {
             "outlinewidth": 0,
             "ticks": ""
            },
            "colorscale": [
             [
              0,
              "#0d0887"
             ],
             [
              0.1111111111111111,
              "#46039f"
             ],
             [
              0.2222222222222222,
              "#7201a8"
             ],
             [
              0.3333333333333333,
              "#9c179e"
             ],
             [
              0.4444444444444444,
              "#bd3786"
             ],
             [
              0.5555555555555556,
              "#d8576b"
             ],
             [
              0.6666666666666666,
              "#ed7953"
             ],
             [
              0.7777777777777778,
              "#fb9f3a"
             ],
             [
              0.8888888888888888,
              "#fdca26"
             ],
             [
              1,
              "#f0f921"
             ]
            ],
            "type": "heatmap"
           }
          ],
          "heatmapgl": [
           {
            "colorbar": {
             "outlinewidth": 0,
             "ticks": ""
            },
            "colorscale": [
             [
              0,
              "#0d0887"
             ],
             [
              0.1111111111111111,
              "#46039f"
             ],
             [
              0.2222222222222222,
              "#7201a8"
             ],
             [
              0.3333333333333333,
              "#9c179e"
             ],
             [
              0.4444444444444444,
              "#bd3786"
             ],
             [
              0.5555555555555556,
              "#d8576b"
             ],
             [
              0.6666666666666666,
              "#ed7953"
             ],
             [
              0.7777777777777778,
              "#fb9f3a"
             ],
             [
              0.8888888888888888,
              "#fdca26"
             ],
             [
              1,
              "#f0f921"
             ]
            ],
            "type": "heatmapgl"
           }
          ],
          "histogram": [
           {
            "marker": {
             "colorbar": {
              "outlinewidth": 0,
              "ticks": ""
             }
            },
            "type": "histogram"
           }
          ],
          "histogram2d": [
           {
            "colorbar": {
             "outlinewidth": 0,
             "ticks": ""
            },
            "colorscale": [
             [
              0,
              "#0d0887"
             ],
             [
              0.1111111111111111,
              "#46039f"
             ],
             [
              0.2222222222222222,
              "#7201a8"
             ],
             [
              0.3333333333333333,
              "#9c179e"
             ],
             [
              0.4444444444444444,
              "#bd3786"
             ],
             [
              0.5555555555555556,
              "#d8576b"
             ],
             [
              0.6666666666666666,
              "#ed7953"
             ],
             [
              0.7777777777777778,
              "#fb9f3a"
             ],
             [
              0.8888888888888888,
              "#fdca26"
             ],
             [
              1,
              "#f0f921"
             ]
            ],
            "type": "histogram2d"
           }
          ],
          "histogram2dcontour": [
           {
            "colorbar": {
             "outlinewidth": 0,
             "ticks": ""
            },
            "colorscale": [
             [
              0,
              "#0d0887"
             ],
             [
              0.1111111111111111,
              "#46039f"
             ],
             [
              0.2222222222222222,
              "#7201a8"
             ],
             [
              0.3333333333333333,
              "#9c179e"
             ],
             [
              0.4444444444444444,
              "#bd3786"
             ],
             [
              0.5555555555555556,
              "#d8576b"
             ],
             [
              0.6666666666666666,
              "#ed7953"
             ],
             [
              0.7777777777777778,
              "#fb9f3a"
             ],
             [
              0.8888888888888888,
              "#fdca26"
             ],
             [
              1,
              "#f0f921"
             ]
            ],
            "type": "histogram2dcontour"
           }
          ],
          "mesh3d": [
           {
            "colorbar": {
             "outlinewidth": 0,
             "ticks": ""
            },
            "type": "mesh3d"
           }
          ],
          "parcoords": [
           {
            "line": {
             "colorbar": {
              "outlinewidth": 0,
              "ticks": ""
             }
            },
            "type": "parcoords"
           }
          ],
          "scatter": [
           {
            "marker": {
             "colorbar": {
              "outlinewidth": 0,
              "ticks": ""
             }
            },
            "type": "scatter"
           }
          ],
          "scatter3d": [
           {
            "line": {
             "colorbar": {
              "outlinewidth": 0,
              "ticks": ""
             }
            },
            "marker": {
             "colorbar": {
              "outlinewidth": 0,
              "ticks": ""
             }
            },
            "type": "scatter3d"
           }
          ],
          "scattercarpet": [
           {
            "marker": {
             "colorbar": {
              "outlinewidth": 0,
              "ticks": ""
             }
            },
            "type": "scattercarpet"
           }
          ],
          "scattergeo": [
           {
            "marker": {
             "colorbar": {
              "outlinewidth": 0,
              "ticks": ""
             }
            },
            "type": "scattergeo"
           }
          ],
          "scattergl": [
           {
            "marker": {
             "colorbar": {
              "outlinewidth": 0,
              "ticks": ""
             }
            },
            "type": "scattergl"
           }
          ],
          "scattermapbox": [
           {
            "marker": {
             "colorbar": {
              "outlinewidth": 0,
              "ticks": ""
             }
            },
            "type": "scattermapbox"
           }
          ],
          "scatterpolar": [
           {
            "marker": {
             "colorbar": {
              "outlinewidth": 0,
              "ticks": ""
             }
            },
            "type": "scatterpolar"
           }
          ],
          "scatterpolargl": [
           {
            "marker": {
             "colorbar": {
              "outlinewidth": 0,
              "ticks": ""
             }
            },
            "type": "scatterpolargl"
           }
          ],
          "scatterternary": [
           {
            "marker": {
             "colorbar": {
              "outlinewidth": 0,
              "ticks": ""
             }
            },
            "type": "scatterternary"
           }
          ],
          "surface": [
           {
            "colorbar": {
             "outlinewidth": 0,
             "ticks": ""
            },
            "colorscale": [
             [
              0,
              "#0d0887"
             ],
             [
              0.1111111111111111,
              "#46039f"
             ],
             [
              0.2222222222222222,
              "#7201a8"
             ],
             [
              0.3333333333333333,
              "#9c179e"
             ],
             [
              0.4444444444444444,
              "#bd3786"
             ],
             [
              0.5555555555555556,
              "#d8576b"
             ],
             [
              0.6666666666666666,
              "#ed7953"
             ],
             [
              0.7777777777777778,
              "#fb9f3a"
             ],
             [
              0.8888888888888888,
              "#fdca26"
             ],
             [
              1,
              "#f0f921"
             ]
            ],
            "type": "surface"
           }
          ],
          "table": [
           {
            "cells": {
             "fill": {
              "color": "#EBF0F8"
             },
             "line": {
              "color": "white"
             }
            },
            "header": {
             "fill": {
              "color": "#C8D4E3"
             },
             "line": {
              "color": "white"
             }
            },
            "type": "table"
           }
          ]
         },
         "layout": {
          "annotationdefaults": {
           "arrowcolor": "#2a3f5f",
           "arrowhead": 0,
           "arrowwidth": 1
          },
          "colorscale": {
           "diverging": [
            [
             0,
             "#8e0152"
            ],
            [
             0.1,
             "#c51b7d"
            ],
            [
             0.2,
             "#de77ae"
            ],
            [
             0.3,
             "#f1b6da"
            ],
            [
             0.4,
             "#fde0ef"
            ],
            [
             0.5,
             "#f7f7f7"
            ],
            [
             0.6,
             "#e6f5d0"
            ],
            [
             0.7,
             "#b8e186"
            ],
            [
             0.8,
             "#7fbc41"
            ],
            [
             0.9,
             "#4d9221"
            ],
            [
             1,
             "#276419"
            ]
           ],
           "sequential": [
            [
             0,
             "#0d0887"
            ],
            [
             0.1111111111111111,
             "#46039f"
            ],
            [
             0.2222222222222222,
             "#7201a8"
            ],
            [
             0.3333333333333333,
             "#9c179e"
            ],
            [
             0.4444444444444444,
             "#bd3786"
            ],
            [
             0.5555555555555556,
             "#d8576b"
            ],
            [
             0.6666666666666666,
             "#ed7953"
            ],
            [
             0.7777777777777778,
             "#fb9f3a"
            ],
            [
             0.8888888888888888,
             "#fdca26"
            ],
            [
             1,
             "#f0f921"
            ]
           ],
           "sequentialminus": [
            [
             0,
             "#0d0887"
            ],
            [
             0.1111111111111111,
             "#46039f"
            ],
            [
             0.2222222222222222,
             "#7201a8"
            ],
            [
             0.3333333333333333,
             "#9c179e"
            ],
            [
             0.4444444444444444,
             "#bd3786"
            ],
            [
             0.5555555555555556,
             "#d8576b"
            ],
            [
             0.6666666666666666,
             "#ed7953"
            ],
            [
             0.7777777777777778,
             "#fb9f3a"
            ],
            [
             0.8888888888888888,
             "#fdca26"
            ],
            [
             1,
             "#f0f921"
            ]
           ]
          },
          "colorway": [
           "#636efa",
           "#EF553B",
           "#00cc96",
           "#ab63fa",
           "#FFA15A",
           "#19d3f3",
           "#FF6692",
           "#B6E880",
           "#FF97FF",
           "#FECB52"
          ],
          "font": {
           "color": "#2a3f5f"
          },
          "geo": {
           "bgcolor": "white",
           "lakecolor": "white",
           "landcolor": "#E5ECF6",
           "showlakes": true,
           "showland": true,
           "subunitcolor": "white"
          },
          "hoverlabel": {
           "align": "left"
          },
          "hovermode": "closest",
          "mapbox": {
           "style": "light"
          },
          "paper_bgcolor": "white",
          "plot_bgcolor": "#E5ECF6",
          "polar": {
           "angularaxis": {
            "gridcolor": "white",
            "linecolor": "white",
            "ticks": ""
           },
           "bgcolor": "#E5ECF6",
           "radialaxis": {
            "gridcolor": "white",
            "linecolor": "white",
            "ticks": ""
           }
          },
          "scene": {
           "xaxis": {
            "backgroundcolor": "#E5ECF6",
            "gridcolor": "white",
            "gridwidth": 2,
            "linecolor": "white",
            "showbackground": true,
            "ticks": "",
            "zerolinecolor": "white"
           },
           "yaxis": {
            "backgroundcolor": "#E5ECF6",
            "gridcolor": "white",
            "gridwidth": 2,
            "linecolor": "white",
            "showbackground": true,
            "ticks": "",
            "zerolinecolor": "white"
           },
           "zaxis": {
            "backgroundcolor": "#E5ECF6",
            "gridcolor": "white",
            "gridwidth": 2,
            "linecolor": "white",
            "showbackground": true,
            "ticks": "",
            "zerolinecolor": "white"
           }
          },
          "shapedefaults": {
           "line": {
            "color": "#2a3f5f"
           }
          },
          "ternary": {
           "aaxis": {
            "gridcolor": "white",
            "linecolor": "white",
            "ticks": ""
           },
           "baxis": {
            "gridcolor": "white",
            "linecolor": "white",
            "ticks": ""
           },
           "bgcolor": "#E5ECF6",
           "caxis": {
            "gridcolor": "white",
            "linecolor": "white",
            "ticks": ""
           }
          },
          "title": {
           "x": 0.05
          },
          "xaxis": {
           "automargin": true,
           "gridcolor": "white",
           "linecolor": "white",
           "ticks": "",
           "zerolinecolor": "white",
           "zerolinewidth": 2
          },
          "yaxis": {
           "automargin": true,
           "gridcolor": "white",
           "linecolor": "white",
           "ticks": "",
           "zerolinecolor": "white",
           "zerolinewidth": 2
          }
         }
        },
        "xaxis": {
         "autorange": true,
         "range": [
          -0.5,
          1.5
         ],
         "type": "category"
        },
        "yaxis": {
         "autorange": true,
         "range": [
          -0.5,
          1.5
         ],
         "type": "category"
        }
       }
      },
      "image/png": "[encoded data removed]",
      "text/html": [
       "<div>\n",
       "        \n",
       "        \n",
       "            <div id=\"35143e9b-9b3d-448b-b122-ec475d0d673c\" class=\"plotly-graph-div\" style=\"height:525px; width:100%;\"></div>\n",
       "            <script type=\"text/javascript\">\n",
       "                require([\"plotly\"], function(Plotly) {\n",
       "                    window.PLOTLYENV=window.PLOTLYENV || {};\n",
       "                    \n",
       "                if (document.getElementById(\"35143e9b-9b3d-448b-b122-ec475d0d673c\")) {\n",
       "                    Plotly.newPlot(\n",
       "                        '35143e9b-9b3d-448b-b122-ec475d0d673c',\n",
       "                        [{\"type\": \"heatmap\", \"x\": [\"No CAD\", \"CAD\"], \"y\": [\"No Chest Pain\", \"Chest Pain\"], \"z\": [[0.9447852760736196, 0.05521472392638037], [0.4460431654676259, 0.5539568345323741]]}],\n",
       "                        {\"template\": {\"data\": {\"bar\": [{\"error_x\": {\"color\": \"#2a3f5f\"}, \"error_y\": {\"color\": \"#2a3f5f\"}, \"marker\": {\"line\": {\"color\": \"#E5ECF6\", \"width\": 0.5}}, \"type\": \"bar\"}], \"barpolar\": [{\"marker\": {\"line\": {\"color\": \"#E5ECF6\", \"width\": 0.5}}, \"type\": \"barpolar\"}], \"carpet\": [{\"aaxis\": {\"endlinecolor\": \"#2a3f5f\", \"gridcolor\": \"white\", \"linecolor\": \"white\", \"minorgridcolor\": \"white\", \"startlinecolor\": \"#2a3f5f\"}, \"baxis\": {\"endlinecolor\": \"#2a3f5f\", \"gridcolor\": \"white\", \"linecolor\": \"white\", \"minorgridcolor\": \"white\", \"startlinecolor\": \"#2a3f5f\"}, \"type\": \"carpet\"}], \"choropleth\": [{\"colorbar\": {\"outlinewidth\": 0, \"ticks\": \"\"}, \"type\": \"choropleth\"}], \"contour\": [{\"colorbar\": {\"outlinewidth\": 0, \"ticks\": \"\"}, \"colorscale\": [[0.0, \"#0d0887\"], [0.1111111111111111, \"#46039f\"], [0.2222222222222222, \"#7201a8\"], [0.3333333333333333, \"#9c179e\"], [0.4444444444444444, \"#bd3786\"], [0.5555555555555556, \"#d8576b\"], [0.6666666666666666, \"#ed7953\"], [0.7777777777777778, \"#fb9f3a\"], [0.8888888888888888, \"#fdca26\"], [1.0, \"#f0f921\"]], \"type\": \"contour\"}], \"contourcarpet\": [{\"colorbar\": {\"outlinewidth\": 0, \"ticks\": \"\"}, \"type\": \"contourcarpet\"}], \"heatmap\": [{\"colorbar\": {\"outlinewidth\": 0, \"ticks\": \"\"}, \"colorscale\": [[0.0, \"#0d0887\"], [0.1111111111111111, \"#46039f\"], [0.2222222222222222, \"#7201a8\"], [0.3333333333333333, \"#9c179e\"], [0.4444444444444444, \"#bd3786\"], [0.5555555555555556, \"#d8576b\"], [0.6666666666666666, \"#ed7953\"], [0.7777777777777778, \"#fb9f3a\"], [0.8888888888888888, \"#fdca26\"], [1.0, \"#f0f921\"]], \"type\": \"heatmap\"}], \"heatmapgl\": [{\"colorbar\": {\"outlinewidth\": 0, \"ticks\": \"\"}, \"colorscale\": [[0.0, \"#0d0887\"], [0.1111111111111111, \"#46039f\"], [0.2222222222222222, \"#7201a8\"], [0.3333333333333333, \"#9c179e\"], [0.4444444444444444, \"#bd3786\"], [0.5555555555555556, \"#d8576b\"], [0.6666666666666666, \"#ed7953\"], [0.7777777777777778, \"#fb9f3a\"], [0.8888888888888888, \"#fdca26\"], [1.0, \"#f0f921\"]], \"type\": \"heatmapgl\"}], \"histogram\": [{\"marker\": {\"colorbar\": {\"outlinewidth\": 0, \"ticks\": \"\"}}, \"type\": \"histogram\"}], \"histogram2d\": [{\"colorbar\": {\"outlinewidth\": 0, \"ticks\": \"\"}, \"colorscale\": [[0.0, \"#0d0887\"], [0.1111111111111111, \"#46039f\"], [0.2222222222222222, \"#7201a8\"], [0.3333333333333333, \"#9c179e\"], [0.4444444444444444, \"#bd3786\"], [0.5555555555555556, \"#d8576b\"], [0.6666666666666666, \"#ed7953\"], [0.7777777777777778, \"#fb9f3a\"], [0.8888888888888888, \"#fdca26\"], [1.0, \"#f0f921\"]], \"type\": \"histogram2d\"}], \"histogram2dcontour\": [{\"colorbar\": {\"outlinewidth\": 0, \"ticks\": \"\"}, \"colorscale\": [[0.0, \"#0d0887\"], [0.1111111111111111, \"#46039f\"], [0.2222222222222222, \"#7201a8\"], [0.3333333333333333, \"#9c179e\"], [0.4444444444444444, \"#bd3786\"], [0.5555555555555556, \"#d8576b\"], [0.6666666666666666, \"#ed7953\"], [0.7777777777777778, \"#fb9f3a\"], [0.8888888888888888, \"#fdca26\"], [1.0, \"#f0f921\"]], \"type\": \"histogram2dcontour\"}], \"mesh3d\": [{\"colorbar\": {\"outlinewidth\": 0, \"ticks\": \"\"}, \"type\": \"mesh3d\"}], \"parcoords\": [{\"line\": {\"colorbar\": {\"outlinewidth\": 0, \"ticks\": \"\"}}, \"type\": \"parcoords\"}], \"scatter\": [{\"marker\": {\"colorbar\": {\"outlinewidth\": 0, \"ticks\": \"\"}}, \"type\": \"scatter\"}], \"scatter3d\": [{\"line\": {\"colorbar\": {\"outlinewidth\": 0, \"ticks\": \"\"}}, \"marker\": {\"colorbar\": {\"outlinewidth\": 0, \"ticks\": \"\"}}, \"type\": \"scatter3d\"}], \"scattercarpet\": [{\"marker\": {\"colorbar\": {\"outlinewidth\": 0, \"ticks\": \"\"}}, \"type\": \"scattercarpet\"}], \"scattergeo\": [{\"marker\": {\"colorbar\": {\"outlinewidth\": 0, \"ticks\": \"\"}}, \"type\": \"scattergeo\"}], \"scattergl\": [{\"marker\": {\"colorbar\": {\"outlinewidth\": 0, \"ticks\": \"\"}}, \"type\": \"scattergl\"}], \"scattermapbox\": [{\"marker\": {\"colorbar\": {\"outlinewidth\": 0, \"ticks\": \"\"}}, \"type\": \"scattermapbox\"}], \"scatterpolar\": [{\"marker\": {\"colorbar\": {\"outlinewidth\": 0, \"ticks\": \"\"}}, \"type\": \"scatterpolar\"}], \"scatterpolargl\": [{\"marker\": {\"colorbar\": {\"outlinewidth\": 0, \"ticks\": \"\"}}, \"type\": \"scatterpolargl\"}], \"scatterternary\": [{\"marker\": {\"colorbar\": {\"outlinewidth\": 0, \"ticks\": \"\"}}, \"type\": \"scatterternary\"}], \"surface\": [{\"colorbar\": {\"outlinewidth\": 0, \"ticks\": \"\"}, \"colorscale\": [[0.0, \"#0d0887\"], [0.1111111111111111, \"#46039f\"], [0.2222222222222222, \"#7201a8\"], [0.3333333333333333, \"#9c179e\"], [0.4444444444444444, \"#bd3786\"], [0.5555555555555556, \"#d8576b\"], [0.6666666666666666, \"#ed7953\"], [0.7777777777777778, \"#fb9f3a\"], [0.8888888888888888, \"#fdca26\"], [1.0, \"#f0f921\"]], \"type\": \"surface\"}], \"table\": [{\"cells\": {\"fill\": {\"color\": \"#EBF0F8\"}, \"line\": {\"color\": \"white\"}}, \"header\": {\"fill\": {\"color\": \"#C8D4E3\"}, \"line\": {\"color\": \"white\"}}, \"type\": \"table\"}]}, \"layout\": {\"annotationdefaults\": {\"arrowcolor\": \"#2a3f5f\", \"arrowhead\": 0, \"arrowwidth\": 1}, \"colorscale\": {\"diverging\": [[0, \"#8e0152\"], [0.1, \"#c51b7d\"], [0.2, \"#de77ae\"], [0.3, \"#f1b6da\"], [0.4, \"#fde0ef\"], [0.5, \"#f7f7f7\"], [0.6, \"#e6f5d0\"], [0.7, \"#b8e186\"], [0.8, \"#7fbc41\"], [0.9, \"#4d9221\"], [1, \"#276419\"]], \"sequential\": [[0.0, \"#0d0887\"], [0.1111111111111111, \"#46039f\"], [0.2222222222222222, \"#7201a8\"], [0.3333333333333333, \"#9c179e\"], [0.4444444444444444, \"#bd3786\"], [0.5555555555555556, \"#d8576b\"], [0.6666666666666666, \"#ed7953\"], [0.7777777777777778, \"#fb9f3a\"], [0.8888888888888888, \"#fdca26\"], [1.0, \"#f0f921\"]], \"sequentialminus\": [[0.0, \"#0d0887\"], [0.1111111111111111, \"#46039f\"], [0.2222222222222222, \"#7201a8\"], [0.3333333333333333, \"#9c179e\"], [0.4444444444444444, \"#bd3786\"], [0.5555555555555556, \"#d8576b\"], [0.6666666666666666, \"#ed7953\"], [0.7777777777777778, \"#fb9f3a\"], [0.8888888888888888, \"#fdca26\"], [1.0, \"#f0f921\"]]}, \"colorway\": [\"#636efa\", \"#EF553B\", \"#00cc96\", \"#ab63fa\", \"#FFA15A\", \"#19d3f3\", \"#FF6692\", \"#B6E880\", \"#FF97FF\", \"#FECB52\"], \"font\": {\"color\": \"#2a3f5f\"}, \"geo\": {\"bgcolor\": \"white\", \"lakecolor\": \"white\", \"landcolor\": \"#E5ECF6\", \"showlakes\": true, \"showland\": true, \"subunitcolor\": \"white\"}, \"hoverlabel\": {\"align\": \"left\"}, \"hovermode\": \"closest\", \"mapbox\": {\"style\": \"light\"}, \"paper_bgcolor\": \"white\", \"plot_bgcolor\": \"#E5ECF6\", \"polar\": {\"angularaxis\": {\"gridcolor\": \"white\", \"linecolor\": \"white\", \"ticks\": \"\"}, \"bgcolor\": \"#E5ECF6\", \"radialaxis\": {\"gridcolor\": \"white\", \"linecolor\": \"white\", \"ticks\": \"\"}}, \"scene\": {\"xaxis\": {\"backgroundcolor\": \"#E5ECF6\", \"gridcolor\": \"white\", \"gridwidth\": 2, \"linecolor\": \"white\", \"showbackground\": true, \"ticks\": \"\", \"zerolinecolor\": \"white\"}, \"yaxis\": {\"backgroundcolor\": \"#E5ECF6\", \"gridcolor\": \"white\", \"gridwidth\": 2, \"linecolor\": \"white\", \"showbackground\": true, \"ticks\": \"\", \"zerolinecolor\": \"white\"}, \"zaxis\": {\"backgroundcolor\": \"#E5ECF6\", \"gridcolor\": \"white\", \"gridwidth\": 2, \"linecolor\": \"white\", \"showbackground\": true, \"ticks\": \"\", \"zerolinecolor\": \"white\"}}, \"shapedefaults\": {\"line\": {\"color\": \"#2a3f5f\"}}, \"ternary\": {\"aaxis\": {\"gridcolor\": \"white\", \"linecolor\": \"white\", \"ticks\": \"\"}, \"baxis\": {\"gridcolor\": \"white\", \"linecolor\": \"white\", \"ticks\": \"\"}, \"bgcolor\": \"#E5ECF6\", \"caxis\": {\"gridcolor\": \"white\", \"linecolor\": \"white\", \"ticks\": \"\"}}, \"title\": {\"x\": 0.05}, \"xaxis\": {\"automargin\": true, \"gridcolor\": \"white\", \"linecolor\": \"white\", \"ticks\": \"\", \"zerolinecolor\": \"white\", \"zerolinewidth\": 2}, \"yaxis\": {\"automargin\": true, \"gridcolor\": \"white\", \"linecolor\": \"white\", \"ticks\": \"\", \"zerolinecolor\": \"white\", \"zerolinewidth\": 2}}}},\n",
       "                        {\"responsive\": true}\n",
       "                    ).then(function(){\n",
       "                            \n",
       "var gd = document.getElementById('35143e9b-9b3d-448b-b122-ec475d0d673c');\n",
       "var x = new MutationObserver(function (mutations, observer) {{\n",
       "        var display = window.getComputedStyle(gd).display;\n",
       "        if (!display || display === 'none') {{\n",
       "            console.log([gd, 'removed!']);\n",
       "            Plotly.purge(gd);\n",
       "            observer.disconnect();\n",
       "        }}\n",
       "}});\n",
       "\n",
       "// Listen for the removal of the full notebook cells\n",
       "var notebookContainer = gd.closest('#notebook-container');\n",
       "if (notebookContainer) {{\n",
       "    x.observe(notebookContainer, {childList: true});\n",
       "}}\n",
       "\n",
       "// Listen for the clearing of the current output cell\n",
       "var outputEl = gd.closest('.output');\n",
       "if (outputEl) {{\n",
       "    x.observe(outputEl, {childList: true});\n",
       "}}\n",
       "\n",
       "                        })\n",
       "                };\n",
       "                });\n",
       "            </script>\n",
       "        </div>"
      ]
     },
     "metadata": {},
     "output_type": "display_data"
    }
   ],
   "source": [
    "import plotly.graph_objects as go\n",
    "\n",
    "fig = go.Figure(data=go.Heatmap(\n",
    "                   z=count_matrix_norm,\n",
    "                   x=['No CAD', 'CAD'],\n",
    "                   y=['No Chest Pain', 'Chest Pain']))\n",
    "fig.show()"
   ]
  },
  {
   "cell_type": "code",
   "execution_count": 95,
   "metadata": {},
   "outputs": [
    {
     "data": {
      "text/html": [
       "<div>\n",
       "<style scoped>\n",
       "    .dataframe tbody tr th:only-of-type {\n",
       "        vertical-align: middle;\n",
       "    }\n",
       "\n",
       "    .dataframe tbody tr th {\n",
       "        vertical-align: top;\n",
       "    }\n",
       "\n",
       "    .dataframe thead th {\n",
       "        text-align: right;\n",
       "    }\n",
       "</style>\n",
       "<table border=\"1\" class=\"dataframe\">\n",
       "  <thead>\n",
       "    <tr style=\"text-align: right;\">\n",
       "      <th></th>\n",
       "      <th>Chest Pain</th>\n",
       "      <th>rate</th>\n",
       "      <th>CAD</th>\n",
       "    </tr>\n",
       "  </thead>\n",
       "  <tbody>\n",
       "    <tr>\n",
       "      <th>0</th>\n",
       "      <td>yes</td>\n",
       "      <td>0.944785</td>\n",
       "      <td>yes</td>\n",
       "    </tr>\n",
       "    <tr>\n",
       "      <th>1</th>\n",
       "      <td>no</td>\n",
       "      <td>0.553957</td>\n",
       "      <td>yes</td>\n",
       "    </tr>\n",
       "    <tr>\n",
       "      <th>2</th>\n",
       "      <td>yes</td>\n",
       "      <td>0.055215</td>\n",
       "      <td>no</td>\n",
       "    </tr>\n",
       "    <tr>\n",
       "      <th>3</th>\n",
       "      <td>no</td>\n",
       "      <td>0.446043</td>\n",
       "      <td>no</td>\n",
       "    </tr>\n",
       "  </tbody>\n",
       "</table>\n",
       "</div>"
      ],
      "text/plain": [
       "  Chest Pain      rate  CAD\n",
       "0        yes  0.944785  yes\n",
       "1         no  0.553957  yes\n",
       "2        yes  0.055215   no\n",
       "3         no  0.446043   no"
      ]
     },
     "execution_count": 95,
     "metadata": {},
     "output_type": "execute_result"
    }
   ],
   "source": [
    "count_matrix_norm[0][0]\n",
    "\n",
    "cad_df = pd.DataFrame( {'Chest Pain':[ \"yes\",\"no\",\"yes\",\"no\" ],\n",
    "              'rate':[count_matrix_norm[0][0],count_matrix_norm[1][1],count_matrix_norm[1][0],count_matrix_norm[0][1]],\n",
    "              \"CAD\": [ 'yes','yes','no','no' ]\n",
    "              } )\n",
    "cad_df"
   ]
  },
  {
   "cell_type": "code",
   "execution_count": 98,
   "metadata": {},
   "outputs": [
    {
     "data": {
      "application/vnd.plotly.v1+json": {
       "config": {
        "plotlyServerURL": "https://plot.ly"
       },
       "data": [
        {
         "alignmentgroup": "True",
         "hoverlabel": {
          "namelength": 0
         },
         "hovertemplate": "CAD=yes<br>Chest Pain=%{x}<br>rate=%{y}",
         "legendgroup": "CAD=yes",
         "marker": {
          "color": "#636efa"
         },
         "name": "CAD=yes",
         "offsetgroup": "CAD=yes",
         "orientation": "v",
         "showlegend": true,
         "textposition": "auto",
         "type": "bar",
         "x": [
          "yes",
          "no"
         ],
         "xaxis": "x",
         "y": [
          0.9447852760736196,
          0.5539568345323741
         ],
         "yaxis": "y"
        },
        {
         "alignmentgroup": "True",
         "hoverlabel": {
          "namelength": 0
         },
         "hovertemplate": "CAD=no<br>Chest Pain=%{x}<br>rate=%{y}",
         "legendgroup": "CAD=no",
         "marker": {
          "color": "#EF553B"
         },
         "name": "CAD=no",
         "offsetgroup": "CAD=no",
         "orientation": "v",
         "showlegend": true,
         "textposition": "auto",
         "type": "bar",
         "x": [
          "yes",
          "no"
         ],
         "xaxis": "x",
         "y": [
          0.05521472392638037,
          0.4460431654676259
         ],
         "yaxis": "y"
        }
       ],
       "layout": {
        "autosize": true,
        "barmode": "relative",
        "legend": {
         "tracegroupgap": 0
        },
        "margin": {
         "t": 60
        },
        "template": {
         "data": {
          "bar": [
           {
            "error_x": {
             "color": "#2a3f5f"
            },
            "error_y": {
             "color": "#2a3f5f"
            },
            "marker": {
             "line": {
              "color": "#E5ECF6",
              "width": 0.5
             }
            },
            "type": "bar"
           }
          ],
          "barpolar": [
           {
            "marker": {
             "line": {
              "color": "#E5ECF6",
              "width": 0.5
             }
            },
            "type": "barpolar"
           }
          ],
          "carpet": [
           {
            "aaxis": {
             "endlinecolor": "#2a3f5f",
             "gridcolor": "white",
             "linecolor": "white",
             "minorgridcolor": "white",
             "startlinecolor": "#2a3f5f"
            },
            "baxis": {
             "endlinecolor": "#2a3f5f",
             "gridcolor": "white",
             "linecolor": "white",
             "minorgridcolor": "white",
             "startlinecolor": "#2a3f5f"
            },
            "type": "carpet"
           }
          ],
          "choropleth": [
           {
            "colorbar": {
             "outlinewidth": 0,
             "ticks": ""
            },
            "type": "choropleth"
           }
          ],
          "contour": [
           {
            "colorbar": {
             "outlinewidth": 0,
             "ticks": ""
            },
            "colorscale": [
             [
              0,
              "#0d0887"
             ],
             [
              0.1111111111111111,
              "#46039f"
             ],
             [
              0.2222222222222222,
              "#7201a8"
             ],
             [
              0.3333333333333333,
              "#9c179e"
             ],
             [
              0.4444444444444444,
              "#bd3786"
             ],
             [
              0.5555555555555556,
              "#d8576b"
             ],
             [
              0.6666666666666666,
              "#ed7953"
             ],
             [
              0.7777777777777778,
              "#fb9f3a"
             ],
             [
              0.8888888888888888,
              "#fdca26"
             ],
             [
              1,
              "#f0f921"
             ]
            ],
            "type": "contour"
           }
          ],
          "contourcarpet": [
           {
            "colorbar": {
             "outlinewidth": 0,
             "ticks": ""
            },
            "type": "contourcarpet"
           }
          ],
          "heatmap": [
           {
            "colorbar": {
             "outlinewidth": 0,
             "ticks": ""
            },
            "colorscale": [
             [
              0,
              "#0d0887"
             ],
             [
              0.1111111111111111,
              "#46039f"
             ],
             [
              0.2222222222222222,
              "#7201a8"
             ],
             [
              0.3333333333333333,
              "#9c179e"
             ],
             [
              0.4444444444444444,
              "#bd3786"
             ],
             [
              0.5555555555555556,
              "#d8576b"
             ],
             [
              0.6666666666666666,
              "#ed7953"
             ],
             [
              0.7777777777777778,
              "#fb9f3a"
             ],
             [
              0.8888888888888888,
              "#fdca26"
             ],
             [
              1,
              "#f0f921"
             ]
            ],
            "type": "heatmap"
           }
          ],
          "heatmapgl": [
           {
            "colorbar": {
             "outlinewidth": 0,
             "ticks": ""
            },
            "colorscale": [
             [
              0,
              "#0d0887"
             ],
             [
              0.1111111111111111,
              "#46039f"
             ],
             [
              0.2222222222222222,
              "#7201a8"
             ],
             [
              0.3333333333333333,
              "#9c179e"
             ],
             [
              0.4444444444444444,
              "#bd3786"
             ],
             [
              0.5555555555555556,
              "#d8576b"
             ],
             [
              0.6666666666666666,
              "#ed7953"
             ],
             [
              0.7777777777777778,
              "#fb9f3a"
             ],
             [
              0.8888888888888888,
              "#fdca26"
             ],
             [
              1,
              "#f0f921"
             ]
            ],
            "type": "heatmapgl"
           }
          ],
          "histogram": [
           {
            "marker": {
             "colorbar": {
              "outlinewidth": 0,
              "ticks": ""
             }
            },
            "type": "histogram"
           }
          ],
          "histogram2d": [
           {
            "colorbar": {
             "outlinewidth": 0,
             "ticks": ""
            },
            "colorscale": [
             [
              0,
              "#0d0887"
             ],
             [
              0.1111111111111111,
              "#46039f"
             ],
             [
              0.2222222222222222,
              "#7201a8"
             ],
             [
              0.3333333333333333,
              "#9c179e"
             ],
             [
              0.4444444444444444,
              "#bd3786"
             ],
             [
              0.5555555555555556,
              "#d8576b"
             ],
             [
              0.6666666666666666,
              "#ed7953"
             ],
             [
              0.7777777777777778,
              "#fb9f3a"
             ],
             [
              0.8888888888888888,
              "#fdca26"
             ],
             [
              1,
              "#f0f921"
             ]
            ],
            "type": "histogram2d"
           }
          ],
          "histogram2dcontour": [
           {
            "colorbar": {
             "outlinewidth": 0,
             "ticks": ""
            },
            "colorscale": [
             [
              0,
              "#0d0887"
             ],
             [
              0.1111111111111111,
              "#46039f"
             ],
             [
              0.2222222222222222,
              "#7201a8"
             ],
             [
              0.3333333333333333,
              "#9c179e"
             ],
             [
              0.4444444444444444,
              "#bd3786"
             ],
             [
              0.5555555555555556,
              "#d8576b"
             ],
             [
              0.6666666666666666,
              "#ed7953"
             ],
             [
              0.7777777777777778,
              "#fb9f3a"
             ],
             [
              0.8888888888888888,
              "#fdca26"
             ],
             [
              1,
              "#f0f921"
             ]
            ],
            "type": "histogram2dcontour"
           }
          ],
          "mesh3d": [
           {
            "colorbar": {
             "outlinewidth": 0,
             "ticks": ""
            },
            "type": "mesh3d"
           }
          ],
          "parcoords": [
           {
            "line": {
             "colorbar": {
              "outlinewidth": 0,
              "ticks": ""
             }
            },
            "type": "parcoords"
           }
          ],
          "scatter": [
           {
            "marker": {
             "colorbar": {
              "outlinewidth": 0,
              "ticks": ""
             }
            },
            "type": "scatter"
           }
          ],
          "scatter3d": [
           {
            "line": {
             "colorbar": {
              "outlinewidth": 0,
              "ticks": ""
             }
            },
            "marker": {
             "colorbar": {
              "outlinewidth": 0,
              "ticks": ""
             }
            },
            "type": "scatter3d"
           }
          ],
          "scattercarpet": [
           {
            "marker": {
             "colorbar": {
              "outlinewidth": 0,
              "ticks": ""
             }
            },
            "type": "scattercarpet"
           }
          ],
          "scattergeo": [
           {
            "marker": {
             "colorbar": {
              "outlinewidth": 0,
              "ticks": ""
             }
            },
            "type": "scattergeo"
           }
          ],
          "scattergl": [
           {
            "marker": {
             "colorbar": {
              "outlinewidth": 0,
              "ticks": ""
             }
            },
            "type": "scattergl"
           }
          ],
          "scattermapbox": [
           {
            "marker": {
             "colorbar": {
              "outlinewidth": 0,
              "ticks": ""
             }
            },
            "type": "scattermapbox"
           }
          ],
          "scatterpolar": [
           {
            "marker": {
             "colorbar": {
              "outlinewidth": 0,
              "ticks": ""
             }
            },
            "type": "scatterpolar"
           }
          ],
          "scatterpolargl": [
           {
            "marker": {
             "colorbar": {
              "outlinewidth": 0,
              "ticks": ""
             }
            },
            "type": "scatterpolargl"
           }
          ],
          "scatterternary": [
           {
            "marker": {
             "colorbar": {
              "outlinewidth": 0,
              "ticks": ""
             }
            },
            "type": "scatterternary"
           }
          ],
          "surface": [
           {
            "colorbar": {
             "outlinewidth": 0,
             "ticks": ""
            },
            "colorscale": [
             [
              0,
              "#0d0887"
             ],
             [
              0.1111111111111111,
              "#46039f"
             ],
             [
              0.2222222222222222,
              "#7201a8"
             ],
             [
              0.3333333333333333,
              "#9c179e"
             ],
             [
              0.4444444444444444,
              "#bd3786"
             ],
             [
              0.5555555555555556,
              "#d8576b"
             ],
             [
              0.6666666666666666,
              "#ed7953"
             ],
             [
              0.7777777777777778,
              "#fb9f3a"
             ],
             [
              0.8888888888888888,
              "#fdca26"
             ],
             [
              1,
              "#f0f921"
             ]
            ],
            "type": "surface"
           }
          ],
          "table": [
           {
            "cells": {
             "fill": {
              "color": "#EBF0F8"
             },
             "line": {
              "color": "white"
             }
            },
            "header": {
             "fill": {
              "color": "#C8D4E3"
             },
             "line": {
              "color": "white"
             }
            },
            "type": "table"
           }
          ]
         },
         "layout": {
          "annotationdefaults": {
           "arrowcolor": "#2a3f5f",
           "arrowhead": 0,
           "arrowwidth": 1
          },
          "colorscale": {
           "diverging": [
            [
             0,
             "#8e0152"
            ],
            [
             0.1,
             "#c51b7d"
            ],
            [
             0.2,
             "#de77ae"
            ],
            [
             0.3,
             "#f1b6da"
            ],
            [
             0.4,
             "#fde0ef"
            ],
            [
             0.5,
             "#f7f7f7"
            ],
            [
             0.6,
             "#e6f5d0"
            ],
            [
             0.7,
             "#b8e186"
            ],
            [
             0.8,
             "#7fbc41"
            ],
            [
             0.9,
             "#4d9221"
            ],
            [
             1,
             "#276419"
            ]
           ],
           "sequential": [
            [
             0,
             "#0d0887"
            ],
            [
             0.1111111111111111,
             "#46039f"
            ],
            [
             0.2222222222222222,
             "#7201a8"
            ],
            [
             0.3333333333333333,
             "#9c179e"
            ],
            [
             0.4444444444444444,
             "#bd3786"
            ],
            [
             0.5555555555555556,
             "#d8576b"
            ],
            [
             0.6666666666666666,
             "#ed7953"
            ],
            [
             0.7777777777777778,
             "#fb9f3a"
            ],
            [
             0.8888888888888888,
             "#fdca26"
            ],
            [
             1,
             "#f0f921"
            ]
           ],
           "sequentialminus": [
            [
             0,
             "#0d0887"
            ],
            [
             0.1111111111111111,
             "#46039f"
            ],
            [
             0.2222222222222222,
             "#7201a8"
            ],
            [
             0.3333333333333333,
             "#9c179e"
            ],
            [
             0.4444444444444444,
             "#bd3786"
            ],
            [
             0.5555555555555556,
             "#d8576b"
            ],
            [
             0.6666666666666666,
             "#ed7953"
            ],
            [
             0.7777777777777778,
             "#fb9f3a"
            ],
            [
             0.8888888888888888,
             "#fdca26"
            ],
            [
             1,
             "#f0f921"
            ]
           ]
          },
          "colorway": [
           "#636efa",
           "#EF553B",
           "#00cc96",
           "#ab63fa",
           "#FFA15A",
           "#19d3f3",
           "#FF6692",
           "#B6E880",
           "#FF97FF",
           "#FECB52"
          ],
          "font": {
           "color": "#2a3f5f"
          },
          "geo": {
           "bgcolor": "white",
           "lakecolor": "white",
           "landcolor": "#E5ECF6",
           "showlakes": true,
           "showland": true,
           "subunitcolor": "white"
          },
          "hoverlabel": {
           "align": "left"
          },
          "hovermode": "closest",
          "mapbox": {
           "style": "light"
          },
          "paper_bgcolor": "white",
          "plot_bgcolor": "#E5ECF6",
          "polar": {
           "angularaxis": {
            "gridcolor": "white",
            "linecolor": "white",
            "ticks": ""
           },
           "bgcolor": "#E5ECF6",
           "radialaxis": {
            "gridcolor": "white",
            "linecolor": "white",
            "ticks": ""
           }
          },
          "scene": {
           "xaxis": {
            "backgroundcolor": "#E5ECF6",
            "gridcolor": "white",
            "gridwidth": 2,
            "linecolor": "white",
            "showbackground": true,
            "ticks": "",
            "zerolinecolor": "white"
           },
           "yaxis": {
            "backgroundcolor": "#E5ECF6",
            "gridcolor": "white",
            "gridwidth": 2,
            "linecolor": "white",
            "showbackground": true,
            "ticks": "",
            "zerolinecolor": "white"
           },
           "zaxis": {
            "backgroundcolor": "#E5ECF6",
            "gridcolor": "white",
            "gridwidth": 2,
            "linecolor": "white",
            "showbackground": true,
            "ticks": "",
            "zerolinecolor": "white"
           }
          },
          "shapedefaults": {
           "line": {
            "color": "#2a3f5f"
           }
          },
          "ternary": {
           "aaxis": {
            "gridcolor": "white",
            "linecolor": "white",
            "ticks": ""
           },
           "baxis": {
            "gridcolor": "white",
            "linecolor": "white",
            "ticks": ""
           },
           "bgcolor": "#E5ECF6",
           "caxis": {
            "gridcolor": "white",
            "linecolor": "white",
            "ticks": ""
           }
          },
          "title": {
           "x": 0.05
          },
          "xaxis": {
           "automargin": true,
           "gridcolor": "white",
           "linecolor": "white",
           "ticks": "",
           "zerolinecolor": "white",
           "zerolinewidth": 2
          },
          "yaxis": {
           "automargin": true,
           "gridcolor": "white",
           "linecolor": "white",
           "ticks": "",
           "zerolinecolor": "white",
           "zerolinewidth": 2
          }
         }
        },
        "xaxis": {
         "anchor": "y",
         "autorange": true,
         "domain": [
          0,
          0.98
         ],
         "range": [
          -0.5,
          1.5
         ],
         "title": {
          "text": "Chest Pain"
         },
         "type": "category"
        },
        "yaxis": {
         "anchor": "x",
         "autorange": true,
         "domain": [
          0,
          1
         ],
         "range": [
          0,
          1.0526315789473684
         ],
         "title": {
          "text": "Ratio"
         },
         "type": "linear"
        }
       }
      },
      "image/png": "[encoded data removed]",
      "text/html": [
       "<div>\n",
       "        \n",
       "        \n",
       "            <div id=\"0dc66974-9166-4044-9b15-d3c36f9bbf70\" class=\"plotly-graph-div\" style=\"height:600px; width:100%;\"></div>\n",
       "            <script type=\"text/javascript\">\n",
       "                require([\"plotly\"], function(Plotly) {\n",
       "                    window.PLOTLYENV=window.PLOTLYENV || {};\n",
       "                    \n",
       "                if (document.getElementById(\"0dc66974-9166-4044-9b15-d3c36f9bbf70\")) {\n",
       "                    Plotly.newPlot(\n",
       "                        '0dc66974-9166-4044-9b15-d3c36f9bbf70',\n",
       "                        [{\"alignmentgroup\": \"True\", \"hoverlabel\": {\"namelength\": 0}, \"hovertemplate\": \"CAD=yes<br>Chest Pain=%{x}<br>rate=%{y}\", \"legendgroup\": \"CAD=yes\", \"marker\": {\"color\": \"#636efa\"}, \"name\": \"CAD=yes\", \"offsetgroup\": \"CAD=yes\", \"orientation\": \"v\", \"showlegend\": true, \"textposition\": \"auto\", \"type\": \"bar\", \"x\": [\"yes\", \"no\"], \"xaxis\": \"x\", \"y\": [0.9447852760736196, 0.5539568345323741], \"yaxis\": \"y\"}, {\"alignmentgroup\": \"True\", \"hoverlabel\": {\"namelength\": 0}, \"hovertemplate\": \"CAD=no<br>Chest Pain=%{x}<br>rate=%{y}\", \"legendgroup\": \"CAD=no\", \"marker\": {\"color\": \"#EF553B\"}, \"name\": \"CAD=no\", \"offsetgroup\": \"CAD=no\", \"orientation\": \"v\", \"showlegend\": true, \"textposition\": \"auto\", \"type\": \"bar\", \"x\": [\"yes\", \"no\"], \"xaxis\": \"x\", \"y\": [0.05521472392638037, 0.4460431654676259], \"yaxis\": \"y\"}],\n",
       "                        {\"barmode\": \"relative\", \"height\": 600, \"legend\": {\"tracegroupgap\": 0}, \"margin\": {\"t\": 60}, \"template\": {\"data\": {\"bar\": [{\"error_x\": {\"color\": \"#2a3f5f\"}, \"error_y\": {\"color\": \"#2a3f5f\"}, \"marker\": {\"line\": {\"color\": \"#E5ECF6\", \"width\": 0.5}}, \"type\": \"bar\"}], \"barpolar\": [{\"marker\": {\"line\": {\"color\": \"#E5ECF6\", \"width\": 0.5}}, \"type\": \"barpolar\"}], \"carpet\": [{\"aaxis\": {\"endlinecolor\": \"#2a3f5f\", \"gridcolor\": \"white\", \"linecolor\": \"white\", \"minorgridcolor\": \"white\", \"startlinecolor\": \"#2a3f5f\"}, \"baxis\": {\"endlinecolor\": \"#2a3f5f\", \"gridcolor\": \"white\", \"linecolor\": \"white\", \"minorgridcolor\": \"white\", \"startlinecolor\": \"#2a3f5f\"}, \"type\": \"carpet\"}], \"choropleth\": [{\"colorbar\": {\"outlinewidth\": 0, \"ticks\": \"\"}, \"type\": \"choropleth\"}], \"contour\": [{\"colorbar\": {\"outlinewidth\": 0, \"ticks\": \"\"}, \"colorscale\": [[0.0, \"#0d0887\"], [0.1111111111111111, \"#46039f\"], [0.2222222222222222, \"#7201a8\"], [0.3333333333333333, \"#9c179e\"], [0.4444444444444444, \"#bd3786\"], [0.5555555555555556, \"#d8576b\"], [0.6666666666666666, \"#ed7953\"], [0.7777777777777778, \"#fb9f3a\"], [0.8888888888888888, \"#fdca26\"], [1.0, \"#f0f921\"]], \"type\": \"contour\"}], \"contourcarpet\": [{\"colorbar\": {\"outlinewidth\": 0, \"ticks\": \"\"}, \"type\": \"contourcarpet\"}], \"heatmap\": [{\"colorbar\": {\"outlinewidth\": 0, \"ticks\": \"\"}, \"colorscale\": [[0.0, \"#0d0887\"], [0.1111111111111111, \"#46039f\"], [0.2222222222222222, \"#7201a8\"], [0.3333333333333333, \"#9c179e\"], [0.4444444444444444, \"#bd3786\"], [0.5555555555555556, \"#d8576b\"], [0.6666666666666666, \"#ed7953\"], [0.7777777777777778, \"#fb9f3a\"], [0.8888888888888888, \"#fdca26\"], [1.0, \"#f0f921\"]], \"type\": \"heatmap\"}], \"heatmapgl\": [{\"colorbar\": {\"outlinewidth\": 0, \"ticks\": \"\"}, \"colorscale\": [[0.0, \"#0d0887\"], [0.1111111111111111, \"#46039f\"], [0.2222222222222222, \"#7201a8\"], [0.3333333333333333, \"#9c179e\"], [0.4444444444444444, \"#bd3786\"], [0.5555555555555556, \"#d8576b\"], [0.6666666666666666, \"#ed7953\"], [0.7777777777777778, \"#fb9f3a\"], [0.8888888888888888, \"#fdca26\"], [1.0, \"#f0f921\"]], \"type\": \"heatmapgl\"}], \"histogram\": [{\"marker\": {\"colorbar\": {\"outlinewidth\": 0, \"ticks\": \"\"}}, \"type\": \"histogram\"}], \"histogram2d\": [{\"colorbar\": {\"outlinewidth\": 0, \"ticks\": \"\"}, \"colorscale\": [[0.0, \"#0d0887\"], [0.1111111111111111, \"#46039f\"], [0.2222222222222222, \"#7201a8\"], [0.3333333333333333, \"#9c179e\"], [0.4444444444444444, \"#bd3786\"], [0.5555555555555556, \"#d8576b\"], [0.6666666666666666, \"#ed7953\"], [0.7777777777777778, \"#fb9f3a\"], [0.8888888888888888, \"#fdca26\"], [1.0, \"#f0f921\"]], \"type\": \"histogram2d\"}], \"histogram2dcontour\": [{\"colorbar\": {\"outlinewidth\": 0, \"ticks\": \"\"}, \"colorscale\": [[0.0, \"#0d0887\"], [0.1111111111111111, \"#46039f\"], [0.2222222222222222, \"#7201a8\"], [0.3333333333333333, \"#9c179e\"], [0.4444444444444444, \"#bd3786\"], [0.5555555555555556, \"#d8576b\"], [0.6666666666666666, \"#ed7953\"], [0.7777777777777778, \"#fb9f3a\"], [0.8888888888888888, \"#fdca26\"], [1.0, \"#f0f921\"]], \"type\": \"histogram2dcontour\"}], \"mesh3d\": [{\"colorbar\": {\"outlinewidth\": 0, \"ticks\": \"\"}, \"type\": \"mesh3d\"}], \"parcoords\": [{\"line\": {\"colorbar\": {\"outlinewidth\": 0, \"ticks\": \"\"}}, \"type\": \"parcoords\"}], \"scatter\": [{\"marker\": {\"colorbar\": {\"outlinewidth\": 0, \"ticks\": \"\"}}, \"type\": \"scatter\"}], \"scatter3d\": [{\"line\": {\"colorbar\": {\"outlinewidth\": 0, \"ticks\": \"\"}}, \"marker\": {\"colorbar\": {\"outlinewidth\": 0, \"ticks\": \"\"}}, \"type\": \"scatter3d\"}], \"scattercarpet\": [{\"marker\": {\"colorbar\": {\"outlinewidth\": 0, \"ticks\": \"\"}}, \"type\": \"scattercarpet\"}], \"scattergeo\": [{\"marker\": {\"colorbar\": {\"outlinewidth\": 0, \"ticks\": \"\"}}, \"type\": \"scattergeo\"}], \"scattergl\": [{\"marker\": {\"colorbar\": {\"outlinewidth\": 0, \"ticks\": \"\"}}, \"type\": \"scattergl\"}], \"scattermapbox\": [{\"marker\": {\"colorbar\": {\"outlinewidth\": 0, \"ticks\": \"\"}}, \"type\": \"scattermapbox\"}], \"scatterpolar\": [{\"marker\": {\"colorbar\": {\"outlinewidth\": 0, \"ticks\": \"\"}}, \"type\": \"scatterpolar\"}], \"scatterpolargl\": [{\"marker\": {\"colorbar\": {\"outlinewidth\": 0, \"ticks\": \"\"}}, \"type\": \"scatterpolargl\"}], \"scatterternary\": [{\"marker\": {\"colorbar\": {\"outlinewidth\": 0, \"ticks\": \"\"}}, \"type\": \"scatterternary\"}], \"surface\": [{\"colorbar\": {\"outlinewidth\": 0, \"ticks\": \"\"}, \"colorscale\": [[0.0, \"#0d0887\"], [0.1111111111111111, \"#46039f\"], [0.2222222222222222, \"#7201a8\"], [0.3333333333333333, \"#9c179e\"], [0.4444444444444444, \"#bd3786\"], [0.5555555555555556, \"#d8576b\"], [0.6666666666666666, \"#ed7953\"], [0.7777777777777778, \"#fb9f3a\"], [0.8888888888888888, \"#fdca26\"], [1.0, \"#f0f921\"]], \"type\": \"surface\"}], \"table\": [{\"cells\": {\"fill\": {\"color\": \"#EBF0F8\"}, \"line\": {\"color\": \"white\"}}, \"header\": {\"fill\": {\"color\": \"#C8D4E3\"}, \"line\": {\"color\": \"white\"}}, \"type\": \"table\"}]}, \"layout\": {\"annotationdefaults\": {\"arrowcolor\": \"#2a3f5f\", \"arrowhead\": 0, \"arrowwidth\": 1}, \"colorscale\": {\"diverging\": [[0, \"#8e0152\"], [0.1, \"#c51b7d\"], [0.2, \"#de77ae\"], [0.3, \"#f1b6da\"], [0.4, \"#fde0ef\"], [0.5, \"#f7f7f7\"], [0.6, \"#e6f5d0\"], [0.7, \"#b8e186\"], [0.8, \"#7fbc41\"], [0.9, \"#4d9221\"], [1, \"#276419\"]], \"sequential\": [[0.0, \"#0d0887\"], [0.1111111111111111, \"#46039f\"], [0.2222222222222222, \"#7201a8\"], [0.3333333333333333, \"#9c179e\"], [0.4444444444444444, \"#bd3786\"], [0.5555555555555556, \"#d8576b\"], [0.6666666666666666, \"#ed7953\"], [0.7777777777777778, \"#fb9f3a\"], [0.8888888888888888, \"#fdca26\"], [1.0, \"#f0f921\"]], \"sequentialminus\": [[0.0, \"#0d0887\"], [0.1111111111111111, \"#46039f\"], [0.2222222222222222, \"#7201a8\"], [0.3333333333333333, \"#9c179e\"], [0.4444444444444444, \"#bd3786\"], [0.5555555555555556, \"#d8576b\"], [0.6666666666666666, \"#ed7953\"], [0.7777777777777778, \"#fb9f3a\"], [0.8888888888888888, \"#fdca26\"], [1.0, \"#f0f921\"]]}, \"colorway\": [\"#636efa\", \"#EF553B\", \"#00cc96\", \"#ab63fa\", \"#FFA15A\", \"#19d3f3\", \"#FF6692\", \"#B6E880\", \"#FF97FF\", \"#FECB52\"], \"font\": {\"color\": \"#2a3f5f\"}, \"geo\": {\"bgcolor\": \"white\", \"lakecolor\": \"white\", \"landcolor\": \"#E5ECF6\", \"showlakes\": true, \"showland\": true, \"subunitcolor\": \"white\"}, \"hoverlabel\": {\"align\": \"left\"}, \"hovermode\": \"closest\", \"mapbox\": {\"style\": \"light\"}, \"paper_bgcolor\": \"white\", \"plot_bgcolor\": \"#E5ECF6\", \"polar\": {\"angularaxis\": {\"gridcolor\": \"white\", \"linecolor\": \"white\", \"ticks\": \"\"}, \"bgcolor\": \"#E5ECF6\", \"radialaxis\": {\"gridcolor\": \"white\", \"linecolor\": \"white\", \"ticks\": \"\"}}, \"scene\": {\"xaxis\": {\"backgroundcolor\": \"#E5ECF6\", \"gridcolor\": \"white\", \"gridwidth\": 2, \"linecolor\": \"white\", \"showbackground\": true, \"ticks\": \"\", \"zerolinecolor\": \"white\"}, \"yaxis\": {\"backgroundcolor\": \"#E5ECF6\", \"gridcolor\": \"white\", \"gridwidth\": 2, \"linecolor\": \"white\", \"showbackground\": true, \"ticks\": \"\", \"zerolinecolor\": \"white\"}, \"zaxis\": {\"backgroundcolor\": \"#E5ECF6\", \"gridcolor\": \"white\", \"gridwidth\": 2, \"linecolor\": \"white\", \"showbackground\": true, \"ticks\": \"\", \"zerolinecolor\": \"white\"}}, \"shapedefaults\": {\"line\": {\"color\": \"#2a3f5f\"}}, \"ternary\": {\"aaxis\": {\"gridcolor\": \"white\", \"linecolor\": \"white\", \"ticks\": \"\"}, \"baxis\": {\"gridcolor\": \"white\", \"linecolor\": \"white\", \"ticks\": \"\"}, \"bgcolor\": \"#E5ECF6\", \"caxis\": {\"gridcolor\": \"white\", \"linecolor\": \"white\", \"ticks\": \"\"}}, \"title\": {\"x\": 0.05}, \"xaxis\": {\"automargin\": true, \"gridcolor\": \"white\", \"linecolor\": \"white\", \"ticks\": \"\", \"zerolinecolor\": \"white\", \"zerolinewidth\": 2}, \"yaxis\": {\"automargin\": true, \"gridcolor\": \"white\", \"linecolor\": \"white\", \"ticks\": \"\", \"zerolinecolor\": \"white\", \"zerolinewidth\": 2}}}, \"xaxis\": {\"anchor\": \"y\", \"domain\": [0.0, 0.98], \"title\": {\"text\": \"Chest Pain\"}}, \"yaxis\": {\"anchor\": \"x\", \"domain\": [0.0, 1.0], \"title\": {\"text\": \"Ratio\"}}},\n",
       "                        {\"responsive\": true}\n",
       "                    ).then(function(){\n",
       "                            \n",
       "var gd = document.getElementById('0dc66974-9166-4044-9b15-d3c36f9bbf70');\n",
       "var x = new MutationObserver(function (mutations, observer) {{\n",
       "        var display = window.getComputedStyle(gd).display;\n",
       "        if (!display || display === 'none') {{\n",
       "            console.log([gd, 'removed!']);\n",
       "            Plotly.purge(gd);\n",
       "            observer.disconnect();\n",
       "        }}\n",
       "}});\n",
       "\n",
       "// Listen for the removal of the full notebook cells\n",
       "var notebookContainer = gd.closest('#notebook-container');\n",
       "if (notebookContainer) {{\n",
       "    x.observe(notebookContainer, {childList: true});\n",
       "}}\n",
       "\n",
       "// Listen for the clearing of the current output cell\n",
       "var outputEl = gd.closest('.output');\n",
       "if (outputEl) {{\n",
       "    x.observe(outputEl, {childList: true});\n",
       "}}\n",
       "\n",
       "                        })\n",
       "                };\n",
       "                });\n",
       "            </script>\n",
       "        </div>"
      ]
     },
     "metadata": {},
     "output_type": "display_data"
    }
   ],
   "source": [
    "import plotly.express as px\n",
    "import plotly\n",
    "fig = px.bar(cad_df,x='Chest Pain',y=\"rate\",color=\"CAD\")\n",
    "# plotly.io.orca.config.executable = '/path/to/orca'\n",
    "# plotly.io.orca.config.save()\n",
    "fig.update_layout(\n",
    "    yaxis_title=\"Ratio\"\n",
    ")\n",
    "fig.show()\n",
    "# fig.write_image(\"fig1.png\")"
   ]
  },
  {
   "cell_type": "code",
   "execution_count": 16,
   "metadata": {},
   "outputs": [
    {
     "data": {
      "text/plain": [
       "0.2871287128712871"
      ]
     },
     "execution_count": 16,
     "metadata": {},
     "output_type": "execute_result"
    }
   ],
   "source": [
    "lab_df = pd.DataFrame( {'CAD':[ \"yes\",\"no\" ],\n",
    "              'ratio':[np.mean(df['Cath'] == 'Cad'),np.mean(df['Cath'] == 'Normal')],\n",
    "              } )\n",
    "\n",
    "np.mean(df['Cath'] == 'Cad')\n",
    "np.mean(df['Cath'] == 'Normal')"
   ]
  },
  {
   "cell_type": "code",
   "execution_count": 17,
   "metadata": {},
   "outputs": [
    {
     "data": {
      "application/vnd.plotly.v1+json": {
       "config": {
        "plotlyServerURL": "https://plot.ly"
       },
       "data": [
        {
         "alignmentgroup": "True",
         "hoverlabel": {
          "namelength": 0
         },
         "hovertemplate": "CAD=%{x}<br>ratio=%{y}",
         "legendgroup": "CAD=yes",
         "marker": {
          "color": "#636efa"
         },
         "name": "CAD=yes",
         "offsetgroup": "CAD=yes",
         "orientation": "v",
         "showlegend": true,
         "textposition": "auto",
         "type": "bar",
         "x": [
          "yes"
         ],
         "xaxis": "x",
         "y": [
          0.7128712871287128
         ],
         "yaxis": "y"
        },
        {
         "alignmentgroup": "True",
         "hoverlabel": {
          "namelength": 0
         },
         "hovertemplate": "CAD=%{x}<br>ratio=%{y}",
         "legendgroup": "CAD=no",
         "marker": {
          "color": "#EF553B"
         },
         "name": "CAD=no",
         "offsetgroup": "CAD=no",
         "orientation": "v",
         "showlegend": true,
         "textposition": "auto",
         "type": "bar",
         "x": [
          "no"
         ],
         "xaxis": "x",
         "y": [
          0.2871287128712871
         ],
         "yaxis": "y"
        }
       ],
       "layout": {
        "autosize": true,
        "barmode": "relative",
        "legend": {
         "tracegroupgap": 0
        },
        "margin": {
         "t": 60
        },
        "template": {
         "data": {
          "bar": [
           {
            "error_x": {
             "color": "#2a3f5f"
            },
            "error_y": {
             "color": "#2a3f5f"
            },
            "marker": {
             "line": {
              "color": "#E5ECF6",
              "width": 0.5
             }
            },
            "type": "bar"
           }
          ],
          "barpolar": [
           {
            "marker": {
             "line": {
              "color": "#E5ECF6",
              "width": 0.5
             }
            },
            "type": "barpolar"
           }
          ],
          "carpet": [
           {
            "aaxis": {
             "endlinecolor": "#2a3f5f",
             "gridcolor": "white",
             "linecolor": "white",
             "minorgridcolor": "white",
             "startlinecolor": "#2a3f5f"
            },
            "baxis": {
             "endlinecolor": "#2a3f5f",
             "gridcolor": "white",
             "linecolor": "white",
             "minorgridcolor": "white",
             "startlinecolor": "#2a3f5f"
            },
            "type": "carpet"
           }
          ],
          "choropleth": [
           {
            "colorbar": {
             "outlinewidth": 0,
             "ticks": ""
            },
            "type": "choropleth"
           }
          ],
          "contour": [
           {
            "colorbar": {
             "outlinewidth": 0,
             "ticks": ""
            },
            "colorscale": [
             [
              0,
              "#0d0887"
             ],
             [
              0.1111111111111111,
              "#46039f"
             ],
             [
              0.2222222222222222,
              "#7201a8"
             ],
             [
              0.3333333333333333,
              "#9c179e"
             ],
             [
              0.4444444444444444,
              "#bd3786"
             ],
             [
              0.5555555555555556,
              "#d8576b"
             ],
             [
              0.6666666666666666,
              "#ed7953"
             ],
             [
              0.7777777777777778,
              "#fb9f3a"
             ],
             [
              0.8888888888888888,
              "#fdca26"
             ],
             [
              1,
              "#f0f921"
             ]
            ],
            "type": "contour"
           }
          ],
          "contourcarpet": [
           {
            "colorbar": {
             "outlinewidth": 0,
             "ticks": ""
            },
            "type": "contourcarpet"
           }
          ],
          "heatmap": [
           {
            "colorbar": {
             "outlinewidth": 0,
             "ticks": ""
            },
            "colorscale": [
             [
              0,
              "#0d0887"
             ],
             [
              0.1111111111111111,
              "#46039f"
             ],
             [
              0.2222222222222222,
              "#7201a8"
             ],
             [
              0.3333333333333333,
              "#9c179e"
             ],
             [
              0.4444444444444444,
              "#bd3786"
             ],
             [
              0.5555555555555556,
              "#d8576b"
             ],
             [
              0.6666666666666666,
              "#ed7953"
             ],
             [
              0.7777777777777778,
              "#fb9f3a"
             ],
             [
              0.8888888888888888,
              "#fdca26"
             ],
             [
              1,
              "#f0f921"
             ]
            ],
            "type": "heatmap"
           }
          ],
          "heatmapgl": [
           {
            "colorbar": {
             "outlinewidth": 0,
             "ticks": ""
            },
            "colorscale": [
             [
              0,
              "#0d0887"
             ],
             [
              0.1111111111111111,
              "#46039f"
             ],
             [
              0.2222222222222222,
              "#7201a8"
             ],
             [
              0.3333333333333333,
              "#9c179e"
             ],
             [
              0.4444444444444444,
              "#bd3786"
             ],
             [
              0.5555555555555556,
              "#d8576b"
             ],
             [
              0.6666666666666666,
              "#ed7953"
             ],
             [
              0.7777777777777778,
              "#fb9f3a"
             ],
             [
              0.8888888888888888,
              "#fdca26"
             ],
             [
              1,
              "#f0f921"
             ]
            ],
            "type": "heatmapgl"
           }
          ],
          "histogram": [
           {
            "marker": {
             "colorbar": {
              "outlinewidth": 0,
              "ticks": ""
             }
            },
            "type": "histogram"
           }
          ],
          "histogram2d": [
           {
            "colorbar": {
             "outlinewidth": 0,
             "ticks": ""
            },
            "colorscale": [
             [
              0,
              "#0d0887"
             ],
             [
              0.1111111111111111,
              "#46039f"
             ],
             [
              0.2222222222222222,
              "#7201a8"
             ],
             [
              0.3333333333333333,
              "#9c179e"
             ],
             [
              0.4444444444444444,
              "#bd3786"
             ],
             [
              0.5555555555555556,
              "#d8576b"
             ],
             [
              0.6666666666666666,
              "#ed7953"
             ],
             [
              0.7777777777777778,
              "#fb9f3a"
             ],
             [
              0.8888888888888888,
              "#fdca26"
             ],
             [
              1,
              "#f0f921"
             ]
            ],
            "type": "histogram2d"
           }
          ],
          "histogram2dcontour": [
           {
            "colorbar": {
             "outlinewidth": 0,
             "ticks": ""
            },
            "colorscale": [
             [
              0,
              "#0d0887"
             ],
             [
              0.1111111111111111,
              "#46039f"
             ],
             [
              0.2222222222222222,
              "#7201a8"
             ],
             [
              0.3333333333333333,
              "#9c179e"
             ],
             [
              0.4444444444444444,
              "#bd3786"
             ],
             [
              0.5555555555555556,
              "#d8576b"
             ],
             [
              0.6666666666666666,
              "#ed7953"
             ],
             [
              0.7777777777777778,
              "#fb9f3a"
             ],
             [
              0.8888888888888888,
              "#fdca26"
             ],
             [
              1,
              "#f0f921"
             ]
            ],
            "type": "histogram2dcontour"
           }
          ],
          "mesh3d": [
           {
            "colorbar": {
             "outlinewidth": 0,
             "ticks": ""
            },
            "type": "mesh3d"
           }
          ],
          "parcoords": [
           {
            "line": {
             "colorbar": {
              "outlinewidth": 0,
              "ticks": ""
             }
            },
            "type": "parcoords"
           }
          ],
          "scatter": [
           {
            "marker": {
             "colorbar": {
              "outlinewidth": 0,
              "ticks": ""
             }
            },
            "type": "scatter"
           }
          ],
          "scatter3d": [
           {
            "line": {
             "colorbar": {
              "outlinewidth": 0,
              "ticks": ""
             }
            },
            "marker": {
             "colorbar": {
              "outlinewidth": 0,
              "ticks": ""
             }
            },
            "type": "scatter3d"
           }
          ],
          "scattercarpet": [
           {
            "marker": {
             "colorbar": {
              "outlinewidth": 0,
              "ticks": ""
             }
            },
            "type": "scattercarpet"
           }
          ],
          "scattergeo": [
           {
            "marker": {
             "colorbar": {
              "outlinewidth": 0,
              "ticks": ""
             }
            },
            "type": "scattergeo"
           }
          ],
          "scattergl": [
           {
            "marker": {
             "colorbar": {
              "outlinewidth": 0,
              "ticks": ""
             }
            },
            "type": "scattergl"
           }
          ],
          "scattermapbox": [
           {
            "marker": {
             "colorbar": {
              "outlinewidth": 0,
              "ticks": ""
             }
            },
            "type": "scattermapbox"
           }
          ],
          "scatterpolar": [
           {
            "marker": {
             "colorbar": {
              "outlinewidth": 0,
              "ticks": ""
             }
            },
            "type": "scatterpolar"
           }
          ],
          "scatterpolargl": [
           {
            "marker": {
             "colorbar": {
              "outlinewidth": 0,
              "ticks": ""
             }
            },
            "type": "scatterpolargl"
           }
          ],
          "scatterternary": [
           {
            "marker": {
             "colorbar": {
              "outlinewidth": 0,
              "ticks": ""
             }
            },
            "type": "scatterternary"
           }
          ],
          "surface": [
           {
            "colorbar": {
             "outlinewidth": 0,
             "ticks": ""
            },
            "colorscale": [
             [
              0,
              "#0d0887"
             ],
             [
              0.1111111111111111,
              "#46039f"
             ],
             [
              0.2222222222222222,
              "#7201a8"
             ],
             [
              0.3333333333333333,
              "#9c179e"
             ],
             [
              0.4444444444444444,
              "#bd3786"
             ],
             [
              0.5555555555555556,
              "#d8576b"
             ],
             [
              0.6666666666666666,
              "#ed7953"
             ],
             [
              0.7777777777777778,
              "#fb9f3a"
             ],
             [
              0.8888888888888888,
              "#fdca26"
             ],
             [
              1,
              "#f0f921"
             ]
            ],
            "type": "surface"
           }
          ],
          "table": [
           {
            "cells": {
             "fill": {
              "color": "#EBF0F8"
             },
             "line": {
              "color": "white"
             }
            },
            "header": {
             "fill": {
              "color": "#C8D4E3"
             },
             "line": {
              "color": "white"
             }
            },
            "type": "table"
           }
          ]
         },
         "layout": {
          "annotationdefaults": {
           "arrowcolor": "#2a3f5f",
           "arrowhead": 0,
           "arrowwidth": 1
          },
          "colorscale": {
           "diverging": [
            [
             0,
             "#8e0152"
            ],
            [
             0.1,
             "#c51b7d"
            ],
            [
             0.2,
             "#de77ae"
            ],
            [
             0.3,
             "#f1b6da"
            ],
            [
             0.4,
             "#fde0ef"
            ],
            [
             0.5,
             "#f7f7f7"
            ],
            [
             0.6,
             "#e6f5d0"
            ],
            [
             0.7,
             "#b8e186"
            ],
            [
             0.8,
             "#7fbc41"
            ],
            [
             0.9,
             "#4d9221"
            ],
            [
             1,
             "#276419"
            ]
           ],
           "sequential": [
            [
             0,
             "#0d0887"
            ],
            [
             0.1111111111111111,
             "#46039f"
            ],
            [
             0.2222222222222222,
             "#7201a8"
            ],
            [
             0.3333333333333333,
             "#9c179e"
            ],
            [
             0.4444444444444444,
             "#bd3786"
            ],
            [
             0.5555555555555556,
             "#d8576b"
            ],
            [
             0.6666666666666666,
             "#ed7953"
            ],
            [
             0.7777777777777778,
             "#fb9f3a"
            ],
            [
             0.8888888888888888,
             "#fdca26"
            ],
            [
             1,
             "#f0f921"
            ]
           ],
           "sequentialminus": [
            [
             0,
             "#0d0887"
            ],
            [
             0.1111111111111111,
             "#46039f"
            ],
            [
             0.2222222222222222,
             "#7201a8"
            ],
            [
             0.3333333333333333,
             "#9c179e"
            ],
            [
             0.4444444444444444,
             "#bd3786"
            ],
            [
             0.5555555555555556,
             "#d8576b"
            ],
            [
             0.6666666666666666,
             "#ed7953"
            ],
            [
             0.7777777777777778,
             "#fb9f3a"
            ],
            [
             0.8888888888888888,
             "#fdca26"
            ],
            [
             1,
             "#f0f921"
            ]
           ]
          },
          "colorway": [
           "#636efa",
           "#EF553B",
           "#00cc96",
           "#ab63fa",
           "#FFA15A",
           "#19d3f3",
           "#FF6692",
           "#B6E880",
           "#FF97FF",
           "#FECB52"
          ],
          "font": {
           "color": "#2a3f5f"
          },
          "geo": {
           "bgcolor": "white",
           "lakecolor": "white",
           "landcolor": "#E5ECF6",
           "showlakes": true,
           "showland": true,
           "subunitcolor": "white"
          },
          "hoverlabel": {
           "align": "left"
          },
          "hovermode": "closest",
          "mapbox": {
           "style": "light"
          },
          "paper_bgcolor": "white",
          "plot_bgcolor": "#E5ECF6",
          "polar": {
           "angularaxis": {
            "gridcolor": "white",
            "linecolor": "white",
            "ticks": ""
           },
           "bgcolor": "#E5ECF6",
           "radialaxis": {
            "gridcolor": "white",
            "linecolor": "white",
            "ticks": ""
           }
          },
          "scene": {
           "xaxis": {
            "backgroundcolor": "#E5ECF6",
            "gridcolor": "white",
            "gridwidth": 2,
            "linecolor": "white",
            "showbackground": true,
            "ticks": "",
            "zerolinecolor": "white"
           },
           "yaxis": {
            "backgroundcolor": "#E5ECF6",
            "gridcolor": "white",
            "gridwidth": 2,
            "linecolor": "white",
            "showbackground": true,
            "ticks": "",
            "zerolinecolor": "white"
           },
           "zaxis": {
            "backgroundcolor": "#E5ECF6",
            "gridcolor": "white",
            "gridwidth": 2,
            "linecolor": "white",
            "showbackground": true,
            "ticks": "",
            "zerolinecolor": "white"
           }
          },
          "shapedefaults": {
           "line": {
            "color": "#2a3f5f"
           }
          },
          "ternary": {
           "aaxis": {
            "gridcolor": "white",
            "linecolor": "white",
            "ticks": ""
           },
           "baxis": {
            "gridcolor": "white",
            "linecolor": "white",
            "ticks": ""
           },
           "bgcolor": "#E5ECF6",
           "caxis": {
            "gridcolor": "white",
            "linecolor": "white",
            "ticks": ""
           }
          },
          "title": {
           "x": 0.05
          },
          "xaxis": {
           "automargin": true,
           "gridcolor": "white",
           "linecolor": "white",
           "ticks": "",
           "zerolinecolor": "white",
           "zerolinewidth": 2
          },
          "yaxis": {
           "automargin": true,
           "gridcolor": "white",
           "linecolor": "white",
           "ticks": "",
           "zerolinecolor": "white",
           "zerolinewidth": 2
          }
         }
        },
        "xaxis": {
         "anchor": "y",
         "autorange": true,
         "categoryarray": [
          "yes",
          "no"
         ],
         "categoryorder": "array",
         "domain": [
          0,
          0.98
         ],
         "range": [
          -0.5,
          1.5
         ],
         "title": {
          "text": "CAD"
         },
         "type": "category"
        },
        "yaxis": {
         "anchor": "x",
         "autorange": true,
         "domain": [
          0,
          1
         ],
         "range": [
          0,
          0.7503908285565398
         ],
         "title": {
          "text": "ratio"
         },
         "type": "linear"
        }
       }
      },
      "image/png": "[encoded data removed]",
      "text/html": [
       "<div>\n",
       "        \n",
       "        \n",
       "            <div id=\"8a136474-cbd7-4ccd-a6b0-9ffc7aa7ab2f\" class=\"plotly-graph-div\" style=\"height:600px; width:100%;\"></div>\n",
       "            <script type=\"text/javascript\">\n",
       "                require([\"plotly\"], function(Plotly) {\n",
       "                    window.PLOTLYENV=window.PLOTLYENV || {};\n",
       "                    \n",
       "                if (document.getElementById(\"8a136474-cbd7-4ccd-a6b0-9ffc7aa7ab2f\")) {\n",
       "                    Plotly.newPlot(\n",
       "                        '8a136474-cbd7-4ccd-a6b0-9ffc7aa7ab2f',\n",
       "                        [{\"alignmentgroup\": \"True\", \"hoverlabel\": {\"namelength\": 0}, \"hovertemplate\": \"CAD=%{x}<br>ratio=%{y}\", \"legendgroup\": \"CAD=yes\", \"marker\": {\"color\": \"#636efa\"}, \"name\": \"CAD=yes\", \"offsetgroup\": \"CAD=yes\", \"orientation\": \"v\", \"showlegend\": true, \"textposition\": \"auto\", \"type\": \"bar\", \"x\": [\"yes\"], \"xaxis\": \"x\", \"y\": [0.7128712871287128], \"yaxis\": \"y\"}, {\"alignmentgroup\": \"True\", \"hoverlabel\": {\"namelength\": 0}, \"hovertemplate\": \"CAD=%{x}<br>ratio=%{y}\", \"legendgroup\": \"CAD=no\", \"marker\": {\"color\": \"#EF553B\"}, \"name\": \"CAD=no\", \"offsetgroup\": \"CAD=no\", \"orientation\": \"v\", \"showlegend\": true, \"textposition\": \"auto\", \"type\": \"bar\", \"x\": [\"no\"], \"xaxis\": \"x\", \"y\": [0.2871287128712871], \"yaxis\": \"y\"}],\n",
       "                        {\"barmode\": \"relative\", \"height\": 600, \"legend\": {\"tracegroupgap\": 0}, \"margin\": {\"t\": 60}, \"template\": {\"data\": {\"bar\": [{\"error_x\": {\"color\": \"#2a3f5f\"}, \"error_y\": {\"color\": \"#2a3f5f\"}, \"marker\": {\"line\": {\"color\": \"#E5ECF6\", \"width\": 0.5}}, \"type\": \"bar\"}], \"barpolar\": [{\"marker\": {\"line\": {\"color\": \"#E5ECF6\", \"width\": 0.5}}, \"type\": \"barpolar\"}], \"carpet\": [{\"aaxis\": {\"endlinecolor\": \"#2a3f5f\", \"gridcolor\": \"white\", \"linecolor\": \"white\", \"minorgridcolor\": \"white\", \"startlinecolor\": \"#2a3f5f\"}, \"baxis\": {\"endlinecolor\": \"#2a3f5f\", \"gridcolor\": \"white\", \"linecolor\": \"white\", \"minorgridcolor\": \"white\", \"startlinecolor\": \"#2a3f5f\"}, \"type\": \"carpet\"}], \"choropleth\": [{\"colorbar\": {\"outlinewidth\": 0, \"ticks\": \"\"}, \"type\": \"choropleth\"}], \"contour\": [{\"colorbar\": {\"outlinewidth\": 0, \"ticks\": \"\"}, \"colorscale\": [[0.0, \"#0d0887\"], [0.1111111111111111, \"#46039f\"], [0.2222222222222222, \"#7201a8\"], [0.3333333333333333, \"#9c179e\"], [0.4444444444444444, \"#bd3786\"], [0.5555555555555556, \"#d8576b\"], [0.6666666666666666, \"#ed7953\"], [0.7777777777777778, \"#fb9f3a\"], [0.8888888888888888, \"#fdca26\"], [1.0, \"#f0f921\"]], \"type\": \"contour\"}], \"contourcarpet\": [{\"colorbar\": {\"outlinewidth\": 0, \"ticks\": \"\"}, \"type\": \"contourcarpet\"}], \"heatmap\": [{\"colorbar\": {\"outlinewidth\": 0, \"ticks\": \"\"}, \"colorscale\": [[0.0, \"#0d0887\"], [0.1111111111111111, \"#46039f\"], [0.2222222222222222, \"#7201a8\"], [0.3333333333333333, \"#9c179e\"], [0.4444444444444444, \"#bd3786\"], [0.5555555555555556, \"#d8576b\"], [0.6666666666666666, \"#ed7953\"], [0.7777777777777778, \"#fb9f3a\"], [0.8888888888888888, \"#fdca26\"], [1.0, \"#f0f921\"]], \"type\": \"heatmap\"}], \"heatmapgl\": [{\"colorbar\": {\"outlinewidth\": 0, \"ticks\": \"\"}, \"colorscale\": [[0.0, \"#0d0887\"], [0.1111111111111111, \"#46039f\"], [0.2222222222222222, \"#7201a8\"], [0.3333333333333333, \"#9c179e\"], [0.4444444444444444, \"#bd3786\"], [0.5555555555555556, \"#d8576b\"], [0.6666666666666666, \"#ed7953\"], [0.7777777777777778, \"#fb9f3a\"], [0.8888888888888888, \"#fdca26\"], [1.0, \"#f0f921\"]], \"type\": \"heatmapgl\"}], \"histogram\": [{\"marker\": {\"colorbar\": {\"outlinewidth\": 0, \"ticks\": \"\"}}, \"type\": \"histogram\"}], \"histogram2d\": [{\"colorbar\": {\"outlinewidth\": 0, \"ticks\": \"\"}, \"colorscale\": [[0.0, \"#0d0887\"], [0.1111111111111111, \"#46039f\"], [0.2222222222222222, \"#7201a8\"], [0.3333333333333333, \"#9c179e\"], [0.4444444444444444, \"#bd3786\"], [0.5555555555555556, \"#d8576b\"], [0.6666666666666666, \"#ed7953\"], [0.7777777777777778, \"#fb9f3a\"], [0.8888888888888888, \"#fdca26\"], [1.0, \"#f0f921\"]], \"type\": \"histogram2d\"}], \"histogram2dcontour\": [{\"colorbar\": {\"outlinewidth\": 0, \"ticks\": \"\"}, \"colorscale\": [[0.0, \"#0d0887\"], [0.1111111111111111, \"#46039f\"], [0.2222222222222222, \"#7201a8\"], [0.3333333333333333, \"#9c179e\"], [0.4444444444444444, \"#bd3786\"], [0.5555555555555556, \"#d8576b\"], [0.6666666666666666, \"#ed7953\"], [0.7777777777777778, \"#fb9f3a\"], [0.8888888888888888, \"#fdca26\"], [1.0, \"#f0f921\"]], \"type\": \"histogram2dcontour\"}], \"mesh3d\": [{\"colorbar\": {\"outlinewidth\": 0, \"ticks\": \"\"}, \"type\": \"mesh3d\"}], \"parcoords\": [{\"line\": {\"colorbar\": {\"outlinewidth\": 0, \"ticks\": \"\"}}, \"type\": \"parcoords\"}], \"scatter\": [{\"marker\": {\"colorbar\": {\"outlinewidth\": 0, \"ticks\": \"\"}}, \"type\": \"scatter\"}], \"scatter3d\": [{\"line\": {\"colorbar\": {\"outlinewidth\": 0, \"ticks\": \"\"}}, \"marker\": {\"colorbar\": {\"outlinewidth\": 0, \"ticks\": \"\"}}, \"type\": \"scatter3d\"}], \"scattercarpet\": [{\"marker\": {\"colorbar\": {\"outlinewidth\": 0, \"ticks\": \"\"}}, \"type\": \"scattercarpet\"}], \"scattergeo\": [{\"marker\": {\"colorbar\": {\"outlinewidth\": 0, \"ticks\": \"\"}}, \"type\": \"scattergeo\"}], \"scattergl\": [{\"marker\": {\"colorbar\": {\"outlinewidth\": 0, \"ticks\": \"\"}}, \"type\": \"scattergl\"}], \"scattermapbox\": [{\"marker\": {\"colorbar\": {\"outlinewidth\": 0, \"ticks\": \"\"}}, \"type\": \"scattermapbox\"}], \"scatterpolar\": [{\"marker\": {\"colorbar\": {\"outlinewidth\": 0, \"ticks\": \"\"}}, \"type\": \"scatterpolar\"}], \"scatterpolargl\": [{\"marker\": {\"colorbar\": {\"outlinewidth\": 0, \"ticks\": \"\"}}, \"type\": \"scatterpolargl\"}], \"scatterternary\": [{\"marker\": {\"colorbar\": {\"outlinewidth\": 0, \"ticks\": \"\"}}, \"type\": \"scatterternary\"}], \"surface\": [{\"colorbar\": {\"outlinewidth\": 0, \"ticks\": \"\"}, \"colorscale\": [[0.0, \"#0d0887\"], [0.1111111111111111, \"#46039f\"], [0.2222222222222222, \"#7201a8\"], [0.3333333333333333, \"#9c179e\"], [0.4444444444444444, \"#bd3786\"], [0.5555555555555556, \"#d8576b\"], [0.6666666666666666, \"#ed7953\"], [0.7777777777777778, \"#fb9f3a\"], [0.8888888888888888, \"#fdca26\"], [1.0, \"#f0f921\"]], \"type\": \"surface\"}], \"table\": [{\"cells\": {\"fill\": {\"color\": \"#EBF0F8\"}, \"line\": {\"color\": \"white\"}}, \"header\": {\"fill\": {\"color\": \"#C8D4E3\"}, \"line\": {\"color\": \"white\"}}, \"type\": \"table\"}]}, \"layout\": {\"annotationdefaults\": {\"arrowcolor\": \"#2a3f5f\", \"arrowhead\": 0, \"arrowwidth\": 1}, \"colorscale\": {\"diverging\": [[0, \"#8e0152\"], [0.1, \"#c51b7d\"], [0.2, \"#de77ae\"], [0.3, \"#f1b6da\"], [0.4, \"#fde0ef\"], [0.5, \"#f7f7f7\"], [0.6, \"#e6f5d0\"], [0.7, \"#b8e186\"], [0.8, \"#7fbc41\"], [0.9, \"#4d9221\"], [1, \"#276419\"]], \"sequential\": [[0.0, \"#0d0887\"], [0.1111111111111111, \"#46039f\"], [0.2222222222222222, \"#7201a8\"], [0.3333333333333333, \"#9c179e\"], [0.4444444444444444, \"#bd3786\"], [0.5555555555555556, \"#d8576b\"], [0.6666666666666666, \"#ed7953\"], [0.7777777777777778, \"#fb9f3a\"], [0.8888888888888888, \"#fdca26\"], [1.0, \"#f0f921\"]], \"sequentialminus\": [[0.0, \"#0d0887\"], [0.1111111111111111, \"#46039f\"], [0.2222222222222222, \"#7201a8\"], [0.3333333333333333, \"#9c179e\"], [0.4444444444444444, \"#bd3786\"], [0.5555555555555556, \"#d8576b\"], [0.6666666666666666, \"#ed7953\"], [0.7777777777777778, \"#fb9f3a\"], [0.8888888888888888, \"#fdca26\"], [1.0, \"#f0f921\"]]}, \"colorway\": [\"#636efa\", \"#EF553B\", \"#00cc96\", \"#ab63fa\", \"#FFA15A\", \"#19d3f3\", \"#FF6692\", \"#B6E880\", \"#FF97FF\", \"#FECB52\"], \"font\": {\"color\": \"#2a3f5f\"}, \"geo\": {\"bgcolor\": \"white\", \"lakecolor\": \"white\", \"landcolor\": \"#E5ECF6\", \"showlakes\": true, \"showland\": true, \"subunitcolor\": \"white\"}, \"hoverlabel\": {\"align\": \"left\"}, \"hovermode\": \"closest\", \"mapbox\": {\"style\": \"light\"}, \"paper_bgcolor\": \"white\", \"plot_bgcolor\": \"#E5ECF6\", \"polar\": {\"angularaxis\": {\"gridcolor\": \"white\", \"linecolor\": \"white\", \"ticks\": \"\"}, \"bgcolor\": \"#E5ECF6\", \"radialaxis\": {\"gridcolor\": \"white\", \"linecolor\": \"white\", \"ticks\": \"\"}}, \"scene\": {\"xaxis\": {\"backgroundcolor\": \"#E5ECF6\", \"gridcolor\": \"white\", \"gridwidth\": 2, \"linecolor\": \"white\", \"showbackground\": true, \"ticks\": \"\", \"zerolinecolor\": \"white\"}, \"yaxis\": {\"backgroundcolor\": \"#E5ECF6\", \"gridcolor\": \"white\", \"gridwidth\": 2, \"linecolor\": \"white\", \"showbackground\": true, \"ticks\": \"\", \"zerolinecolor\": \"white\"}, \"zaxis\": {\"backgroundcolor\": \"#E5ECF6\", \"gridcolor\": \"white\", \"gridwidth\": 2, \"linecolor\": \"white\", \"showbackground\": true, \"ticks\": \"\", \"zerolinecolor\": \"white\"}}, \"shapedefaults\": {\"line\": {\"color\": \"#2a3f5f\"}}, \"ternary\": {\"aaxis\": {\"gridcolor\": \"white\", \"linecolor\": \"white\", \"ticks\": \"\"}, \"baxis\": {\"gridcolor\": \"white\", \"linecolor\": \"white\", \"ticks\": \"\"}, \"bgcolor\": \"#E5ECF6\", \"caxis\": {\"gridcolor\": \"white\", \"linecolor\": \"white\", \"ticks\": \"\"}}, \"title\": {\"x\": 0.05}, \"xaxis\": {\"automargin\": true, \"gridcolor\": \"white\", \"linecolor\": \"white\", \"ticks\": \"\", \"zerolinecolor\": \"white\", \"zerolinewidth\": 2}, \"yaxis\": {\"automargin\": true, \"gridcolor\": \"white\", \"linecolor\": \"white\", \"ticks\": \"\", \"zerolinecolor\": \"white\", \"zerolinewidth\": 2}}}, \"xaxis\": {\"anchor\": \"y\", \"categoryarray\": [\"yes\", \"no\"], \"categoryorder\": \"array\", \"domain\": [0.0, 0.98], \"title\": {\"text\": \"CAD\"}}, \"yaxis\": {\"anchor\": \"x\", \"domain\": [0.0, 1.0], \"title\": {\"text\": \"ratio\"}}},\n",
       "                        {\"responsive\": true}\n",
       "                    ).then(function(){\n",
       "                            \n",
       "var gd = document.getElementById('8a136474-cbd7-4ccd-a6b0-9ffc7aa7ab2f');\n",
       "var x = new MutationObserver(function (mutations, observer) {{\n",
       "        var display = window.getComputedStyle(gd).display;\n",
       "        if (!display || display === 'none') {{\n",
       "            console.log([gd, 'removed!']);\n",
       "            Plotly.purge(gd);\n",
       "            observer.disconnect();\n",
       "        }}\n",
       "}});\n",
       "\n",
       "// Listen for the removal of the full notebook cells\n",
       "var notebookContainer = gd.closest('#notebook-container');\n",
       "if (notebookContainer) {{\n",
       "    x.observe(notebookContainer, {childList: true});\n",
       "}}\n",
       "\n",
       "// Listen for the clearing of the current output cell\n",
       "var outputEl = gd.closest('.output');\n",
       "if (outputEl) {{\n",
       "    x.observe(outputEl, {childList: true});\n",
       "}}\n",
       "\n",
       "                        })\n",
       "                };\n",
       "                });\n",
       "            </script>\n",
       "        </div>"
      ]
     },
     "metadata": {},
     "output_type": "display_data"
    }
   ],
   "source": [
    "import plotly.express as px\n",
    "fig = px.bar(lab_df,x='CAD',y=\"ratio\",color=\"CAD\")\n",
    "fig.show()"
   ]
  },
  {
   "cell_type": "code",
   "execution_count": 18,
   "metadata": {},
   "outputs": [
    {
     "name": "stderr",
     "output_type": "stream",
     "text": [
      "/opt/conda/lib/python3.7/site-packages/ipykernel_launcher.py:1: MatplotlibDeprecationWarning:\n",
      "\n",
      "\n",
      "The 'normed' kwarg was deprecated in Matplotlib 2.1 and will be removed in 3.1. Use 'density' instead.\n",
      "\n",
      "/opt/conda/lib/python3.7/site-packages/ipykernel_launcher.py:2: MatplotlibDeprecationWarning:\n",
      "\n",
      "\n",
      "The 'normed' kwarg was deprecated in Matplotlib 2.1 and will be removed in 3.1. Use 'density' instead.\n",
      "\n",
      "No handles with labels found to put in legend.\n"
     ]
    },
    {
     "data": {
      "image/png": "[encoded data removed]",
      "text/plain": [
       "<Figure size 432x288 with 1 Axes>"
      ]
     },
     "metadata": {
      "needs_background": "light"
     },
     "output_type": "display_data"
    }
   ],
   "source": [
    "plt.hist(df_preprocessed['Age'][df_preprocessed['y'] == 1],alpha=0.6,normed=True)\n",
    "plt.hist(df_preprocessed['Age'][df_preprocessed['y'] == 0],alpha=0.6,normed=True)\n",
    "plt.ylabel('density')\n",
    "plt.xlabel('Age')\n",
    "plt.legend()\n",
    "plt.show()"
   ]
  },
  {
   "cell_type": "code",
   "execution_count": 50,
   "metadata": {},
   "outputs": [
    {
     "data": {
      "application/vnd.plotly.v1+json": {
       "config": {
        "plotlyServerURL": "https://plot.ly"
       },
       "data": [
        {
         "histnorm": "probability density",
         "name": "CAD",
         "opacity": 0.7,
         "type": "histogram",
         "x": [
          53,
          67,
          54,
          50,
          55,
          72,
          60,
          58,
          80,
          70,
          67,
          66,
          59,
          60,
          65,
          47,
          66,
          66,
          72,
          50,
          65,
          50,
          80,
          65,
          59,
          52,
          55,
          60,
          55,
          69,
          54,
          76,
          46,
          76,
          60,
          73,
          51,
          57,
          68,
          61,
          73,
          55,
          73,
          48,
          53,
          65,
          70,
          81,
          56,
          47,
          41,
          68,
          53,
          53,
          80,
          62,
          55,
          60,
          60,
          49,
          70,
          70,
          66,
          65,
          55,
          86,
          57,
          52,
          59,
          75,
          81,
          71,
          63,
          56,
          59,
          50,
          48,
          66,
          77,
          65,
          61,
          76,
          75,
          60,
          48,
          49,
          69,
          75,
          64,
          48,
          81,
          65,
          59,
          59,
          55,
          66,
          49,
          56,
          63,
          74,
          70,
          76,
          36,
          52,
          72,
          79,
          62,
          55,
          49,
          50,
          60,
          51,
          80,
          47,
          46,
          53,
          44,
          71,
          63,
          45,
          70,
          71,
          65,
          60,
          58,
          67,
          57,
          62,
          70,
          63,
          72,
          68,
          72,
          74,
          70,
          42,
          50,
          62,
          68,
          63,
          48,
          74,
          66,
          62,
          65,
          76,
          58,
          70,
          50,
          62,
          42,
          62,
          85,
          64,
          57,
          71,
          55,
          66,
          62,
          44,
          60,
          69,
          55,
          50,
          68,
          57,
          62,
          64,
          70,
          48,
          77,
          54,
          56,
          54,
          75,
          64,
          48,
          56,
          47,
          47,
          55,
          52,
          67,
          63,
          55,
          72,
          66,
          62,
          62,
          62,
          54,
          64,
          49,
          51,
          49,
          56,
          53,
          57,
          52,
          48,
          61,
          70,
          64,
          76,
          55,
          60,
          75,
          73,
          46,
          71,
          55,
          51,
          67,
          64,
          58,
          56
         ]
        },
        {
         "histnorm": "probability density",
         "name": "Normal",
         "opacity": 0.7,
         "type": "histogram",
         "x": [
          66,
          50,
          58,
          41,
          68,
          56,
          47,
          40,
          43,
          53,
          56,
          47,
          55,
          30,
          47,
          52,
          52,
          65,
          65,
          56,
          60,
          51,
          55,
          45,
          48,
          50,
          43,
          52,
          42,
          62,
          63,
          50,
          50,
          44,
          43,
          53,
          49,
          66,
          50,
          79,
          51,
          54,
          64,
          46,
          43,
          47,
          44,
          41,
          50,
          46,
          38,
          73,
          66,
          64,
          50,
          53,
          62,
          56,
          51,
          48,
          38,
          52,
          67,
          56,
          49,
          51,
          50,
          56,
          48,
          76,
          55,
          49,
          70,
          56,
          50,
          56,
          67,
          58,
          53,
          57,
          59,
          62,
          42,
          30,
          55,
          48,
          57
         ]
        }
       ],
       "layout": {
        "autosize": true,
        "barmode": "overlay",
        "template": {
         "data": {
          "bar": [
           {
            "error_x": {
             "color": "#2a3f5f"
            },
            "error_y": {
             "color": "#2a3f5f"
            },
            "marker": {
             "line": {
              "color": "#E5ECF6",
              "width": 0.5
             }
            },
            "type": "bar"
           }
          ],
          "barpolar": [
           {
            "marker": {
             "line": {
              "color": "#E5ECF6",
              "width": 0.5
             }
            },
            "type": "barpolar"
           }
          ],
          "carpet": [
           {
            "aaxis": {
             "endlinecolor": "#2a3f5f",
             "gridcolor": "white",
             "linecolor": "white",
             "minorgridcolor": "white",
             "startlinecolor": "#2a3f5f"
            },
            "baxis": {
             "endlinecolor": "#2a3f5f",
             "gridcolor": "white",
             "linecolor": "white",
             "minorgridcolor": "white",
             "startlinecolor": "#2a3f5f"
            },
            "type": "carpet"
           }
          ],
          "choropleth": [
           {
            "colorbar": {
             "outlinewidth": 0,
             "ticks": ""
            },
            "type": "choropleth"
           }
          ],
          "contour": [
           {
            "colorbar": {
             "outlinewidth": 0,
             "ticks": ""
            },
            "colorscale": [
             [
              0,
              "#0d0887"
             ],
             [
              0.1111111111111111,
              "#46039f"
             ],
             [
              0.2222222222222222,
              "#7201a8"
             ],
             [
              0.3333333333333333,
              "#9c179e"
             ],
             [
              0.4444444444444444,
              "#bd3786"
             ],
             [
              0.5555555555555556,
              "#d8576b"
             ],
             [
              0.6666666666666666,
              "#ed7953"
             ],
             [
              0.7777777777777778,
              "#fb9f3a"
             ],
             [
              0.8888888888888888,
              "#fdca26"
             ],
             [
              1,
              "#f0f921"
             ]
            ],
            "type": "contour"
           }
          ],
          "contourcarpet": [
           {
            "colorbar": {
             "outlinewidth": 0,
             "ticks": ""
            },
            "type": "contourcarpet"
           }
          ],
          "heatmap": [
           {
            "colorbar": {
             "outlinewidth": 0,
             "ticks": ""
            },
            "colorscale": [
             [
              0,
              "#0d0887"
             ],
             [
              0.1111111111111111,
              "#46039f"
             ],
             [
              0.2222222222222222,
              "#7201a8"
             ],
             [
              0.3333333333333333,
              "#9c179e"
             ],
             [
              0.4444444444444444,
              "#bd3786"
             ],
             [
              0.5555555555555556,
              "#d8576b"
             ],
             [
              0.6666666666666666,
              "#ed7953"
             ],
             [
              0.7777777777777778,
              "#fb9f3a"
             ],
             [
              0.8888888888888888,
              "#fdca26"
             ],
             [
              1,
              "#f0f921"
             ]
            ],
            "type": "heatmap"
           }
          ],
          "heatmapgl": [
           {
            "colorbar": {
             "outlinewidth": 0,
             "ticks": ""
            },
            "colorscale": [
             [
              0,
              "#0d0887"
             ],
             [
              0.1111111111111111,
              "#46039f"
             ],
             [
              0.2222222222222222,
              "#7201a8"
             ],
             [
              0.3333333333333333,
              "#9c179e"
             ],
             [
              0.4444444444444444,
              "#bd3786"
             ],
             [
              0.5555555555555556,
              "#d8576b"
             ],
             [
              0.6666666666666666,
              "#ed7953"
             ],
             [
              0.7777777777777778,
              "#fb9f3a"
             ],
             [
              0.8888888888888888,
              "#fdca26"
             ],
             [
              1,
              "#f0f921"
             ]
            ],
            "type": "heatmapgl"
           }
          ],
          "histogram": [
           {
            "marker": {
             "colorbar": {
              "outlinewidth": 0,
              "ticks": ""
             }
            },
            "type": "histogram"
           }
          ],
          "histogram2d": [
           {
            "colorbar": {
             "outlinewidth": 0,
             "ticks": ""
            },
            "colorscale": [
             [
              0,
              "#0d0887"
             ],
             [
              0.1111111111111111,
              "#46039f"
             ],
             [
              0.2222222222222222,
              "#7201a8"
             ],
             [
              0.3333333333333333,
              "#9c179e"
             ],
             [
              0.4444444444444444,
              "#bd3786"
             ],
             [
              0.5555555555555556,
              "#d8576b"
             ],
             [
              0.6666666666666666,
              "#ed7953"
             ],
             [
              0.7777777777777778,
              "#fb9f3a"
             ],
             [
              0.8888888888888888,
              "#fdca26"
             ],
             [
              1,
              "#f0f921"
             ]
            ],
            "type": "histogram2d"
           }
          ],
          "histogram2dcontour": [
           {
            "colorbar": {
             "outlinewidth": 0,
             "ticks": ""
            },
            "colorscale": [
             [
              0,
              "#0d0887"
             ],
             [
              0.1111111111111111,
              "#46039f"
             ],
             [
              0.2222222222222222,
              "#7201a8"
             ],
             [
              0.3333333333333333,
              "#9c179e"
             ],
             [
              0.4444444444444444,
              "#bd3786"
             ],
             [
              0.5555555555555556,
              "#d8576b"
             ],
             [
              0.6666666666666666,
              "#ed7953"
             ],
             [
              0.7777777777777778,
              "#fb9f3a"
             ],
             [
              0.8888888888888888,
              "#fdca26"
             ],
             [
              1,
              "#f0f921"
             ]
            ],
            "type": "histogram2dcontour"
           }
          ],
          "mesh3d": [
           {
            "colorbar": {
             "outlinewidth": 0,
             "ticks": ""
            },
            "type": "mesh3d"
           }
          ],
          "parcoords": [
           {
            "line": {
             "colorbar": {
              "outlinewidth": 0,
              "ticks": ""
             }
            },
            "type": "parcoords"
           }
          ],
          "scatter": [
           {
            "marker": {
             "colorbar": {
              "outlinewidth": 0,
              "ticks": ""
             }
            },
            "type": "scatter"
           }
          ],
          "scatter3d": [
           {
            "line": {
             "colorbar": {
              "outlinewidth": 0,
              "ticks": ""
             }
            },
            "marker": {
             "colorbar": {
              "outlinewidth": 0,
              "ticks": ""
             }
            },
            "type": "scatter3d"
           }
          ],
          "scattercarpet": [
           {
            "marker": {
             "colorbar": {
              "outlinewidth": 0,
              "ticks": ""
             }
            },
            "type": "scattercarpet"
           }
          ],
          "scattergeo": [
           {
            "marker": {
             "colorbar": {
              "outlinewidth": 0,
              "ticks": ""
             }
            },
            "type": "scattergeo"
           }
          ],
          "scattergl": [
           {
            "marker": {
             "colorbar": {
              "outlinewidth": 0,
              "ticks": ""
             }
            },
            "type": "scattergl"
           }
          ],
          "scattermapbox": [
           {
            "marker": {
             "colorbar": {
              "outlinewidth": 0,
              "ticks": ""
             }
            },
            "type": "scattermapbox"
           }
          ],
          "scatterpolar": [
           {
            "marker": {
             "colorbar": {
              "outlinewidth": 0,
              "ticks": ""
             }
            },
            "type": "scatterpolar"
           }
          ],
          "scatterpolargl": [
           {
            "marker": {
             "colorbar": {
              "outlinewidth": 0,
              "ticks": ""
             }
            },
            "type": "scatterpolargl"
           }
          ],
          "scatterternary": [
           {
            "marker": {
             "colorbar": {
              "outlinewidth": 0,
              "ticks": ""
             }
            },
            "type": "scatterternary"
           }
          ],
          "surface": [
           {
            "colorbar": {
             "outlinewidth": 0,
             "ticks": ""
            },
            "colorscale": [
             [
              0,
              "#0d0887"
             ],
             [
              0.1111111111111111,
              "#46039f"
             ],
             [
              0.2222222222222222,
              "#7201a8"
             ],
             [
              0.3333333333333333,
              "#9c179e"
             ],
             [
              0.4444444444444444,
              "#bd3786"
             ],
             [
              0.5555555555555556,
              "#d8576b"
             ],
             [
              0.6666666666666666,
              "#ed7953"
             ],
             [
              0.7777777777777778,
              "#fb9f3a"
             ],
             [
              0.8888888888888888,
              "#fdca26"
             ],
             [
              1,
              "#f0f921"
             ]
            ],
            "type": "surface"
           }
          ],
          "table": [
           {
            "cells": {
             "fill": {
              "color": "#EBF0F8"
             },
             "line": {
              "color": "white"
             }
            },
            "header": {
             "fill": {
              "color": "#C8D4E3"
             },
             "line": {
              "color": "white"
             }
            },
            "type": "table"
           }
          ]
         },
         "layout": {
          "annotationdefaults": {
           "arrowcolor": "#2a3f5f",
           "arrowhead": 0,
           "arrowwidth": 1
          },
          "colorscale": {
           "diverging": [
            [
             0,
             "#8e0152"
            ],
            [
             0.1,
             "#c51b7d"
            ],
            [
             0.2,
             "#de77ae"
            ],
            [
             0.3,
             "#f1b6da"
            ],
            [
             0.4,
             "#fde0ef"
            ],
            [
             0.5,
             "#f7f7f7"
            ],
            [
             0.6,
             "#e6f5d0"
            ],
            [
             0.7,
             "#b8e186"
            ],
            [
             0.8,
             "#7fbc41"
            ],
            [
             0.9,
             "#4d9221"
            ],
            [
             1,
             "#276419"
            ]
           ],
           "sequential": [
            [
             0,
             "#0d0887"
            ],
            [
             0.1111111111111111,
             "#46039f"
            ],
            [
             0.2222222222222222,
             "#7201a8"
            ],
            [
             0.3333333333333333,
             "#9c179e"
            ],
            [
             0.4444444444444444,
             "#bd3786"
            ],
            [
             0.5555555555555556,
             "#d8576b"
            ],
            [
             0.6666666666666666,
             "#ed7953"
            ],
            [
             0.7777777777777778,
             "#fb9f3a"
            ],
            [
             0.8888888888888888,
             "#fdca26"
            ],
            [
             1,
             "#f0f921"
            ]
           ],
           "sequentialminus": [
            [
             0,
             "#0d0887"
            ],
            [
             0.1111111111111111,
             "#46039f"
            ],
            [
             0.2222222222222222,
             "#7201a8"
            ],
            [
             0.3333333333333333,
             "#9c179e"
            ],
            [
             0.4444444444444444,
             "#bd3786"
            ],
            [
             0.5555555555555556,
             "#d8576b"
            ],
            [
             0.6666666666666666,
             "#ed7953"
            ],
            [
             0.7777777777777778,
             "#fb9f3a"
            ],
            [
             0.8888888888888888,
             "#fdca26"
            ],
            [
             1,
             "#f0f921"
            ]
           ]
          },
          "colorway": [
           "#636efa",
           "#EF553B",
           "#00cc96",
           "#ab63fa",
           "#FFA15A",
           "#19d3f3",
           "#FF6692",
           "#B6E880",
           "#FF97FF",
           "#FECB52"
          ],
          "font": {
           "color": "#2a3f5f"
          },
          "geo": {
           "bgcolor": "white",
           "lakecolor": "white",
           "landcolor": "#E5ECF6",
           "showlakes": true,
           "showland": true,
           "subunitcolor": "white"
          },
          "hoverlabel": {
           "align": "left"
          },
          "hovermode": "closest",
          "mapbox": {
           "style": "light"
          },
          "paper_bgcolor": "white",
          "plot_bgcolor": "#E5ECF6",
          "polar": {
           "angularaxis": {
            "gridcolor": "white",
            "linecolor": "white",
            "ticks": ""
           },
           "bgcolor": "#E5ECF6",
           "radialaxis": {
            "gridcolor": "white",
            "linecolor": "white",
            "ticks": ""
           }
          },
          "scene": {
           "xaxis": {
            "backgroundcolor": "#E5ECF6",
            "gridcolor": "white",
            "gridwidth": 2,
            "linecolor": "white",
            "showbackground": true,
            "ticks": "",
            "zerolinecolor": "white"
           },
           "yaxis": {
            "backgroundcolor": "#E5ECF6",
            "gridcolor": "white",
            "gridwidth": 2,
            "linecolor": "white",
            "showbackground": true,
            "ticks": "",
            "zerolinecolor": "white"
           },
           "zaxis": {
            "backgroundcolor": "#E5ECF6",
            "gridcolor": "white",
            "gridwidth": 2,
            "linecolor": "white",
            "showbackground": true,
            "ticks": "",
            "zerolinecolor": "white"
           }
          },
          "shapedefaults": {
           "line": {
            "color": "#2a3f5f"
           }
          },
          "ternary": {
           "aaxis": {
            "gridcolor": "white",
            "linecolor": "white",
            "ticks": ""
           },
           "baxis": {
            "gridcolor": "white",
            "linecolor": "white",
            "ticks": ""
           },
           "bgcolor": "#E5ECF6",
           "caxis": {
            "gridcolor": "white",
            "linecolor": "white",
            "ticks": ""
           }
          },
          "title": {
           "x": 0.05
          },
          "xaxis": {
           "automargin": true,
           "gridcolor": "white",
           "linecolor": "white",
           "ticks": "",
           "zerolinecolor": "white",
           "zerolinewidth": 2
          },
          "yaxis": {
           "automargin": true,
           "gridcolor": "white",
           "linecolor": "white",
           "ticks": "",
           "zerolinecolor": "white",
           "zerolinewidth": 2
          }
         }
        },
        "xaxis": {
         "autorange": true,
         "range": [
          29.5,
          89.5
         ],
         "title": {
          "text": "Age"
         },
         "type": "linear"
        },
        "yaxis": {
         "autorange": true,
         "range": [
          0,
          0.053236539624924376
         ],
         "title": {
          "text": "Density"
         }
        }
       }
      },
      "image/png": "[encoded data removed]",
      "text/html": [
       "<div>\n",
       "        \n",
       "        \n",
       "            <div id=\"268c6d2d-bf49-473f-b681-cb541c0b52f5\" class=\"plotly-graph-div\" style=\"height:525px; width:100%;\"></div>\n",
       "            <script type=\"text/javascript\">\n",
       "                require([\"plotly\"], function(Plotly) {\n",
       "                    window.PLOTLYENV=window.PLOTLYENV || {};\n",
       "                    \n",
       "                if (document.getElementById(\"268c6d2d-bf49-473f-b681-cb541c0b52f5\")) {\n",
       "                    Plotly.newPlot(\n",
       "                        '268c6d2d-bf49-473f-b681-cb541c0b52f5',\n",
       "                        [{\"histnorm\": \"probability density\", \"name\": \"CAD\", \"opacity\": 0.7, \"type\": \"histogram\", \"x\": [53, 67, 54, 50, 55, 72, 60, 58, 80, 70, 67, 66, 59, 60, 65, 47, 66, 66, 72, 50, 65, 50, 80, 65, 59, 52, 55, 60, 55, 69, 54, 76, 46, 76, 60, 73, 51, 57, 68, 61, 73, 55, 73, 48, 53, 65, 70, 81, 56, 47, 41, 68, 53, 53, 80, 62, 55, 60, 60, 49, 70, 70, 66, 65, 55, 86, 57, 52, 59, 75, 81, 71, 63, 56, 59, 50, 48, 66, 77, 65, 61, 76, 75, 60, 48, 49, 69, 75, 64, 48, 81, 65, 59, 59, 55, 66, 49, 56, 63, 74, 70, 76, 36, 52, 72, 79, 62, 55, 49, 50, 60, 51, 80, 47, 46, 53, 44, 71, 63, 45, 70, 71, 65, 60, 58, 67, 57, 62, 70, 63, 72, 68, 72, 74, 70, 42, 50, 62, 68, 63, 48, 74, 66, 62, 65, 76, 58, 70, 50, 62, 42, 62, 85, 64, 57, 71, 55, 66, 62, 44, 60, 69, 55, 50, 68, 57, 62, 64, 70, 48, 77, 54, 56, 54, 75, 64, 48, 56, 47, 47, 55, 52, 67, 63, 55, 72, 66, 62, 62, 62, 54, 64, 49, 51, 49, 56, 53, 57, 52, 48, 61, 70, 64, 76, 55, 60, 75, 73, 46, 71, 55, 51, 67, 64, 58, 56]}, {\"histnorm\": \"probability density\", \"name\": \"Normal\", \"opacity\": 0.7, \"type\": \"histogram\", \"x\": [66, 50, 58, 41, 68, 56, 47, 40, 43, 53, 56, 47, 55, 30, 47, 52, 52, 65, 65, 56, 60, 51, 55, 45, 48, 50, 43, 52, 42, 62, 63, 50, 50, 44, 43, 53, 49, 66, 50, 79, 51, 54, 64, 46, 43, 47, 44, 41, 50, 46, 38, 73, 66, 64, 50, 53, 62, 56, 51, 48, 38, 52, 67, 56, 49, 51, 50, 56, 48, 76, 55, 49, 70, 56, 50, 56, 67, 58, 53, 57, 59, 62, 42, 30, 55, 48, 57]}],\n",
       "                        {\"barmode\": \"overlay\", \"template\": {\"data\": {\"bar\": [{\"error_x\": {\"color\": \"#2a3f5f\"}, \"error_y\": {\"color\": \"#2a3f5f\"}, \"marker\": {\"line\": {\"color\": \"#E5ECF6\", \"width\": 0.5}}, \"type\": \"bar\"}], \"barpolar\": [{\"marker\": {\"line\": {\"color\": \"#E5ECF6\", \"width\": 0.5}}, \"type\": \"barpolar\"}], \"carpet\": [{\"aaxis\": {\"endlinecolor\": \"#2a3f5f\", \"gridcolor\": \"white\", \"linecolor\": \"white\", \"minorgridcolor\": \"white\", \"startlinecolor\": \"#2a3f5f\"}, \"baxis\": {\"endlinecolor\": \"#2a3f5f\", \"gridcolor\": \"white\", \"linecolor\": \"white\", \"minorgridcolor\": \"white\", \"startlinecolor\": \"#2a3f5f\"}, \"type\": \"carpet\"}], \"choropleth\": [{\"colorbar\": {\"outlinewidth\": 0, \"ticks\": \"\"}, \"type\": \"choropleth\"}], \"contour\": [{\"colorbar\": {\"outlinewidth\": 0, \"ticks\": \"\"}, \"colorscale\": [[0.0, \"#0d0887\"], [0.1111111111111111, \"#46039f\"], [0.2222222222222222, \"#7201a8\"], [0.3333333333333333, \"#9c179e\"], [0.4444444444444444, \"#bd3786\"], [0.5555555555555556, \"#d8576b\"], [0.6666666666666666, \"#ed7953\"], [0.7777777777777778, \"#fb9f3a\"], [0.8888888888888888, \"#fdca26\"], [1.0, \"#f0f921\"]], \"type\": \"contour\"}], \"contourcarpet\": [{\"colorbar\": {\"outlinewidth\": 0, \"ticks\": \"\"}, \"type\": \"contourcarpet\"}], \"heatmap\": [{\"colorbar\": {\"outlinewidth\": 0, \"ticks\": \"\"}, \"colorscale\": [[0.0, \"#0d0887\"], [0.1111111111111111, \"#46039f\"], [0.2222222222222222, \"#7201a8\"], [0.3333333333333333, \"#9c179e\"], [0.4444444444444444, \"#bd3786\"], [0.5555555555555556, \"#d8576b\"], [0.6666666666666666, \"#ed7953\"], [0.7777777777777778, \"#fb9f3a\"], [0.8888888888888888, \"#fdca26\"], [1.0, \"#f0f921\"]], \"type\": \"heatmap\"}], \"heatmapgl\": [{\"colorbar\": {\"outlinewidth\": 0, \"ticks\": \"\"}, \"colorscale\": [[0.0, \"#0d0887\"], [0.1111111111111111, \"#46039f\"], [0.2222222222222222, \"#7201a8\"], [0.3333333333333333, \"#9c179e\"], [0.4444444444444444, \"#bd3786\"], [0.5555555555555556, \"#d8576b\"], [0.6666666666666666, \"#ed7953\"], [0.7777777777777778, \"#fb9f3a\"], [0.8888888888888888, \"#fdca26\"], [1.0, \"#f0f921\"]], \"type\": \"heatmapgl\"}], \"histogram\": [{\"marker\": {\"colorbar\": {\"outlinewidth\": 0, \"ticks\": \"\"}}, \"type\": \"histogram\"}], \"histogram2d\": [{\"colorbar\": {\"outlinewidth\": 0, \"ticks\": \"\"}, \"colorscale\": [[0.0, \"#0d0887\"], [0.1111111111111111, \"#46039f\"], [0.2222222222222222, \"#7201a8\"], [0.3333333333333333, \"#9c179e\"], [0.4444444444444444, \"#bd3786\"], [0.5555555555555556, \"#d8576b\"], [0.6666666666666666, \"#ed7953\"], [0.7777777777777778, \"#fb9f3a\"], [0.8888888888888888, \"#fdca26\"], [1.0, \"#f0f921\"]], \"type\": \"histogram2d\"}], \"histogram2dcontour\": [{\"colorbar\": {\"outlinewidth\": 0, \"ticks\": \"\"}, \"colorscale\": [[0.0, \"#0d0887\"], [0.1111111111111111, \"#46039f\"], [0.2222222222222222, \"#7201a8\"], [0.3333333333333333, \"#9c179e\"], [0.4444444444444444, \"#bd3786\"], [0.5555555555555556, \"#d8576b\"], [0.6666666666666666, \"#ed7953\"], [0.7777777777777778, \"#fb9f3a\"], [0.8888888888888888, \"#fdca26\"], [1.0, \"#f0f921\"]], \"type\": \"histogram2dcontour\"}], \"mesh3d\": [{\"colorbar\": {\"outlinewidth\": 0, \"ticks\": \"\"}, \"type\": \"mesh3d\"}], \"parcoords\": [{\"line\": {\"colorbar\": {\"outlinewidth\": 0, \"ticks\": \"\"}}, \"type\": \"parcoords\"}], \"scatter\": [{\"marker\": {\"colorbar\": {\"outlinewidth\": 0, \"ticks\": \"\"}}, \"type\": \"scatter\"}], \"scatter3d\": [{\"line\": {\"colorbar\": {\"outlinewidth\": 0, \"ticks\": \"\"}}, \"marker\": {\"colorbar\": {\"outlinewidth\": 0, \"ticks\": \"\"}}, \"type\": \"scatter3d\"}], \"scattercarpet\": [{\"marker\": {\"colorbar\": {\"outlinewidth\": 0, \"ticks\": \"\"}}, \"type\": \"scattercarpet\"}], \"scattergeo\": [{\"marker\": {\"colorbar\": {\"outlinewidth\": 0, \"ticks\": \"\"}}, \"type\": \"scattergeo\"}], \"scattergl\": [{\"marker\": {\"colorbar\": {\"outlinewidth\": 0, \"ticks\": \"\"}}, \"type\": \"scattergl\"}], \"scattermapbox\": [{\"marker\": {\"colorbar\": {\"outlinewidth\": 0, \"ticks\": \"\"}}, \"type\": \"scattermapbox\"}], \"scatterpolar\": [{\"marker\": {\"colorbar\": {\"outlinewidth\": 0, \"ticks\": \"\"}}, \"type\": \"scatterpolar\"}], \"scatterpolargl\": [{\"marker\": {\"colorbar\": {\"outlinewidth\": 0, \"ticks\": \"\"}}, \"type\": \"scatterpolargl\"}], \"scatterternary\": [{\"marker\": {\"colorbar\": {\"outlinewidth\": 0, \"ticks\": \"\"}}, \"type\": \"scatterternary\"}], \"surface\": [{\"colorbar\": {\"outlinewidth\": 0, \"ticks\": \"\"}, \"colorscale\": [[0.0, \"#0d0887\"], [0.1111111111111111, \"#46039f\"], [0.2222222222222222, \"#7201a8\"], [0.3333333333333333, \"#9c179e\"], [0.4444444444444444, \"#bd3786\"], [0.5555555555555556, \"#d8576b\"], [0.6666666666666666, \"#ed7953\"], [0.7777777777777778, \"#fb9f3a\"], [0.8888888888888888, \"#fdca26\"], [1.0, \"#f0f921\"]], \"type\": \"surface\"}], \"table\": [{\"cells\": {\"fill\": {\"color\": \"#EBF0F8\"}, \"line\": {\"color\": \"white\"}}, \"header\": {\"fill\": {\"color\": \"#C8D4E3\"}, \"line\": {\"color\": \"white\"}}, \"type\": \"table\"}]}, \"layout\": {\"annotationdefaults\": {\"arrowcolor\": \"#2a3f5f\", \"arrowhead\": 0, \"arrowwidth\": 1}, \"colorscale\": {\"diverging\": [[0, \"#8e0152\"], [0.1, \"#c51b7d\"], [0.2, \"#de77ae\"], [0.3, \"#f1b6da\"], [0.4, \"#fde0ef\"], [0.5, \"#f7f7f7\"], [0.6, \"#e6f5d0\"], [0.7, \"#b8e186\"], [0.8, \"#7fbc41\"], [0.9, \"#4d9221\"], [1, \"#276419\"]], \"sequential\": [[0.0, \"#0d0887\"], [0.1111111111111111, \"#46039f\"], [0.2222222222222222, \"#7201a8\"], [0.3333333333333333, \"#9c179e\"], [0.4444444444444444, \"#bd3786\"], [0.5555555555555556, \"#d8576b\"], [0.6666666666666666, \"#ed7953\"], [0.7777777777777778, \"#fb9f3a\"], [0.8888888888888888, \"#fdca26\"], [1.0, \"#f0f921\"]], \"sequentialminus\": [[0.0, \"#0d0887\"], [0.1111111111111111, \"#46039f\"], [0.2222222222222222, \"#7201a8\"], [0.3333333333333333, \"#9c179e\"], [0.4444444444444444, \"#bd3786\"], [0.5555555555555556, \"#d8576b\"], [0.6666666666666666, \"#ed7953\"], [0.7777777777777778, \"#fb9f3a\"], [0.8888888888888888, \"#fdca26\"], [1.0, \"#f0f921\"]]}, \"colorway\": [\"#636efa\", \"#EF553B\", \"#00cc96\", \"#ab63fa\", \"#FFA15A\", \"#19d3f3\", \"#FF6692\", \"#B6E880\", \"#FF97FF\", \"#FECB52\"], \"font\": {\"color\": \"#2a3f5f\"}, \"geo\": {\"bgcolor\": \"white\", \"lakecolor\": \"white\", \"landcolor\": \"#E5ECF6\", \"showlakes\": true, \"showland\": true, \"subunitcolor\": \"white\"}, \"hoverlabel\": {\"align\": \"left\"}, \"hovermode\": \"closest\", \"mapbox\": {\"style\": \"light\"}, \"paper_bgcolor\": \"white\", \"plot_bgcolor\": \"#E5ECF6\", \"polar\": {\"angularaxis\": {\"gridcolor\": \"white\", \"linecolor\": \"white\", \"ticks\": \"\"}, \"bgcolor\": \"#E5ECF6\", \"radialaxis\": {\"gridcolor\": \"white\", \"linecolor\": \"white\", \"ticks\": \"\"}}, \"scene\": {\"xaxis\": {\"backgroundcolor\": \"#E5ECF6\", \"gridcolor\": \"white\", \"gridwidth\": 2, \"linecolor\": \"white\", \"showbackground\": true, \"ticks\": \"\", \"zerolinecolor\": \"white\"}, \"yaxis\": {\"backgroundcolor\": \"#E5ECF6\", \"gridcolor\": \"white\", \"gridwidth\": 2, \"linecolor\": \"white\", \"showbackground\": true, \"ticks\": \"\", \"zerolinecolor\": \"white\"}, \"zaxis\": {\"backgroundcolor\": \"#E5ECF6\", \"gridcolor\": \"white\", \"gridwidth\": 2, \"linecolor\": \"white\", \"showbackground\": true, \"ticks\": \"\", \"zerolinecolor\": \"white\"}}, \"shapedefaults\": {\"line\": {\"color\": \"#2a3f5f\"}}, \"ternary\": {\"aaxis\": {\"gridcolor\": \"white\", \"linecolor\": \"white\", \"ticks\": \"\"}, \"baxis\": {\"gridcolor\": \"white\", \"linecolor\": \"white\", \"ticks\": \"\"}, \"bgcolor\": \"#E5ECF6\", \"caxis\": {\"gridcolor\": \"white\", \"linecolor\": \"white\", \"ticks\": \"\"}}, \"title\": {\"x\": 0.05}, \"xaxis\": {\"automargin\": true, \"gridcolor\": \"white\", \"linecolor\": \"white\", \"ticks\": \"\", \"zerolinecolor\": \"white\", \"zerolinewidth\": 2}, \"yaxis\": {\"automargin\": true, \"gridcolor\": \"white\", \"linecolor\": \"white\", \"ticks\": \"\", \"zerolinecolor\": \"white\", \"zerolinewidth\": 2}}}, \"xaxis\": {\"title\": {\"text\": \"Age\"}}, \"yaxis\": {\"title\": {\"text\": \"Density\"}}},\n",
       "                        {\"responsive\": true}\n",
       "                    ).then(function(){\n",
       "                            \n",
       "var gd = document.getElementById('268c6d2d-bf49-473f-b681-cb541c0b52f5');\n",
       "var x = new MutationObserver(function (mutations, observer) {{\n",
       "        var display = window.getComputedStyle(gd).display;\n",
       "        if (!display || display === 'none') {{\n",
       "            console.log([gd, 'removed!']);\n",
       "            Plotly.purge(gd);\n",
       "            observer.disconnect();\n",
       "        }}\n",
       "}});\n",
       "\n",
       "// Listen for the removal of the full notebook cells\n",
       "var notebookContainer = gd.closest('#notebook-container');\n",
       "if (notebookContainer) {{\n",
       "    x.observe(notebookContainer, {childList: true});\n",
       "}}\n",
       "\n",
       "// Listen for the clearing of the current output cell\n",
       "var outputEl = gd.closest('.output');\n",
       "if (outputEl) {{\n",
       "    x.observe(outputEl, {childList: true});\n",
       "}}\n",
       "\n",
       "                        })\n",
       "                };\n",
       "                });\n",
       "            </script>\n",
       "        </div>"
      ]
     },
     "metadata": {},
     "output_type": "display_data"
    }
   ],
   "source": [
    "import plotly.express as px\n",
    "# fig = px.histogram(df, x=\"Age\", y=\"Cath\", color=\"Cath\",histnorm='probability density')\n",
    "# fig.update_traces(opacity=0.5)\n",
    "# fig.show()\n",
    "import plotly.graph_objects as go\n",
    "\n",
    "x0 = df['Age'][df['Cath'] == 'Cad']\n",
    "# Add 1 to shift the mean of the Gaussian distribution\n",
    "x1 = df['Age'][df['Cath'] == 'Normal']\n",
    "\n",
    "fig = go.Figure()\n",
    "fig.add_trace(go.Histogram(x=x0,histnorm='probability density',name='CAD'))\n",
    "fig.add_trace(go.Histogram(x=x1,histnorm='probability density',name='Normal'))\n",
    "\n",
    "# Overlay both histograms\n",
    "fig.update_layout(barmode='overlay')\n",
    "fig.update_layout(\n",
    "    xaxis_title=\"Age\",\n",
    "    yaxis_title=\"Density\"\n",
    "#     font=dict(\n",
    "#         family=\"Courier New, monospace\",\n",
    "#         size=18,\n",
    "# #         color=\"#7f7f7f\"\n",
    "#     )\n",
    ")\n",
    "# Reduce opacity to see both histograms\n",
    "fig.update_traces(opacity=0.7)\n",
    "fig.show()"
   ]
  },
  {
   "cell_type": "code",
   "execution_count": 20,
   "metadata": {},
   "outputs": [
    {
     "data": {
      "image/png": "[encoded data removed]",
      "text/plain": [
       "<Figure size 432x288 with 1 Axes>"
      ]
     },
     "metadata": {
      "needs_background": "light"
     },
     "output_type": "display_data"
    }
   ],
   "source": [
    "df[['EF-TTE','Cath']].boxplot(by='Cath')\n",
    "# plt.plot([50, 0], [1, 50], 'k-', lw=.5,color='red')\n",
    "plt.show()"
   ]
  },
  {
   "cell_type": "code",
   "execution_count": 81,
   "metadata": {},
   "outputs": [
    {
     "name": "stderr",
     "output_type": "stream",
     "text": [
      "/opt/conda/lib/python3.7/site-packages/ipykernel_launcher.py:4: SettingWithCopyWarning:\n",
      "\n",
      "\n",
      "A value is trying to be set on a copy of a slice from a DataFrame\n",
      "\n",
      "See the caveats in the documentation: http://pandas.pydata.org/pandas-docs/stable/user_guide/indexing.html#returning-a-view-versus-a-copy\n",
      "\n",
      "/opt/conda/lib/python3.7/site-packages/ipykernel_launcher.py:6: SettingWithCopyWarning:\n",
      "\n",
      "\n",
      "A value is trying to be set on a copy of a slice from a DataFrame\n",
      "\n",
      "See the caveats in the documentation: http://pandas.pydata.org/pandas-docs/stable/user_guide/indexing.html#returning-a-view-versus-a-copy\n",
      "\n"
     ]
    }
   ],
   "source": [
    "df2 = df.copy()\n",
    "for i in range(len(df['Cath'])):\n",
    "    if df['Cath'][i] == 'Cad':\n",
    "        df2['Cath'][i] = 'yes'\n",
    "    else:\n",
    "        df2['Cath'][i] = 'no'"
   ]
  },
  {
   "cell_type": "code",
   "execution_count": 82,
   "metadata": {},
   "outputs": [
    {
     "data": {
      "text/plain": [
       "count     303\n",
       "unique      2\n",
       "top       yes\n",
       "freq      216\n",
       "Name: Cath, dtype: object"
      ]
     },
     "execution_count": 82,
     "metadata": {},
     "output_type": "execute_result"
    }
   ],
   "source": [
    "df2['Cath'].describe()"
   ]
  },
  {
   "cell_type": "code",
   "execution_count": 84,
   "metadata": {},
   "outputs": [
    {
     "data": {
      "application/vnd.plotly.v1+json": {
       "config": {
        "plotlyServerURL": "https://plot.ly"
       },
       "data": [
        {
         "alignmentgroup": "True",
         "hoverlabel": {
          "namelength": 0
         },
         "hovertemplate": "Cath=%{x}<br>EF-TTE=%{y}",
         "legendgroup": "Cath=yes",
         "marker": {
          "color": "#636efa"
         },
         "name": "Cath=yes",
         "notched": true,
         "offsetgroup": "Cath=yes",
         "orientation": "v",
         "showlegend": true,
         "type": "box",
         "x": [
          "yes",
          "yes",
          "yes",
          "yes",
          "yes",
          "yes",
          "yes",
          "yes",
          "yes",
          "yes",
          "yes",
          "yes",
          "yes",
          "yes",
          "yes",
          "yes",
          "yes",
          "yes",
          "yes",
          "yes",
          "yes",
          "yes",
          "yes",
          "yes",
          "yes",
          "yes",
          "yes",
          "yes",
          "yes",
          "yes",
          "yes",
          "yes",
          "yes",
          "yes",
          "yes",
          "yes",
          "yes",
          "yes",
          "yes",
          "yes",
          "yes",
          "yes",
          "yes",
          "yes",
          "yes",
          "yes",
          "yes",
          "yes",
          "yes",
          "yes",
          "yes",
          "yes",
          "yes",
          "yes",
          "yes",
          "yes",
          "yes",
          "yes",
          "yes",
          "yes",
          "yes",
          "yes",
          "yes",
          "yes",
          "yes",
          "yes",
          "yes",
          "yes",
          "yes",
          "yes",
          "yes",
          "yes",
          "yes",
          "yes",
          "yes",
          "yes",
          "yes",
          "yes",
          "yes",
          "yes",
          "yes",
          "yes",
          "yes",
          "yes",
          "yes",
          "yes",
          "yes",
          "yes",
          "yes",
          "yes",
          "yes",
          "yes",
          "yes",
          "yes",
          "yes",
          "yes",
          "yes",
          "yes",
          "yes",
          "yes",
          "yes",
          "yes",
          "yes",
          "yes",
          "yes",
          "yes",
          "yes",
          "yes",
          "yes",
          "yes",
          "yes",
          "yes",
          "yes",
          "yes",
          "yes",
          "yes",
          "yes",
          "yes",
          "yes",
          "yes",
          "yes",
          "yes",
          "yes",
          "yes",
          "yes",
          "yes",
          "yes",
          "yes",
          "yes",
          "yes",
          "yes",
          "yes",
          "yes",
          "yes",
          "yes",
          "yes",
          "yes",
          "yes",
          "yes",
          "yes",
          "yes",
          "yes",
          "yes",
          "yes",
          "yes",
          "yes",
          "yes",
          "yes",
          "yes",
          "yes",
          "yes",
          "yes",
          "yes",
          "yes",
          "yes",
          "yes",
          "yes",
          "yes",
          "yes",
          "yes",
          "yes",
          "yes",
          "yes",
          "yes",
          "yes",
          "yes",
          "yes",
          "yes",
          "yes",
          "yes",
          "yes",
          "yes",
          "yes",
          "yes",
          "yes",
          "yes",
          "yes",
          "yes",
          "yes",
          "yes",
          "yes",
          "yes",
          "yes",
          "yes",
          "yes",
          "yes",
          "yes",
          "yes",
          "yes",
          "yes",
          "yes",
          "yes",
          "yes",
          "yes",
          "yes",
          "yes",
          "yes",
          "yes",
          "yes",
          "yes",
          "yes",
          "yes",
          "yes",
          "yes",
          "yes",
          "yes",
          "yes",
          "yes",
          "yes",
          "yes",
          "yes",
          "yes",
          "yes",
          "yes",
          "yes",
          "yes"
         ],
         "x0": " ",
         "xaxis": "x",
         "y": [
          50,
          40,
          40,
          50,
          40,
          45,
          40,
          50,
          50,
          25,
          55,
          55,
          30,
          55,
          50,
          50,
          55,
          30,
          50,
          50,
          45,
          50,
          40,
          45,
          50,
          55,
          50,
          55,
          20,
          55,
          20,
          35,
          20,
          25,
          45,
          45,
          35,
          45,
          45,
          45,
          45,
          50,
          40,
          55,
          40,
          55,
          45,
          55,
          50,
          60,
          55,
          50,
          55,
          46,
          55,
          35,
          50,
          55,
          40,
          60,
          45,
          45,
          40,
          40,
          25,
          50,
          20,
          45,
          55,
          50,
          60,
          40,
          35,
          55,
          40,
          40,
          45,
          50,
          40,
          50,
          30,
          40,
          45,
          40,
          60,
          40,
          55,
          50,
          50,
          50,
          45,
          55,
          15,
          55,
          45,
          45,
          45,
          40,
          50,
          55,
          50,
          55,
          45,
          55,
          35,
          40,
          35,
          40,
          50,
          55,
          55,
          45,
          40,
          45,
          50,
          50,
          35,
          55,
          40,
          40,
          50,
          55,
          55,
          40,
          50,
          40,
          45,
          55,
          40,
          45,
          45,
          50,
          20,
          40,
          50,
          50,
          55,
          50,
          55,
          20,
          45,
          45,
          55,
          45,
          30,
          50,
          40,
          45,
          50,
          30,
          45,
          50,
          45,
          45,
          50,
          45,
          55,
          55,
          45,
          55,
          55,
          40,
          50,
          55,
          55,
          45,
          50,
          50,
          45,
          55,
          50,
          55,
          55,
          55,
          35,
          55,
          45,
          45,
          45,
          50,
          50,
          30,
          45,
          55,
          45,
          50,
          50,
          45,
          40,
          45,
          25,
          55,
          45,
          45,
          50,
          55,
          25,
          55,
          60,
          40,
          45,
          45,
          25,
          50,
          40,
          50,
          40,
          50,
          55,
          55,
          50,
          50,
          50,
          50,
          45,
          55
         ],
         "y0": " ",
         "yaxis": "y"
        },
        {
         "alignmentgroup": "True",
         "hoverlabel": {
          "namelength": 0
         },
         "hovertemplate": "Cath=%{x}<br>EF-TTE=%{y}",
         "legendgroup": "Cath=no",
         "marker": {
          "color": "#EF553B"
         },
         "name": "Cath=no",
         "notched": true,
         "offsetgroup": "Cath=no",
         "orientation": "v",
         "showlegend": true,
         "type": "box",
         "x": [
          "no",
          "no",
          "no",
          "no",
          "no",
          "no",
          "no",
          "no",
          "no",
          "no",
          "no",
          "no",
          "no",
          "no",
          "no",
          "no",
          "no",
          "no",
          "no",
          "no",
          "no",
          "no",
          "no",
          "no",
          "no",
          "no",
          "no",
          "no",
          "no",
          "no",
          "no",
          "no",
          "no",
          "no",
          "no",
          "no",
          "no",
          "no",
          "no",
          "no",
          "no",
          "no",
          "no",
          "no",
          "no",
          "no",
          "no",
          "no",
          "no",
          "no",
          "no",
          "no",
          "no",
          "no",
          "no",
          "no",
          "no",
          "no",
          "no",
          "no",
          "no",
          "no",
          "no",
          "no",
          "no",
          "no",
          "no",
          "no",
          "no",
          "no",
          "no",
          "no",
          "no",
          "no",
          "no",
          "no",
          "no",
          "no",
          "no",
          "no",
          "no",
          "no",
          "no",
          "no",
          "no",
          "no",
          "no"
         ],
         "x0": " ",
         "xaxis": "x",
         "y": [
          55,
          50,
          50,
          35,
          60,
          35,
          55,
          50,
          55,
          55,
          35,
          45,
          50,
          55,
          50,
          55,
          55,
          55,
          45,
          55,
          55,
          55,
          35,
          40,
          55,
          50,
          55,
          55,
          55,
          55,
          55,
          55,
          55,
          50,
          55,
          55,
          55,
          55,
          55,
          15,
          35,
          55,
          50,
          50,
          55,
          40,
          20,
          50,
          55,
          55,
          55,
          55,
          45,
          30,
          50,
          55,
          55,
          55,
          55,
          55,
          55,
          45,
          55,
          55,
          55,
          55,
          55,
          50,
          55,
          50,
          55,
          55,
          50,
          55,
          50,
          45,
          55,
          55,
          45,
          60,
          50,
          45,
          50,
          55,
          40,
          55,
          55
         ],
         "y0": " ",
         "yaxis": "y"
        }
       ],
       "layout": {
        "autosize": true,
        "boxmode": "group",
        "legend": {
         "tracegroupgap": 0
        },
        "margin": {
         "t": 60
        },
        "template": {
         "data": {
          "bar": [
           {
            "error_x": {
             "color": "#2a3f5f"
            },
            "error_y": {
             "color": "#2a3f5f"
            },
            "marker": {
             "line": {
              "color": "#E5ECF6",
              "width": 0.5
             }
            },
            "type": "bar"
           }
          ],
          "barpolar": [
           {
            "marker": {
             "line": {
              "color": "#E5ECF6",
              "width": 0.5
             }
            },
            "type": "barpolar"
           }
          ],
          "carpet": [
           {
            "aaxis": {
             "endlinecolor": "#2a3f5f",
             "gridcolor": "white",
             "linecolor": "white",
             "minorgridcolor": "white",
             "startlinecolor": "#2a3f5f"
            },
            "baxis": {
             "endlinecolor": "#2a3f5f",
             "gridcolor": "white",
             "linecolor": "white",
             "minorgridcolor": "white",
             "startlinecolor": "#2a3f5f"
            },
            "type": "carpet"
           }
          ],
          "choropleth": [
           {
            "colorbar": {
             "outlinewidth": 0,
             "ticks": ""
            },
            "type": "choropleth"
           }
          ],
          "contour": [
           {
            "colorbar": {
             "outlinewidth": 0,
             "ticks": ""
            },
            "colorscale": [
             [
              0,
              "#0d0887"
             ],
             [
              0.1111111111111111,
              "#46039f"
             ],
             [
              0.2222222222222222,
              "#7201a8"
             ],
             [
              0.3333333333333333,
              "#9c179e"
             ],
             [
              0.4444444444444444,
              "#bd3786"
             ],
             [
              0.5555555555555556,
              "#d8576b"
             ],
             [
              0.6666666666666666,
              "#ed7953"
             ],
             [
              0.7777777777777778,
              "#fb9f3a"
             ],
             [
              0.8888888888888888,
              "#fdca26"
             ],
             [
              1,
              "#f0f921"
             ]
            ],
            "type": "contour"
           }
          ],
          "contourcarpet": [
           {
            "colorbar": {
             "outlinewidth": 0,
             "ticks": ""
            },
            "type": "contourcarpet"
           }
          ],
          "heatmap": [
           {
            "colorbar": {
             "outlinewidth": 0,
             "ticks": ""
            },
            "colorscale": [
             [
              0,
              "#0d0887"
             ],
             [
              0.1111111111111111,
              "#46039f"
             ],
             [
              0.2222222222222222,
              "#7201a8"
             ],
             [
              0.3333333333333333,
              "#9c179e"
             ],
             [
              0.4444444444444444,
              "#bd3786"
             ],
             [
              0.5555555555555556,
              "#d8576b"
             ],
             [
              0.6666666666666666,
              "#ed7953"
             ],
             [
              0.7777777777777778,
              "#fb9f3a"
             ],
             [
              0.8888888888888888,
              "#fdca26"
             ],
             [
              1,
              "#f0f921"
             ]
            ],
            "type": "heatmap"
           }
          ],
          "heatmapgl": [
           {
            "colorbar": {
             "outlinewidth": 0,
             "ticks": ""
            },
            "colorscale": [
             [
              0,
              "#0d0887"
             ],
             [
              0.1111111111111111,
              "#46039f"
             ],
             [
              0.2222222222222222,
              "#7201a8"
             ],
             [
              0.3333333333333333,
              "#9c179e"
             ],
             [
              0.4444444444444444,
              "#bd3786"
             ],
             [
              0.5555555555555556,
              "#d8576b"
             ],
             [
              0.6666666666666666,
              "#ed7953"
             ],
             [
              0.7777777777777778,
              "#fb9f3a"
             ],
             [
              0.8888888888888888,
              "#fdca26"
             ],
             [
              1,
              "#f0f921"
             ]
            ],
            "type": "heatmapgl"
           }
          ],
          "histogram": [
           {
            "marker": {
             "colorbar": {
              "outlinewidth": 0,
              "ticks": ""
             }
            },
            "type": "histogram"
           }
          ],
          "histogram2d": [
           {
            "colorbar": {
             "outlinewidth": 0,
             "ticks": ""
            },
            "colorscale": [
             [
              0,
              "#0d0887"
             ],
             [
              0.1111111111111111,
              "#46039f"
             ],
             [
              0.2222222222222222,
              "#7201a8"
             ],
             [
              0.3333333333333333,
              "#9c179e"
             ],
             [
              0.4444444444444444,
              "#bd3786"
             ],
             [
              0.5555555555555556,
              "#d8576b"
             ],
             [
              0.6666666666666666,
              "#ed7953"
             ],
             [
              0.7777777777777778,
              "#fb9f3a"
             ],
             [
              0.8888888888888888,
              "#fdca26"
             ],
             [
              1,
              "#f0f921"
             ]
            ],
            "type": "histogram2d"
           }
          ],
          "histogram2dcontour": [
           {
            "colorbar": {
             "outlinewidth": 0,
             "ticks": ""
            },
            "colorscale": [
             [
              0,
              "#0d0887"
             ],
             [
              0.1111111111111111,
              "#46039f"
             ],
             [
              0.2222222222222222,
              "#7201a8"
             ],
             [
              0.3333333333333333,
              "#9c179e"
             ],
             [
              0.4444444444444444,
              "#bd3786"
             ],
             [
              0.5555555555555556,
              "#d8576b"
             ],
             [
              0.6666666666666666,
              "#ed7953"
             ],
             [
              0.7777777777777778,
              "#fb9f3a"
             ],
             [
              0.8888888888888888,
              "#fdca26"
             ],
             [
              1,
              "#f0f921"
             ]
            ],
            "type": "histogram2dcontour"
           }
          ],
          "mesh3d": [
           {
            "colorbar": {
             "outlinewidth": 0,
             "ticks": ""
            },
            "type": "mesh3d"
           }
          ],
          "parcoords": [
           {
            "line": {
             "colorbar": {
              "outlinewidth": 0,
              "ticks": ""
             }
            },
            "type": "parcoords"
           }
          ],
          "scatter": [
           {
            "marker": {
             "colorbar": {
              "outlinewidth": 0,
              "ticks": ""
             }
            },
            "type": "scatter"
           }
          ],
          "scatter3d": [
           {
            "line": {
             "colorbar": {
              "outlinewidth": 0,
              "ticks": ""
             }
            },
            "marker": {
             "colorbar": {
              "outlinewidth": 0,
              "ticks": ""
             }
            },
            "type": "scatter3d"
           }
          ],
          "scattercarpet": [
           {
            "marker": {
             "colorbar": {
              "outlinewidth": 0,
              "ticks": ""
             }
            },
            "type": "scattercarpet"
           }
          ],
          "scattergeo": [
           {
            "marker": {
             "colorbar": {
              "outlinewidth": 0,
              "ticks": ""
             }
            },
            "type": "scattergeo"
           }
          ],
          "scattergl": [
           {
            "marker": {
             "colorbar": {
              "outlinewidth": 0,
              "ticks": ""
             }
            },
            "type": "scattergl"
           }
          ],
          "scattermapbox": [
           {
            "marker": {
             "colorbar": {
              "outlinewidth": 0,
              "ticks": ""
             }
            },
            "type": "scattermapbox"
           }
          ],
          "scatterpolar": [
           {
            "marker": {
             "colorbar": {
              "outlinewidth": 0,
              "ticks": ""
             }
            },
            "type": "scatterpolar"
           }
          ],
          "scatterpolargl": [
           {
            "marker": {
             "colorbar": {
              "outlinewidth": 0,
              "ticks": ""
             }
            },
            "type": "scatterpolargl"
           }
          ],
          "scatterternary": [
           {
            "marker": {
             "colorbar": {
              "outlinewidth": 0,
              "ticks": ""
             }
            },
            "type": "scatterternary"
           }
          ],
          "surface": [
           {
            "colorbar": {
             "outlinewidth": 0,
             "ticks": ""
            },
            "colorscale": [
             [
              0,
              "#0d0887"
             ],
             [
              0.1111111111111111,
              "#46039f"
             ],
             [
              0.2222222222222222,
              "#7201a8"
             ],
             [
              0.3333333333333333,
              "#9c179e"
             ],
             [
              0.4444444444444444,
              "#bd3786"
             ],
             [
              0.5555555555555556,
              "#d8576b"
             ],
             [
              0.6666666666666666,
              "#ed7953"
             ],
             [
              0.7777777777777778,
              "#fb9f3a"
             ],
             [
              0.8888888888888888,
              "#fdca26"
             ],
             [
              1,
              "#f0f921"
             ]
            ],
            "type": "surface"
           }
          ],
          "table": [
           {
            "cells": {
             "fill": {
              "color": "#EBF0F8"
             },
             "line": {
              "color": "white"
             }
            },
            "header": {
             "fill": {
              "color": "#C8D4E3"
             },
             "line": {
              "color": "white"
             }
            },
            "type": "table"
           }
          ]
         },
         "layout": {
          "annotationdefaults": {
           "arrowcolor": "#2a3f5f",
           "arrowhead": 0,
           "arrowwidth": 1
          },
          "colorscale": {
           "diverging": [
            [
             0,
             "#8e0152"
            ],
            [
             0.1,
             "#c51b7d"
            ],
            [
             0.2,
             "#de77ae"
            ],
            [
             0.3,
             "#f1b6da"
            ],
            [
             0.4,
             "#fde0ef"
            ],
            [
             0.5,
             "#f7f7f7"
            ],
            [
             0.6,
             "#e6f5d0"
            ],
            [
             0.7,
             "#b8e186"
            ],
            [
             0.8,
             "#7fbc41"
            ],
            [
             0.9,
             "#4d9221"
            ],
            [
             1,
             "#276419"
            ]
           ],
           "sequential": [
            [
             0,
             "#0d0887"
            ],
            [
             0.1111111111111111,
             "#46039f"
            ],
            [
             0.2222222222222222,
             "#7201a8"
            ],
            [
             0.3333333333333333,
             "#9c179e"
            ],
            [
             0.4444444444444444,
             "#bd3786"
            ],
            [
             0.5555555555555556,
             "#d8576b"
            ],
            [
             0.6666666666666666,
             "#ed7953"
            ],
            [
             0.7777777777777778,
             "#fb9f3a"
            ],
            [
             0.8888888888888888,
             "#fdca26"
            ],
            [
             1,
             "#f0f921"
            ]
           ],
           "sequentialminus": [
            [
             0,
             "#0d0887"
            ],
            [
             0.1111111111111111,
             "#46039f"
            ],
            [
             0.2222222222222222,
             "#7201a8"
            ],
            [
             0.3333333333333333,
             "#9c179e"
            ],
            [
             0.4444444444444444,
             "#bd3786"
            ],
            [
             0.5555555555555556,
             "#d8576b"
            ],
            [
             0.6666666666666666,
             "#ed7953"
            ],
            [
             0.7777777777777778,
             "#fb9f3a"
            ],
            [
             0.8888888888888888,
             "#fdca26"
            ],
            [
             1,
             "#f0f921"
            ]
           ]
          },
          "colorway": [
           "#636efa",
           "#EF553B",
           "#00cc96",
           "#ab63fa",
           "#FFA15A",
           "#19d3f3",
           "#FF6692",
           "#B6E880",
           "#FF97FF",
           "#FECB52"
          ],
          "font": {
           "color": "#2a3f5f"
          },
          "geo": {
           "bgcolor": "white",
           "lakecolor": "white",
           "landcolor": "#E5ECF6",
           "showlakes": true,
           "showland": true,
           "subunitcolor": "white"
          },
          "hoverlabel": {
           "align": "left"
          },
          "hovermode": "closest",
          "mapbox": {
           "style": "light"
          },
          "paper_bgcolor": "white",
          "plot_bgcolor": "#E5ECF6",
          "polar": {
           "angularaxis": {
            "gridcolor": "white",
            "linecolor": "white",
            "ticks": ""
           },
           "bgcolor": "#E5ECF6",
           "radialaxis": {
            "gridcolor": "white",
            "linecolor": "white",
            "ticks": ""
           }
          },
          "scene": {
           "xaxis": {
            "backgroundcolor": "#E5ECF6",
            "gridcolor": "white",
            "gridwidth": 2,
            "linecolor": "white",
            "showbackground": true,
            "ticks": "",
            "zerolinecolor": "white"
           },
           "yaxis": {
            "backgroundcolor": "#E5ECF6",
            "gridcolor": "white",
            "gridwidth": 2,
            "linecolor": "white",
            "showbackground": true,
            "ticks": "",
            "zerolinecolor": "white"
           },
           "zaxis": {
            "backgroundcolor": "#E5ECF6",
            "gridcolor": "white",
            "gridwidth": 2,
            "linecolor": "white",
            "showbackground": true,
            "ticks": "",
            "zerolinecolor": "white"
           }
          },
          "shapedefaults": {
           "line": {
            "color": "#2a3f5f"
           }
          },
          "ternary": {
           "aaxis": {
            "gridcolor": "white",
            "linecolor": "white",
            "ticks": ""
           },
           "baxis": {
            "gridcolor": "white",
            "linecolor": "white",
            "ticks": ""
           },
           "bgcolor": "#E5ECF6",
           "caxis": {
            "gridcolor": "white",
            "linecolor": "white",
            "ticks": ""
           }
          },
          "title": {
           "x": 0.05
          },
          "xaxis": {
           "automargin": true,
           "gridcolor": "white",
           "linecolor": "white",
           "ticks": "",
           "zerolinecolor": "white",
           "zerolinewidth": 2
          },
          "yaxis": {
           "automargin": true,
           "gridcolor": "white",
           "linecolor": "white",
           "ticks": "",
           "zerolinecolor": "white",
           "zerolinewidth": 2
          }
         }
        },
        "xaxis": {
         "anchor": "y",
         "autorange": true,
         "categoryarray": [
          "yes",
          "no"
         ],
         "categoryorder": "array",
         "domain": [
          0,
          0.98
         ],
         "range": [
          -0.5082083834956769,
          1.508208383495677
         ],
         "title": {
          "text": "Cad"
         },
         "type": "category"
        },
        "yaxis": {
         "anchor": "x",
         "autorange": true,
         "domain": [
          0,
          1
         ],
         "range": [
          12.5,
          62.5
         ],
         "title": {
          "text": "EF-TTE"
         },
         "type": "linear"
        }
       }
      },
      "image/png": "[encoded data removed]",
      "text/html": [
       "<div>\n",
       "        \n",
       "        \n",
       "            <div id=\"91c4e46b-46f3-431a-b6ac-6b009ec8676a\" class=\"plotly-graph-div\" style=\"height:600px; width:100%;\"></div>\n",
       "            <script type=\"text/javascript\">\n",
       "                require([\"plotly\"], function(Plotly) {\n",
       "                    window.PLOTLYENV=window.PLOTLYENV || {};\n",
       "                    \n",
       "                if (document.getElementById(\"91c4e46b-46f3-431a-b6ac-6b009ec8676a\")) {\n",
       "                    Plotly.newPlot(\n",
       "                        '91c4e46b-46f3-431a-b6ac-6b009ec8676a',\n",
       "                        [{\"alignmentgroup\": \"True\", \"hoverlabel\": {\"namelength\": 0}, \"hovertemplate\": \"Cath=%{x}<br>EF-TTE=%{y}\", \"legendgroup\": \"Cath=yes\", \"marker\": {\"color\": \"#636efa\"}, \"name\": \"Cath=yes\", \"notched\": true, \"offsetgroup\": \"Cath=yes\", \"orientation\": \"v\", \"showlegend\": true, \"type\": \"box\", \"x\": [\"yes\", \"yes\", \"yes\", \"yes\", \"yes\", \"yes\", \"yes\", \"yes\", \"yes\", \"yes\", \"yes\", \"yes\", \"yes\", \"yes\", \"yes\", \"yes\", \"yes\", \"yes\", \"yes\", \"yes\", \"yes\", \"yes\", \"yes\", \"yes\", \"yes\", \"yes\", \"yes\", \"yes\", \"yes\", \"yes\", \"yes\", \"yes\", \"yes\", \"yes\", \"yes\", \"yes\", \"yes\", \"yes\", \"yes\", \"yes\", \"yes\", \"yes\", \"yes\", \"yes\", \"yes\", \"yes\", \"yes\", \"yes\", \"yes\", \"yes\", \"yes\", \"yes\", \"yes\", \"yes\", \"yes\", \"yes\", \"yes\", \"yes\", \"yes\", \"yes\", \"yes\", \"yes\", \"yes\", \"yes\", \"yes\", \"yes\", \"yes\", \"yes\", \"yes\", \"yes\", \"yes\", \"yes\", \"yes\", \"yes\", \"yes\", \"yes\", \"yes\", \"yes\", \"yes\", \"yes\", \"yes\", \"yes\", \"yes\", \"yes\", \"yes\", \"yes\", \"yes\", \"yes\", \"yes\", \"yes\", \"yes\", \"yes\", \"yes\", \"yes\", \"yes\", \"yes\", \"yes\", \"yes\", \"yes\", \"yes\", \"yes\", \"yes\", \"yes\", \"yes\", \"yes\", \"yes\", \"yes\", \"yes\", \"yes\", \"yes\", \"yes\", \"yes\", \"yes\", \"yes\", \"yes\", \"yes\", \"yes\", \"yes\", \"yes\", \"yes\", \"yes\", \"yes\", \"yes\", \"yes\", \"yes\", \"yes\", \"yes\", \"yes\", \"yes\", \"yes\", \"yes\", \"yes\", \"yes\", \"yes\", \"yes\", \"yes\", \"yes\", \"yes\", \"yes\", \"yes\", \"yes\", \"yes\", \"yes\", \"yes\", \"yes\", \"yes\", \"yes\", \"yes\", \"yes\", \"yes\", \"yes\", \"yes\", \"yes\", \"yes\", \"yes\", \"yes\", \"yes\", \"yes\", \"yes\", \"yes\", \"yes\", \"yes\", \"yes\", \"yes\", \"yes\", \"yes\", \"yes\", \"yes\", \"yes\", \"yes\", \"yes\", \"yes\", \"yes\", \"yes\", \"yes\", \"yes\", \"yes\", \"yes\", \"yes\", \"yes\", \"yes\", \"yes\", \"yes\", \"yes\", \"yes\", \"yes\", \"yes\", \"yes\", \"yes\", \"yes\", \"yes\", \"yes\", \"yes\", \"yes\", \"yes\", \"yes\", \"yes\", \"yes\", \"yes\", \"yes\", \"yes\", \"yes\", \"yes\", \"yes\", \"yes\", \"yes\", \"yes\", \"yes\", \"yes\", \"yes\", \"yes\", \"yes\", \"yes\", \"yes\", \"yes\", \"yes\"], \"x0\": \" \", \"xaxis\": \"x\", \"y\": [50, 40, 40, 50, 40, 45, 40, 50, 50, 25, 55, 55, 30, 55, 50, 50, 55, 30, 50, 50, 45, 50, 40, 45, 50, 55, 50, 55, 20, 55, 20, 35, 20, 25, 45, 45, 35, 45, 45, 45, 45, 50, 40, 55, 40, 55, 45, 55, 50, 60, 55, 50, 55, 46, 55, 35, 50, 55, 40, 60, 45, 45, 40, 40, 25, 50, 20, 45, 55, 50, 60, 40, 35, 55, 40, 40, 45, 50, 40, 50, 30, 40, 45, 40, 60, 40, 55, 50, 50, 50, 45, 55, 15, 55, 45, 45, 45, 40, 50, 55, 50, 55, 45, 55, 35, 40, 35, 40, 50, 55, 55, 45, 40, 45, 50, 50, 35, 55, 40, 40, 50, 55, 55, 40, 50, 40, 45, 55, 40, 45, 45, 50, 20, 40, 50, 50, 55, 50, 55, 20, 45, 45, 55, 45, 30, 50, 40, 45, 50, 30, 45, 50, 45, 45, 50, 45, 55, 55, 45, 55, 55, 40, 50, 55, 55, 45, 50, 50, 45, 55, 50, 55, 55, 55, 35, 55, 45, 45, 45, 50, 50, 30, 45, 55, 45, 50, 50, 45, 40, 45, 25, 55, 45, 45, 50, 55, 25, 55, 60, 40, 45, 45, 25, 50, 40, 50, 40, 50, 55, 55, 50, 50, 50, 50, 45, 55], \"y0\": \" \", \"yaxis\": \"y\"}, {\"alignmentgroup\": \"True\", \"hoverlabel\": {\"namelength\": 0}, \"hovertemplate\": \"Cath=%{x}<br>EF-TTE=%{y}\", \"legendgroup\": \"Cath=no\", \"marker\": {\"color\": \"#EF553B\"}, \"name\": \"Cath=no\", \"notched\": true, \"offsetgroup\": \"Cath=no\", \"orientation\": \"v\", \"showlegend\": true, \"type\": \"box\", \"x\": [\"no\", \"no\", \"no\", \"no\", \"no\", \"no\", \"no\", \"no\", \"no\", \"no\", \"no\", \"no\", \"no\", \"no\", \"no\", \"no\", \"no\", \"no\", \"no\", \"no\", \"no\", \"no\", \"no\", \"no\", \"no\", \"no\", \"no\", \"no\", \"no\", \"no\", \"no\", \"no\", \"no\", \"no\", \"no\", \"no\", \"no\", \"no\", \"no\", \"no\", \"no\", \"no\", \"no\", \"no\", \"no\", \"no\", \"no\", \"no\", \"no\", \"no\", \"no\", \"no\", \"no\", \"no\", \"no\", \"no\", \"no\", \"no\", \"no\", \"no\", \"no\", \"no\", \"no\", \"no\", \"no\", \"no\", \"no\", \"no\", \"no\", \"no\", \"no\", \"no\", \"no\", \"no\", \"no\", \"no\", \"no\", \"no\", \"no\", \"no\", \"no\", \"no\", \"no\", \"no\", \"no\", \"no\", \"no\"], \"x0\": \" \", \"xaxis\": \"x\", \"y\": [55, 50, 50, 35, 60, 35, 55, 50, 55, 55, 35, 45, 50, 55, 50, 55, 55, 55, 45, 55, 55, 55, 35, 40, 55, 50, 55, 55, 55, 55, 55, 55, 55, 50, 55, 55, 55, 55, 55, 15, 35, 55, 50, 50, 55, 40, 20, 50, 55, 55, 55, 55, 45, 30, 50, 55, 55, 55, 55, 55, 55, 45, 55, 55, 55, 55, 55, 50, 55, 50, 55, 55, 50, 55, 50, 45, 55, 55, 45, 60, 50, 45, 50, 55, 40, 55, 55], \"y0\": \" \", \"yaxis\": \"y\"}],\n",
       "                        {\"boxmode\": \"group\", \"height\": 600, \"legend\": {\"tracegroupgap\": 0}, \"margin\": {\"t\": 60}, \"template\": {\"data\": {\"bar\": [{\"error_x\": {\"color\": \"#2a3f5f\"}, \"error_y\": {\"color\": \"#2a3f5f\"}, \"marker\": {\"line\": {\"color\": \"#E5ECF6\", \"width\": 0.5}}, \"type\": \"bar\"}], \"barpolar\": [{\"marker\": {\"line\": {\"color\": \"#E5ECF6\", \"width\": 0.5}}, \"type\": \"barpolar\"}], \"carpet\": [{\"aaxis\": {\"endlinecolor\": \"#2a3f5f\", \"gridcolor\": \"white\", \"linecolor\": \"white\", \"minorgridcolor\": \"white\", \"startlinecolor\": \"#2a3f5f\"}, \"baxis\": {\"endlinecolor\": \"#2a3f5f\", \"gridcolor\": \"white\", \"linecolor\": \"white\", \"minorgridcolor\": \"white\", \"startlinecolor\": \"#2a3f5f\"}, \"type\": \"carpet\"}], \"choropleth\": [{\"colorbar\": {\"outlinewidth\": 0, \"ticks\": \"\"}, \"type\": \"choropleth\"}], \"contour\": [{\"colorbar\": {\"outlinewidth\": 0, \"ticks\": \"\"}, \"colorscale\": [[0.0, \"#0d0887\"], [0.1111111111111111, \"#46039f\"], [0.2222222222222222, \"#7201a8\"], [0.3333333333333333, \"#9c179e\"], [0.4444444444444444, \"#bd3786\"], [0.5555555555555556, \"#d8576b\"], [0.6666666666666666, \"#ed7953\"], [0.7777777777777778, \"#fb9f3a\"], [0.8888888888888888, \"#fdca26\"], [1.0, \"#f0f921\"]], \"type\": \"contour\"}], \"contourcarpet\": [{\"colorbar\": {\"outlinewidth\": 0, \"ticks\": \"\"}, \"type\": \"contourcarpet\"}], \"heatmap\": [{\"colorbar\": {\"outlinewidth\": 0, \"ticks\": \"\"}, \"colorscale\": [[0.0, \"#0d0887\"], [0.1111111111111111, \"#46039f\"], [0.2222222222222222, \"#7201a8\"], [0.3333333333333333, \"#9c179e\"], [0.4444444444444444, \"#bd3786\"], [0.5555555555555556, \"#d8576b\"], [0.6666666666666666, \"#ed7953\"], [0.7777777777777778, \"#fb9f3a\"], [0.8888888888888888, \"#fdca26\"], [1.0, \"#f0f921\"]], \"type\": \"heatmap\"}], \"heatmapgl\": [{\"colorbar\": {\"outlinewidth\": 0, \"ticks\": \"\"}, \"colorscale\": [[0.0, \"#0d0887\"], [0.1111111111111111, \"#46039f\"], [0.2222222222222222, \"#7201a8\"], [0.3333333333333333, \"#9c179e\"], [0.4444444444444444, \"#bd3786\"], [0.5555555555555556, \"#d8576b\"], [0.6666666666666666, \"#ed7953\"], [0.7777777777777778, \"#fb9f3a\"], [0.8888888888888888, \"#fdca26\"], [1.0, \"#f0f921\"]], \"type\": \"heatmapgl\"}], \"histogram\": [{\"marker\": {\"colorbar\": {\"outlinewidth\": 0, \"ticks\": \"\"}}, \"type\": \"histogram\"}], \"histogram2d\": [{\"colorbar\": {\"outlinewidth\": 0, \"ticks\": \"\"}, \"colorscale\": [[0.0, \"#0d0887\"], [0.1111111111111111, \"#46039f\"], [0.2222222222222222, \"#7201a8\"], [0.3333333333333333, \"#9c179e\"], [0.4444444444444444, \"#bd3786\"], [0.5555555555555556, \"#d8576b\"], [0.6666666666666666, \"#ed7953\"], [0.7777777777777778, \"#fb9f3a\"], [0.8888888888888888, \"#fdca26\"], [1.0, \"#f0f921\"]], \"type\": \"histogram2d\"}], \"histogram2dcontour\": [{\"colorbar\": {\"outlinewidth\": 0, \"ticks\": \"\"}, \"colorscale\": [[0.0, \"#0d0887\"], [0.1111111111111111, \"#46039f\"], [0.2222222222222222, \"#7201a8\"], [0.3333333333333333, \"#9c179e\"], [0.4444444444444444, \"#bd3786\"], [0.5555555555555556, \"#d8576b\"], [0.6666666666666666, \"#ed7953\"], [0.7777777777777778, \"#fb9f3a\"], [0.8888888888888888, \"#fdca26\"], [1.0, \"#f0f921\"]], \"type\": \"histogram2dcontour\"}], \"mesh3d\": [{\"colorbar\": {\"outlinewidth\": 0, \"ticks\": \"\"}, \"type\": \"mesh3d\"}], \"parcoords\": [{\"line\": {\"colorbar\": {\"outlinewidth\": 0, \"ticks\": \"\"}}, \"type\": \"parcoords\"}], \"scatter\": [{\"marker\": {\"colorbar\": {\"outlinewidth\": 0, \"ticks\": \"\"}}, \"type\": \"scatter\"}], \"scatter3d\": [{\"line\": {\"colorbar\": {\"outlinewidth\": 0, \"ticks\": \"\"}}, \"marker\": {\"colorbar\": {\"outlinewidth\": 0, \"ticks\": \"\"}}, \"type\": \"scatter3d\"}], \"scattercarpet\": [{\"marker\": {\"colorbar\": {\"outlinewidth\": 0, \"ticks\": \"\"}}, \"type\": \"scattercarpet\"}], \"scattergeo\": [{\"marker\": {\"colorbar\": {\"outlinewidth\": 0, \"ticks\": \"\"}}, \"type\": \"scattergeo\"}], \"scattergl\": [{\"marker\": {\"colorbar\": {\"outlinewidth\": 0, \"ticks\": \"\"}}, \"type\": \"scattergl\"}], \"scattermapbox\": [{\"marker\": {\"colorbar\": {\"outlinewidth\": 0, \"ticks\": \"\"}}, \"type\": \"scattermapbox\"}], \"scatterpolar\": [{\"marker\": {\"colorbar\": {\"outlinewidth\": 0, \"ticks\": \"\"}}, \"type\": \"scatterpolar\"}], \"scatterpolargl\": [{\"marker\": {\"colorbar\": {\"outlinewidth\": 0, \"ticks\": \"\"}}, \"type\": \"scatterpolargl\"}], \"scatterternary\": [{\"marker\": {\"colorbar\": {\"outlinewidth\": 0, \"ticks\": \"\"}}, \"type\": \"scatterternary\"}], \"surface\": [{\"colorbar\": {\"outlinewidth\": 0, \"ticks\": \"\"}, \"colorscale\": [[0.0, \"#0d0887\"], [0.1111111111111111, \"#46039f\"], [0.2222222222222222, \"#7201a8\"], [0.3333333333333333, \"#9c179e\"], [0.4444444444444444, \"#bd3786\"], [0.5555555555555556, \"#d8576b\"], [0.6666666666666666, \"#ed7953\"], [0.7777777777777778, \"#fb9f3a\"], [0.8888888888888888, \"#fdca26\"], [1.0, \"#f0f921\"]], \"type\": \"surface\"}], \"table\": [{\"cells\": {\"fill\": {\"color\": \"#EBF0F8\"}, \"line\": {\"color\": \"white\"}}, \"header\": {\"fill\": {\"color\": \"#C8D4E3\"}, \"line\": {\"color\": \"white\"}}, \"type\": \"table\"}]}, \"layout\": {\"annotationdefaults\": {\"arrowcolor\": \"#2a3f5f\", \"arrowhead\": 0, \"arrowwidth\": 1}, \"colorscale\": {\"diverging\": [[0, \"#8e0152\"], [0.1, \"#c51b7d\"], [0.2, \"#de77ae\"], [0.3, \"#f1b6da\"], [0.4, \"#fde0ef\"], [0.5, \"#f7f7f7\"], [0.6, \"#e6f5d0\"], [0.7, \"#b8e186\"], [0.8, \"#7fbc41\"], [0.9, \"#4d9221\"], [1, \"#276419\"]], \"sequential\": [[0.0, \"#0d0887\"], [0.1111111111111111, \"#46039f\"], [0.2222222222222222, \"#7201a8\"], [0.3333333333333333, \"#9c179e\"], [0.4444444444444444, \"#bd3786\"], [0.5555555555555556, \"#d8576b\"], [0.6666666666666666, \"#ed7953\"], [0.7777777777777778, \"#fb9f3a\"], [0.8888888888888888, \"#fdca26\"], [1.0, \"#f0f921\"]], \"sequentialminus\": [[0.0, \"#0d0887\"], [0.1111111111111111, \"#46039f\"], [0.2222222222222222, \"#7201a8\"], [0.3333333333333333, \"#9c179e\"], [0.4444444444444444, \"#bd3786\"], [0.5555555555555556, \"#d8576b\"], [0.6666666666666666, \"#ed7953\"], [0.7777777777777778, \"#fb9f3a\"], [0.8888888888888888, \"#fdca26\"], [1.0, \"#f0f921\"]]}, \"colorway\": [\"#636efa\", \"#EF553B\", \"#00cc96\", \"#ab63fa\", \"#FFA15A\", \"#19d3f3\", \"#FF6692\", \"#B6E880\", \"#FF97FF\", \"#FECB52\"], \"font\": {\"color\": \"#2a3f5f\"}, \"geo\": {\"bgcolor\": \"white\", \"lakecolor\": \"white\", \"landcolor\": \"#E5ECF6\", \"showlakes\": true, \"showland\": true, \"subunitcolor\": \"white\"}, \"hoverlabel\": {\"align\": \"left\"}, \"hovermode\": \"closest\", \"mapbox\": {\"style\": \"light\"}, \"paper_bgcolor\": \"white\", \"plot_bgcolor\": \"#E5ECF6\", \"polar\": {\"angularaxis\": {\"gridcolor\": \"white\", \"linecolor\": \"white\", \"ticks\": \"\"}, \"bgcolor\": \"#E5ECF6\", \"radialaxis\": {\"gridcolor\": \"white\", \"linecolor\": \"white\", \"ticks\": \"\"}}, \"scene\": {\"xaxis\": {\"backgroundcolor\": \"#E5ECF6\", \"gridcolor\": \"white\", \"gridwidth\": 2, \"linecolor\": \"white\", \"showbackground\": true, \"ticks\": \"\", \"zerolinecolor\": \"white\"}, \"yaxis\": {\"backgroundcolor\": \"#E5ECF6\", \"gridcolor\": \"white\", \"gridwidth\": 2, \"linecolor\": \"white\", \"showbackground\": true, \"ticks\": \"\", \"zerolinecolor\": \"white\"}, \"zaxis\": {\"backgroundcolor\": \"#E5ECF6\", \"gridcolor\": \"white\", \"gridwidth\": 2, \"linecolor\": \"white\", \"showbackground\": true, \"ticks\": \"\", \"zerolinecolor\": \"white\"}}, \"shapedefaults\": {\"line\": {\"color\": \"#2a3f5f\"}}, \"ternary\": {\"aaxis\": {\"gridcolor\": \"white\", \"linecolor\": \"white\", \"ticks\": \"\"}, \"baxis\": {\"gridcolor\": \"white\", \"linecolor\": \"white\", \"ticks\": \"\"}, \"bgcolor\": \"#E5ECF6\", \"caxis\": {\"gridcolor\": \"white\", \"linecolor\": \"white\", \"ticks\": \"\"}}, \"title\": {\"x\": 0.05}, \"xaxis\": {\"automargin\": true, \"gridcolor\": \"white\", \"linecolor\": \"white\", \"ticks\": \"\", \"zerolinecolor\": \"white\", \"zerolinewidth\": 2}, \"yaxis\": {\"automargin\": true, \"gridcolor\": \"white\", \"linecolor\": \"white\", \"ticks\": \"\", \"zerolinecolor\": \"white\", \"zerolinewidth\": 2}}}, \"xaxis\": {\"anchor\": \"y\", \"categoryarray\": [\"yes\", \"no\"], \"categoryorder\": \"array\", \"domain\": [0.0, 0.98], \"title\": {\"text\": \"Cad\"}}, \"yaxis\": {\"anchor\": \"x\", \"domain\": [0.0, 1.0], \"title\": {\"text\": \"EF-TTE\"}}},\n",
       "                        {\"responsive\": true}\n",
       "                    ).then(function(){\n",
       "                            \n",
       "var gd = document.getElementById('91c4e46b-46f3-431a-b6ac-6b009ec8676a');\n",
       "var x = new MutationObserver(function (mutations, observer) {{\n",
       "        var display = window.getComputedStyle(gd).display;\n",
       "        if (!display || display === 'none') {{\n",
       "            console.log([gd, 'removed!']);\n",
       "            Plotly.purge(gd);\n",
       "            observer.disconnect();\n",
       "        }}\n",
       "}});\n",
       "\n",
       "// Listen for the removal of the full notebook cells\n",
       "var notebookContainer = gd.closest('#notebook-container');\n",
       "if (notebookContainer) {{\n",
       "    x.observe(notebookContainer, {childList: true});\n",
       "}}\n",
       "\n",
       "// Listen for the clearing of the current output cell\n",
       "var outputEl = gd.closest('.output');\n",
       "if (outputEl) {{\n",
       "    x.observe(outputEl, {childList: true});\n",
       "}}\n",
       "\n",
       "                        })\n",
       "                };\n",
       "                });\n",
       "            </script>\n",
       "        </div>"
      ]
     },
     "metadata": {},
     "output_type": "display_data"
    }
   ],
   "source": [
    "fig = px.box(df2, y='EF-TTE', x='Cath', color='Cath', notched=True)\n",
    "fig.update_layout(\n",
    "    xaxis_title=\"Cad\"\n",
    ")\n",
    "fig.show()"
   ]
  },
  {
   "cell_type": "code",
   "execution_count": 22,
   "metadata": {},
   "outputs": [
    {
     "data": {
      "text/plain": [
       "<mpl_toolkits.mplot3d.art3d.Path3DCollection at 0x7f070b3f3b00>"
      ]
     },
     "execution_count": 22,
     "metadata": {},
     "output_type": "execute_result"
    },
    {
     "data": {
      "image/png": "[encoded data removed]",
      "text/plain": [
       "<Figure size 432x288 with 1 Axes>"
      ]
     },
     "metadata": {
      "needs_background": "light"
     },
     "output_type": "display_data"
    }
   ],
   "source": [
    "from mpl_toolkits import mplot3d\n",
    "x = df_preprocessed[\"Typical Chest Pain0\"]\n",
    "y = df_preprocessed[\"Age\"]\n",
    "z = df_preprocessed[\"EF-TTE\"]\n",
    "# \"Age\" \"Atypical0\" 'Region RWMA0' \"EF-TTE\"\n",
    "ax = plt.axes(projection='3d')\n",
    "ax.scatter(x, y, z, c=df_preprocessed[\"y\"], cmap='viridis', linewidth=0.5)"
   ]
  },
  {
   "cell_type": "code",
   "execution_count": 23,
   "metadata": {},
   "outputs": [
    {
     "data": {
      "application/vnd.plotly.v1+json": {
       "config": {
        "plotlyServerURL": "https://plot.ly"
       },
       "data": [
        {
         "hoverlabel": {
          "namelength": 0
         },
         "hovertemplate": "y=%{marker.color}<br>Typical Chest Pain0=%{x}<br>Age=%{y}<br>EF-TTE=%{z}",
         "legendgroup": "y=0",
         "marker": {
          "color": [
           0,
           0,
           0,
           0,
           0,
           0,
           0,
           0,
           0,
           0,
           0,
           0,
           0,
           0,
           0,
           0,
           0,
           0,
           0,
           0,
           0,
           0,
           0,
           0,
           0,
           0,
           0,
           0,
           0,
           0,
           0,
           0,
           0,
           0,
           0,
           0,
           0,
           0,
           0,
           0,
           0,
           0,
           0,
           0,
           0,
           0,
           0,
           0,
           0,
           0,
           0,
           0,
           0,
           0,
           0,
           0,
           0,
           0,
           0,
           0,
           0,
           0,
           0,
           0,
           0,
           0,
           0,
           0,
           0,
           0,
           0,
           0,
           0,
           0,
           0,
           0,
           0,
           0,
           0,
           0,
           0,
           0,
           0,
           0,
           0,
           0,
           0,
           0,
           0,
           0,
           0,
           0,
           0,
           0,
           0,
           0,
           0,
           0,
           0,
           0,
           0,
           0,
           0,
           0,
           0,
           0,
           0,
           0,
           0,
           0,
           0,
           0,
           0,
           0,
           0,
           0,
           0,
           0,
           0,
           0,
           0,
           0,
           0,
           0,
           0,
           0,
           0,
           0,
           0,
           0,
           0,
           0,
           0,
           0,
           0,
           0,
           0,
           0,
           0,
           0,
           0,
           0,
           0,
           0,
           0,
           0,
           0,
           0,
           0,
           0,
           0,
           0,
           0,
           0,
           0,
           0,
           0,
           0,
           0,
           0,
           0,
           0,
           0,
           0,
           0,
           0,
           0,
           0,
           0,
           0,
           0,
           0,
           0,
           0,
           0,
           0,
           0,
           0,
           0,
           0,
           0,
           0,
           0,
           0,
           0,
           0,
           0,
           0,
           0,
           0,
           0,
           0,
           0,
           0,
           0,
           0,
           0,
           0,
           0,
           0,
           0,
           0,
           0,
           0,
           0,
           0,
           0,
           0,
           0,
           0,
           0,
           0,
           0,
           0,
           0,
           0
          ],
          "coloraxis": "coloraxis",
          "symbol": "circle"
         },
         "mode": "markers",
         "name": "y=0",
         "scene": "scene",
         "showlegend": true,
         "type": "scatter3d",
         "x": [
          0,
          0,
          1,
          0,
          0,
          0,
          0,
          0,
          1,
          0,
          0,
          0,
          0,
          0,
          0,
          0,
          1,
          0,
          0,
          1,
          1,
          0,
          0,
          0,
          0,
          0,
          1,
          0,
          1,
          1,
          0,
          0,
          1,
          0,
          1,
          0,
          0,
          0,
          1,
          1,
          1,
          0,
          0,
          1,
          1,
          0,
          1,
          0,
          0,
          0,
          0,
          0,
          0,
          0,
          0,
          0,
          0,
          0,
          0,
          0,
          0,
          0,
          1,
          0,
          1,
          0,
          0,
          0,
          0,
          0,
          0,
          0,
          0,
          0,
          0,
          0,
          0,
          0,
          0,
          1,
          1,
          1,
          0,
          1,
          0,
          1,
          1,
          0,
          1,
          0,
          0,
          1,
          1,
          0,
          0,
          0,
          1,
          0,
          0,
          0,
          0,
          1,
          0,
          0,
          0,
          0,
          0,
          1,
          1,
          0,
          0,
          0,
          0,
          0,
          0,
          0,
          1,
          0,
          0,
          0,
          1,
          0,
          0,
          0,
          0,
          1,
          1,
          1,
          0,
          0,
          0,
          0,
          0,
          0,
          0,
          0,
          1,
          0,
          1,
          0,
          0,
          0,
          0,
          0,
          1,
          0,
          0,
          0,
          1,
          0,
          1,
          0,
          0,
          1,
          0,
          0,
          0,
          0,
          0,
          0,
          0,
          1,
          0,
          0,
          0,
          0,
          1,
          0,
          1,
          1,
          0,
          1,
          0,
          0,
          0,
          1,
          1,
          0,
          0,
          0,
          1,
          0,
          0,
          0,
          1,
          1,
          1,
          0,
          0,
          0,
          0,
          0,
          1,
          0,
          0,
          0,
          0,
          0,
          0,
          0,
          1,
          1,
          0,
          0,
          1,
          1,
          0,
          0,
          0,
          1,
          1,
          1,
          0,
          0,
          1,
          0
         ],
         "y": [
          0.3035714285714285,
          0.6428571428571429,
          0.7142857142857143,
          0.5357142857142857,
          0.5535714285714285,
          0.6428571428571429,
          0.4999999999999999,
          0.3392857142857143,
          0.7142857142857143,
          0.4107142857142857,
          0.9107142857142857,
          0.5357142857142857,
          0.8035714285714285,
          0.5178571428571429,
          0.6071428571428571,
          0.7142857142857143,
          0.9821428571428571,
          0.4999999999999999,
          0.6607142857142857,
          0.5714285714285713,
          0.5714285714285713,
          0.6249999999999999,
          0.6964285714285713,
          0.6071428571428571,
          0.4642857142857143,
          0.5892857142857143,
          0.4107142857142857,
          0.5892857142857143,
          0.7321428571428571,
          0.6428571428571429,
          0.7321428571428571,
          0.3392857142857143,
          0.7142857142857143,
          0.5357142857142857,
          0.5714285714285713,
          0.25,
          0.4642857142857143,
          0.5178571428571429,
          0.3571428571428571,
          0.7142857142857143,
          0.3214285714285714,
          0.8035714285714285,
          0.6249999999999999,
          0.7857142857142857,
          0.8214285714285713,
          0.7499999999999999,
          0.4821428571428571,
          0.5892857142857143,
          0.5535714285714285,
          0.8035714285714285,
          0.7321428571428571,
          0.4464285714285714,
          0.4821428571428571,
          0.3928571428571428,
          0.6249999999999999,
          0.4464285714285714,
          0.6785714285714285,
          0.4464285714285714,
          0.2857142857142857,
          0.5178571428571429,
          0.5357142857142857,
          0.2857142857142857,
          0.3571428571428571,
          0.4464285714285714,
          0.8035714285714285,
          0.6428571428571429,
          0.4285714285714285,
          0.6428571428571429,
          0.4642857142857143,
          0.5357142857142857,
          0.4821428571428571,
          0.4464285714285714,
          0.3392857142857143,
          0.6249999999999999,
          0.375,
          0.3392857142857143,
          0.6249999999999999,
          0.3214285714285714,
          0.6607142857142857,
          0.8214285714285713,
          0.7678571428571429,
          0.1964285714285714,
          0.7142857142857143,
          0.5357142857142857,
          0.4285714285714285,
          0.4464285714285714,
          0.3214285714285714,
          0.4999999999999999,
          0.8214285714285713,
          0.7499999999999999,
          0.5714285714285713,
          0.6607142857142857,
          0.6607142857142857,
          0.5357142857142857,
          0.4464285714285714,
          0.5357142857142857,
          0.7321428571428571,
          0.7857142857142857,
          0.4285714285714285,
          0.3928571428571428,
          0.3928571428571428,
          0.3392857142857143,
          0.7142857142857143,
          0.8928571428571427,
          0.4285714285714285,
          0.5178571428571429,
          0.6071428571428571,
          0.7499999999999999,
          0.5535714285714285,
          0.4107142857142857,
          0.5714285714285713,
          0.6785714285714285,
          0.7678571428571429,
          0.3214285714285714,
          0.5357142857142857,
          0.3214285714285714,
          0.5892857142857143,
          0.3214285714285714,
          0.6785714285714285,
          0.5714285714285713,
          0.6964285714285713,
          0.6964285714285713,
          0.3928571428571428,
          0.5714285714285713,
          0.4464285714285714,
          0.3392857142857143,
          0.1071428571428571,
          0.5714285714285713,
          0.4464285714285714,
          0.7321428571428571,
          0.2678571428571428,
          0.4821428571428571,
          0.7857142857142857,
          0.4464285714285714,
          0.3035714285714285,
          0.6071428571428571,
          0.8214285714285713,
          0.6249999999999999,
          0.8392857142857143,
          0.7142857142857143,
          0.7499999999999999,
          0.5714285714285713,
          0.7142857142857143,
          0.3571428571428571,
          0.5714285714285713,
          0.25,
          0.7678571428571429,
          0.4107142857142857,
          0.6071428571428571,
          0.7499999999999999,
          0.4107142857142857,
          0.6428571428571429,
          0.3571428571428571,
          0.6785714285714285,
          0.5714285714285713,
          0.8214285714285713,
          0.3571428571428571,
          0.3571428571428571,
          0.3571428571428571,
          0.5178571428571429,
          0.6785714285714285,
          0.6071428571428571,
          0.8928571428571427,
          0.2142857142857143,
          0.6428571428571429,
          0.8392857142857143,
          0.5892857142857143,
          0.9107142857142857,
          0.3214285714285714,
          0.3035714285714285,
          0.8928571428571427,
          0.3571428571428571,
          0.4464285714285714,
          0.3035714285714285,
          0.4107142857142857,
          0.3035714285714285,
          0.4285714285714285,
          0.4642857142857143,
          0.7499999999999999,
          0.5178571428571429,
          0.9999999999999999,
          0.5357142857142857,
          0.4642857142857143,
          0.8035714285714285,
          0.7142857142857143,
          0.375,
          0.6428571428571429,
          0.4642857142857143,
          0.375,
          0.3214285714285714,
          0.5892857142857143,
          0.5357142857142857,
          0.8214285714285713,
          0.8749999999999999,
          0.6071428571428571,
          0.6249999999999999,
          0.2142857142857143,
          0.2857142857142857,
          0.3928571428571428,
          0.4642857142857143,
          0.7678571428571429,
          0.4464285714285714,
          0.6249999999999999,
          0.4999999999999999,
          0.4464285714285714,
          0.9107142857142857,
          0.8928571428571427,
          0.6249999999999999,
          0.375,
          0.6607142857142857,
          0.4821428571428571,
          0.5714285714285713,
          0.4464285714285714,
          0.7142857142857143,
          0.4821428571428571,
          0.6428571428571429
         ],
         "z": [
          -0.24734284708146217,
          -0.24734284708146217,
          0.3134494938990298,
          0.3134494938990298,
          -1.9297198700229383,
          0.3134494938990298,
          0.3134494938990298,
          1.4350341758600138,
          0.3134494938990298,
          -0.13518437888536378,
          1.4350341758600138,
          -0.8081351880619542,
          0.3134494938990298,
          -3.612096892964414,
          0.3134494938990298,
          -0.24734284708146217,
          -0.24734284708146217,
          -0.24734284708146217,
          -0.24734284708146217,
          -1.3689275290424463,
          -0.24734284708146217,
          -0.24734284708146217,
          0.8742418348795219,
          -2.49051221100343,
          0.8742418348795219,
          -3.051304551983922,
          0.3134494938990298,
          -0.24734284708146217,
          0.8742418348795219,
          0.3134494938990298,
          -0.24734284708146217,
          0.3134494938990298,
          0.3134494938990298,
          0.8742418348795219,
          -0.24734284708146217,
          0.8742418348795219,
          -0.8081351880619542,
          -1.9297198700229383,
          0.3134494938990298,
          -0.24734284708146217,
          0.3134494938990298,
          -0.8081351880619542,
          0.3134494938990298,
          0.8742418348795219,
          0.8742418348795219,
          -0.24734284708146217,
          -0.24734284708146217,
          -0.8081351880619542,
          -0.24734284708146217,
          -1.3689275290424463,
          -0.8081351880619542,
          -0.24734284708146217,
          0.3134494938990298,
          -0.24734284708146217,
          0.8742418348795219,
          0.3134494938990298,
          0.8742418348795219,
          -2.49051221100343,
          0.8742418348795219,
          0.8742418348795219,
          0.8742418348795219,
          0.3134494938990298,
          0.3134494938990298,
          0.3134494938990298,
          0.3134494938990298,
          -1.9297198700229383,
          0.8742418348795219,
          0.8742418348795219,
          0.8742418348795219,
          0.8742418348795219,
          -0.24734284708146217,
          -0.8081351880619542,
          -0.24734284708146217,
          -0.8081351880619542,
          -1.3689275290424463,
          0.3134494938990298,
          0.8742418348795219,
          0.8742418348795219,
          -0.8081351880619542,
          0.3134494938990298,
          -0.24734284708146217,
          0.8742418348795219,
          -0.24734284708146217,
          -0.24734284708146217,
          -2.49051221100343,
          0.3134494938990298,
          -0.24734284708146217,
          0.3134494938990298,
          -2.49051221100343,
          0.3134494938990298,
          -1.9297198700229383,
          -0.8081351880619542,
          0.3134494938990298,
          -0.8081351880619542,
          0.3134494938990298,
          0.8742418348795219,
          0.8742418348795219,
          -0.8081351880619542,
          -0.8081351880619542,
          1.4350341758600138,
          0.8742418348795219,
          -0.24734284708146217,
          -0.24734284708146217,
          0.3134494938990298,
          0.8742418348795219,
          0.3134494938990298,
          -0.24734284708146217,
          -3.051304551983922,
          -0.24734284708146217,
          0.8742418348795219,
          -0.8081351880619542,
          0.8742418348795219,
          0.3134494938990298,
          1.4350341758600138,
          0.8742418348795219,
          -0.8081351880619542,
          0.3134494938990298,
          -0.24734284708146217,
          -0.24734284708146217,
          -0.24734284708146217,
          -0.8081351880619542,
          0.8742418348795219,
          0.8742418348795219,
          -1.3689275290424463,
          -0.24734284708146217,
          -0.8081351880619542,
          -0.24734284708146217,
          -0.24734284708146217,
          0.3134494938990298,
          0.8742418348795219,
          -0.8081351880619542,
          0.8742418348795219,
          -0.24734284708146217,
          -0.8081351880619542,
          1.4350341758600138,
          0.8742418348795219,
          -0.8081351880619542,
          -0.24734284708146217,
          -0.8081351880619542,
          -0.24734284708146217,
          -1.3689275290424463,
          0.3134494938990298,
          -0.8081351880619542,
          0.3134494938990298,
          0.3134494938990298,
          -1.3689275290424463,
          -0.8081351880619542,
          -0.8081351880619542,
          0.3134494938990298,
          -0.24734284708146217,
          0.3134494938990298,
          0.8742418348795219,
          0.3134494938990298,
          0.3134494938990298,
          0.3134494938990298,
          0.3134494938990298,
          0.8742418348795219,
          -0.8081351880619542,
          0.8742418348795219,
          -0.8081351880619542,
          0.3134494938990298,
          0.3134494938990298,
          -0.8081351880619542,
          -0.24734284708146217,
          -0.8081351880619542,
          0.3134494938990298,
          0.8742418348795219,
          -0.24734284708146217,
          0.8742418348795219,
          -0.24734284708146217,
          0.8742418348795219,
          0.8742418348795219,
          -0.8081351880619542,
          0.3134494938990298,
          -2.49051221100343,
          0.3134494938990298,
          -3.051304551983922,
          -0.24734284708146217,
          0.3134494938990298,
          0.8742418348795219,
          0.3134494938990298,
          -0.8081351880619542,
          0.3134494938990298,
          -0.24734284708146217,
          -2.49051221100343,
          0.3134494938990298,
          0.8742418348795219,
          0.8742418348795219,
          -0.24734284708146217,
          -0.24734284708146217,
          -1.3689275290424463,
          -0.8081351880619542,
          -1.3689275290424463,
          -0.8081351880619542,
          0.8742418348795219,
          -1.9297198700229383,
          0.3134494938990298,
          -3.051304551983922,
          -1.9297198700229383,
          0.8742418348795219,
          -0.24734284708146217,
          -3.051304551983922,
          0.3134494938990298,
          -0.8081351880619542,
          0.8742418348795219,
          0.8742418348795219,
          -0.8081351880619542,
          0.8742418348795219,
          -0.24734284708146217,
          0.8742418348795219,
          -3.051304551983922,
          0.8742418348795219,
          0.3134494938990298,
          -0.24734284708146217,
          -0.24734284708146217,
          0.8742418348795219
         ]
        },
        {
         "hoverlabel": {
          "namelength": 0
         },
         "hovertemplate": "y=%{marker.color}<br>Typical Chest Pain0=%{x}<br>Age=%{y}<br>EF-TTE=%{z}",
         "legendgroup": "y=1",
         "marker": {
          "color": [
           1,
           1,
           1,
           1,
           1,
           1,
           1,
           1,
           1,
           1,
           1,
           1,
           1,
           1,
           1,
           1,
           1,
           1,
           1,
           1,
           1,
           1,
           1,
           1,
           1,
           1,
           1,
           1,
           1,
           1,
           1,
           1,
           1,
           1,
           1,
           1,
           1,
           1,
           1,
           1,
           1,
           1,
           1,
           1,
           1,
           1,
           1,
           1,
           1,
           1,
           1,
           1,
           1,
           1,
           1,
           1,
           1,
           1,
           1,
           1,
           1,
           1,
           1,
           1,
           1,
           1,
           1,
           1,
           1,
           1,
           1,
           1,
           1,
           1,
           1,
           1,
           1,
           1,
           1,
           1,
           1,
           1,
           1,
           1,
           1,
           1
          ],
          "coloraxis": "coloraxis",
          "symbol": "diamond"
         },
         "mode": "markers",
         "name": "y=1",
         "scene": "scene",
         "showlegend": true,
         "type": "scatter3d",
         "x": [
          1,
          1,
          1,
          1,
          1,
          1,
          1,
          1,
          1,
          1,
          1,
          1,
          1,
          1,
          0,
          1,
          1,
          1,
          1,
          1,
          1,
          1,
          1,
          1,
          1,
          1,
          0,
          1,
          1,
          1,
          1,
          1,
          1,
          1,
          1,
          1,
          1,
          1,
          1,
          1,
          0,
          1,
          1,
          1,
          1,
          1,
          1,
          1,
          1,
          0,
          1,
          1,
          1,
          1,
          1,
          0,
          1,
          0,
          1,
          0,
          1,
          1,
          1,
          1,
          1,
          0,
          1,
          1,
          1,
          1,
          1,
          1,
          1,
          1,
          0,
          1,
          1,
          1,
          1,
          1,
          1,
          1,
          1,
          1,
          0,
          1
         ],
         "y": [
          0.4999999999999999,
          0.2857142857142857,
          0.4821428571428571,
          0.4642857142857143,
          0.1428571428571428,
          0.5357142857142857,
          0.4642857142857143,
          0.375,
          0.3035714285714285,
          0.2321428571428571,
          0.8749999999999999,
          0.25,
          0.3928571428571428,
          0.25,
          0.3214285714285714,
          0.3571428571428571,
          0.4285714285714285,
          0.3035714285714285,
          0.2678571428571428,
          0.375,
          0.4107142857142857,
          0.3214285714285714,
          0.3571428571428571,
          0.1964285714285714,
          0.6607142857142857,
          0.2321428571428571,
          0.3571428571428571,
          0.6071428571428571,
          0.4999999999999999,
          0.375,
          0.6785714285714285,
          0,
          0.3928571428571428,
          0.6071428571428571,
          0.3571428571428571,
          0.1964285714285714,
          0.2321428571428571,
          0.6249999999999999,
          0.3392857142857143,
          0.1428571428571428,
          0.6249999999999999,
          0.3214285714285714,
          0.4464285714285714,
          0.6428571428571429,
          0.3928571428571428,
          0.2857142857142857,
          0.8214285714285713,
          0.3571428571428571,
          0.4642857142857143,
          0.3214285714285714,
          0.4642857142857143,
          0.3571428571428571,
          0.3035714285714285,
          0.2142857142857143,
          0.5892857142857143,
          0.2142857142857143,
          0.7142857142857143,
          0.7678571428571429,
          0.4464285714285714,
          0,
          0.3035714285714285,
          0.3571428571428571,
          0.3571428571428571,
          0.3392857142857143,
          0.4107142857142857,
          0.6428571428571429,
          0.3928571428571428,
          0.5178571428571429,
          0.4464285714285714,
          0.4642857142857143,
          0.3392857142857143,
          0.3571428571428571,
          0.4642857142857143,
          0.6607142857142857,
          0.4107142857142857,
          0.5714285714285713,
          0.375,
          0.4821428571428571,
          0.4642857142857143,
          0.4107142857142857,
          0.2321428571428571,
          0.1785714285714285,
          0.4642857142857143,
          0.5714285714285713,
          0.6428571428571429,
          0.4464285714285714
         ],
         "z": [
          0.8742418348795219,
          0.3134494938990298,
          1.4350341758600138,
          0.8742418348795219,
          0.8742418348795219,
          0.8742418348795219,
          -1.3689275290424463,
          0.8742418348795219,
          -0.24734284708146217,
          0.8742418348795219,
          -3.612096892964414,
          0.3134494938990298,
          0.8742418348795219,
          -3.051304551983922,
          0.8742418348795219,
          0.8742418348795219,
          0.8742418348795219,
          0.3134494938990298,
          -0.8081351880619542,
          0.8742418348795219,
          0.8742418348795219,
          0.8742418348795219,
          0.3134494938990298,
          -1.3689275290424463,
          0.8742418348795219,
          0.8742418348795219,
          0.8742418348795219,
          -1.9297198700229383,
          0.3134494938990298,
          0.8742418348795219,
          1.4350341758600138,
          0.8742418348795219,
          0.8742418348795219,
          0.3134494938990298,
          0.8742418348795219,
          0.3134494938990298,
          0.8742418348795219,
          0.8742418348795219,
          0.8742418348795219,
          0.8742418348795219,
          -0.24734284708146217,
          0.8742418348795219,
          0.3134494938990298,
          0.8742418348795219,
          0.8742418348795219,
          0.8742418348795219,
          0.3134494938990298,
          0.3134494938990298,
          -0.24734284708146217,
          0.8742418348795219,
          0.3134494938990298,
          0.8742418348795219,
          -0.8081351880619542,
          0.3134494938990298,
          0.8742418348795219,
          0.8742418348795219,
          0.3134494938990298,
          0.8742418348795219,
          0.8742418348795219,
          0.8742418348795219,
          0.8742418348795219,
          0.3134494938990298,
          0.3134494938990298,
          0.8742418348795219,
          0.8742418348795219,
          0.8742418348795219,
          -0.24734284708146217,
          0.3134494938990298,
          -1.3689275290424463,
          -1.3689275290424463,
          0.8742418348795219,
          0.8742418348795219,
          0.8742418348795219,
          0.8742418348795219,
          0.8742418348795219,
          0.8742418348795219,
          -1.3689275290424463,
          0.8742418348795219,
          0.8742418348795219,
          -0.24734284708146217,
          0.8742418348795219,
          0.3134494938990298,
          0.8742418348795219,
          -0.24734284708146217,
          -0.24734284708146217,
          -0.8081351880619542
         ]
        }
       ],
       "layout": {
        "autosize": true,
        "coloraxis": {
         "colorbar": {
          "title": {
           "text": "y"
          }
         },
         "colorscale": [
          [
           0,
           "#0d0887"
          ],
          [
           0.1111111111111111,
           "#46039f"
          ],
          [
           0.2222222222222222,
           "#7201a8"
          ],
          [
           0.3333333333333333,
           "#9c179e"
          ],
          [
           0.4444444444444444,
           "#bd3786"
          ],
          [
           0.5555555555555556,
           "#d8576b"
          ],
          [
           0.6666666666666666,
           "#ed7953"
          ],
          [
           0.7777777777777778,
           "#fb9f3a"
          ],
          [
           0.8888888888888888,
           "#fdca26"
          ],
          [
           1,
           "#f0f921"
          ]
         ]
        },
        "legend": {
         "tracegroupgap": 0
        },
        "margin": {
         "t": 60
        },
        "scene": {
         "aspectmode": "auto",
         "aspectratio": {
          "x": 1,
          "y": 1,
          "z": 1
         },
         "camera": {
          "center": {
           "x": 0,
           "y": 0,
           "z": 0
          },
          "eye": {
           "x": 0.005771622741884428,
           "y": 0.0057716084849295055,
           "z": 0.005777274999690799
          },
          "projection": {
           "type": "perspective"
          },
          "up": {
           "x": 0,
           "y": 0,
           "z": 1
          }
         },
         "domain": {
          "x": [
           0,
           0.98
          ],
          "y": [
           0,
           1
          ]
         },
         "xaxis": {
          "title": {
           "text": "Typical Chest Pain0"
          },
          "type": "linear"
         },
         "yaxis": {
          "title": {
           "text": "Age"
          },
          "type": "linear"
         },
         "zaxis": {
          "title": {
           "text": "EF-TTE"
          },
          "type": "linear"
         }
        },
        "template": {
         "data": {
          "bar": [
           {
            "error_x": {
             "color": "#2a3f5f"
            },
            "error_y": {
             "color": "#2a3f5f"
            },
            "marker": {
             "line": {
              "color": "#E5ECF6",
              "width": 0.5
             }
            },
            "type": "bar"
           }
          ],
          "barpolar": [
           {
            "marker": {
             "line": {
              "color": "#E5ECF6",
              "width": 0.5
             }
            },
            "type": "barpolar"
           }
          ],
          "carpet": [
           {
            "aaxis": {
             "endlinecolor": "#2a3f5f",
             "gridcolor": "white",
             "linecolor": "white",
             "minorgridcolor": "white",
             "startlinecolor": "#2a3f5f"
            },
            "baxis": {
             "endlinecolor": "#2a3f5f",
             "gridcolor": "white",
             "linecolor": "white",
             "minorgridcolor": "white",
             "startlinecolor": "#2a3f5f"
            },
            "type": "carpet"
           }
          ],
          "choropleth": [
           {
            "colorbar": {
             "outlinewidth": 0,
             "ticks": ""
            },
            "type": "choropleth"
           }
          ],
          "contour": [
           {
            "colorbar": {
             "outlinewidth": 0,
             "ticks": ""
            },
            "colorscale": [
             [
              0,
              "#0d0887"
             ],
             [
              0.1111111111111111,
              "#46039f"
             ],
             [
              0.2222222222222222,
              "#7201a8"
             ],
             [
              0.3333333333333333,
              "#9c179e"
             ],
             [
              0.4444444444444444,
              "#bd3786"
             ],
             [
              0.5555555555555556,
              "#d8576b"
             ],
             [
              0.6666666666666666,
              "#ed7953"
             ],
             [
              0.7777777777777778,
              "#fb9f3a"
             ],
             [
              0.8888888888888888,
              "#fdca26"
             ],
             [
              1,
              "#f0f921"
             ]
            ],
            "type": "contour"
           }
          ],
          "contourcarpet": [
           {
            "colorbar": {
             "outlinewidth": 0,
             "ticks": ""
            },
            "type": "contourcarpet"
           }
          ],
          "heatmap": [
           {
            "colorbar": {
             "outlinewidth": 0,
             "ticks": ""
            },
            "colorscale": [
             [
              0,
              "#0d0887"
             ],
             [
              0.1111111111111111,
              "#46039f"
             ],
             [
              0.2222222222222222,
              "#7201a8"
             ],
             [
              0.3333333333333333,
              "#9c179e"
             ],
             [
              0.4444444444444444,
              "#bd3786"
             ],
             [
              0.5555555555555556,
              "#d8576b"
             ],
             [
              0.6666666666666666,
              "#ed7953"
             ],
             [
              0.7777777777777778,
              "#fb9f3a"
             ],
             [
              0.8888888888888888,
              "#fdca26"
             ],
             [
              1,
              "#f0f921"
             ]
            ],
            "type": "heatmap"
           }
          ],
          "heatmapgl": [
           {
            "colorbar": {
             "outlinewidth": 0,
             "ticks": ""
            },
            "colorscale": [
             [
              0,
              "#0d0887"
             ],
             [
              0.1111111111111111,
              "#46039f"
             ],
             [
              0.2222222222222222,
              "#7201a8"
             ],
             [
              0.3333333333333333,
              "#9c179e"
             ],
             [
              0.4444444444444444,
              "#bd3786"
             ],
             [
              0.5555555555555556,
              "#d8576b"
             ],
             [
              0.6666666666666666,
              "#ed7953"
             ],
             [
              0.7777777777777778,
              "#fb9f3a"
             ],
             [
              0.8888888888888888,
              "#fdca26"
             ],
             [
              1,
              "#f0f921"
             ]
            ],
            "type": "heatmapgl"
           }
          ],
          "histogram": [
           {
            "marker": {
             "colorbar": {
              "outlinewidth": 0,
              "ticks": ""
             }
            },
            "type": "histogram"
           }
          ],
          "histogram2d": [
           {
            "colorbar": {
             "outlinewidth": 0,
             "ticks": ""
            },
            "colorscale": [
             [
              0,
              "#0d0887"
             ],
             [
              0.1111111111111111,
              "#46039f"
             ],
             [
              0.2222222222222222,
              "#7201a8"
             ],
             [
              0.3333333333333333,
              "#9c179e"
             ],
             [
              0.4444444444444444,
              "#bd3786"
             ],
             [
              0.5555555555555556,
              "#d8576b"
             ],
             [
              0.6666666666666666,
              "#ed7953"
             ],
             [
              0.7777777777777778,
              "#fb9f3a"
             ],
             [
              0.8888888888888888,
              "#fdca26"
             ],
             [
              1,
              "#f0f921"
             ]
            ],
            "type": "histogram2d"
           }
          ],
          "histogram2dcontour": [
           {
            "colorbar": {
             "outlinewidth": 0,
             "ticks": ""
            },
            "colorscale": [
             [
              0,
              "#0d0887"
             ],
             [
              0.1111111111111111,
              "#46039f"
             ],
             [
              0.2222222222222222,
              "#7201a8"
             ],
             [
              0.3333333333333333,
              "#9c179e"
             ],
             [
              0.4444444444444444,
              "#bd3786"
             ],
             [
              0.5555555555555556,
              "#d8576b"
             ],
             [
              0.6666666666666666,
              "#ed7953"
             ],
             [
              0.7777777777777778,
              "#fb9f3a"
             ],
             [
              0.8888888888888888,
              "#fdca26"
             ],
             [
              1,
              "#f0f921"
             ]
            ],
            "type": "histogram2dcontour"
           }
          ],
          "mesh3d": [
           {
            "colorbar": {
             "outlinewidth": 0,
             "ticks": ""
            },
            "type": "mesh3d"
           }
          ],
          "parcoords": [
           {
            "line": {
             "colorbar": {
              "outlinewidth": 0,
              "ticks": ""
             }
            },
            "type": "parcoords"
           }
          ],
          "scatter": [
           {
            "marker": {
             "colorbar": {
              "outlinewidth": 0,
              "ticks": ""
             }
            },
            "type": "scatter"
           }
          ],
          "scatter3d": [
           {
            "line": {
             "colorbar": {
              "outlinewidth": 0,
              "ticks": ""
             }
            },
            "marker": {
             "colorbar": {
              "outlinewidth": 0,
              "ticks": ""
             }
            },
            "type": "scatter3d"
           }
          ],
          "scattercarpet": [
           {
            "marker": {
             "colorbar": {
              "outlinewidth": 0,
              "ticks": ""
             }
            },
            "type": "scattercarpet"
           }
          ],
          "scattergeo": [
           {
            "marker": {
             "colorbar": {
              "outlinewidth": 0,
              "ticks": ""
             }
            },
            "type": "scattergeo"
           }
          ],
          "scattergl": [
           {
            "marker": {
             "colorbar": {
              "outlinewidth": 0,
              "ticks": ""
             }
            },
            "type": "scattergl"
           }
          ],
          "scattermapbox": [
           {
            "marker": {
             "colorbar": {
              "outlinewidth": 0,
              "ticks": ""
             }
            },
            "type": "scattermapbox"
           }
          ],
          "scatterpolar": [
           {
            "marker": {
             "colorbar": {
              "outlinewidth": 0,
              "ticks": ""
             }
            },
            "type": "scatterpolar"
           }
          ],
          "scatterpolargl": [
           {
            "marker": {
             "colorbar": {
              "outlinewidth": 0,
              "ticks": ""
             }
            },
            "type": "scatterpolargl"
           }
          ],
          "scatterternary": [
           {
            "marker": {
             "colorbar": {
              "outlinewidth": 0,
              "ticks": ""
             }
            },
            "type": "scatterternary"
           }
          ],
          "surface": [
           {
            "colorbar": {
             "outlinewidth": 0,
             "ticks": ""
            },
            "colorscale": [
             [
              0,
              "#0d0887"
             ],
             [
              0.1111111111111111,
              "#46039f"
             ],
             [
              0.2222222222222222,
              "#7201a8"
             ],
             [
              0.3333333333333333,
              "#9c179e"
             ],
             [
              0.4444444444444444,
              "#bd3786"
             ],
             [
              0.5555555555555556,
              "#d8576b"
             ],
             [
              0.6666666666666666,
              "#ed7953"
             ],
             [
              0.7777777777777778,
              "#fb9f3a"
             ],
             [
              0.8888888888888888,
              "#fdca26"
             ],
             [
              1,
              "#f0f921"
             ]
            ],
            "type": "surface"
           }
          ],
          "table": [
           {
            "cells": {
             "fill": {
              "color": "#EBF0F8"
             },
             "line": {
              "color": "white"
             }
            },
            "header": {
             "fill": {
              "color": "#C8D4E3"
             },
             "line": {
              "color": "white"
             }
            },
            "type": "table"
           }
          ]
         },
         "layout": {
          "annotationdefaults": {
           "arrowcolor": "#2a3f5f",
           "arrowhead": 0,
           "arrowwidth": 1
          },
          "colorscale": {
           "diverging": [
            [
             0,
             "#8e0152"
            ],
            [
             0.1,
             "#c51b7d"
            ],
            [
             0.2,
             "#de77ae"
            ],
            [
             0.3,
             "#f1b6da"
            ],
            [
             0.4,
             "#fde0ef"
            ],
            [
             0.5,
             "#f7f7f7"
            ],
            [
             0.6,
             "#e6f5d0"
            ],
            [
             0.7,
             "#b8e186"
            ],
            [
             0.8,
             "#7fbc41"
            ],
            [
             0.9,
             "#4d9221"
            ],
            [
             1,
             "#276419"
            ]
           ],
           "sequential": [
            [
             0,
             "#0d0887"
            ],
            [
             0.1111111111111111,
             "#46039f"
            ],
            [
             0.2222222222222222,
             "#7201a8"
            ],
            [
             0.3333333333333333,
             "#9c179e"
            ],
            [
             0.4444444444444444,
             "#bd3786"
            ],
            [
             0.5555555555555556,
             "#d8576b"
            ],
            [
             0.6666666666666666,
             "#ed7953"
            ],
            [
             0.7777777777777778,
             "#fb9f3a"
            ],
            [
             0.8888888888888888,
             "#fdca26"
            ],
            [
             1,
             "#f0f921"
            ]
           ],
           "sequentialminus": [
            [
             0,
             "#0d0887"
            ],
            [
             0.1111111111111111,
             "#46039f"
            ],
            [
             0.2222222222222222,
             "#7201a8"
            ],
            [
             0.3333333333333333,
             "#9c179e"
            ],
            [
             0.4444444444444444,
             "#bd3786"
            ],
            [
             0.5555555555555556,
             "#d8576b"
            ],
            [
             0.6666666666666666,
             "#ed7953"
            ],
            [
             0.7777777777777778,
             "#fb9f3a"
            ],
            [
             0.8888888888888888,
             "#fdca26"
            ],
            [
             1,
             "#f0f921"
            ]
           ]
          },
          "colorway": [
           "#636efa",
           "#EF553B",
           "#00cc96",
           "#ab63fa",
           "#FFA15A",
           "#19d3f3",
           "#FF6692",
           "#B6E880",
           "#FF97FF",
           "#FECB52"
          ],
          "font": {
           "color": "#2a3f5f"
          },
          "geo": {
           "bgcolor": "white",
           "lakecolor": "white",
           "landcolor": "#E5ECF6",
           "showlakes": true,
           "showland": true,
           "subunitcolor": "white"
          },
          "hoverlabel": {
           "align": "left"
          },
          "hovermode": "closest",
          "mapbox": {
           "style": "light"
          },
          "paper_bgcolor": "white",
          "plot_bgcolor": "#E5ECF6",
          "polar": {
           "angularaxis": {
            "gridcolor": "white",
            "linecolor": "white",
            "ticks": ""
           },
           "bgcolor": "#E5ECF6",
           "radialaxis": {
            "gridcolor": "white",
            "linecolor": "white",
            "ticks": ""
           }
          },
          "scene": {
           "xaxis": {
            "backgroundcolor": "#E5ECF6",
            "gridcolor": "white",
            "gridwidth": 2,
            "linecolor": "white",
            "showbackground": true,
            "ticks": "",
            "zerolinecolor": "white"
           },
           "yaxis": {
            "backgroundcolor": "#E5ECF6",
            "gridcolor": "white",
            "gridwidth": 2,
            "linecolor": "white",
            "showbackground": true,
            "ticks": "",
            "zerolinecolor": "white"
           },
           "zaxis": {
            "backgroundcolor": "#E5ECF6",
            "gridcolor": "white",
            "gridwidth": 2,
            "linecolor": "white",
            "showbackground": true,
            "ticks": "",
            "zerolinecolor": "white"
           }
          },
          "shapedefaults": {
           "line": {
            "color": "#2a3f5f"
           }
          },
          "ternary": {
           "aaxis": {
            "gridcolor": "white",
            "linecolor": "white",
            "ticks": ""
           },
           "baxis": {
            "gridcolor": "white",
            "linecolor": "white",
            "ticks": ""
           },
           "bgcolor": "#E5ECF6",
           "caxis": {
            "gridcolor": "white",
            "linecolor": "white",
            "ticks": ""
           }
          },
          "title": {
           "x": 0.05
          },
          "xaxis": {
           "automargin": true,
           "gridcolor": "white",
           "linecolor": "white",
           "ticks": "",
           "zerolinecolor": "white",
           "zerolinewidth": 2
          },
          "yaxis": {
           "automargin": true,
           "gridcolor": "white",
           "linecolor": "white",
           "ticks": "",
           "zerolinecolor": "white",
           "zerolinewidth": 2
          }
         }
        }
       }
      },
      "image/png": "[encoded data removed]",
      "text/html": [
       "<div>\n",
       "        \n",
       "        \n",
       "            <div id=\"ce4f5af3-7aab-451f-a537-c9ff82ef5073\" class=\"plotly-graph-div\" style=\"height:600px; width:100%;\"></div>\n",
       "            <script type=\"text/javascript\">\n",
       "                require([\"plotly\"], function(Plotly) {\n",
       "                    window.PLOTLYENV=window.PLOTLYENV || {};\n",
       "                    \n",
       "                if (document.getElementById(\"ce4f5af3-7aab-451f-a537-c9ff82ef5073\")) {\n",
       "                    Plotly.newPlot(\n",
       "                        'ce4f5af3-7aab-451f-a537-c9ff82ef5073',\n",
       "                        [{\"hoverlabel\": {\"namelength\": 0}, \"hovertemplate\": \"y=%{marker.color}<br>Typical Chest Pain0=%{x}<br>Age=%{y}<br>EF-TTE=%{z}\", \"legendgroup\": \"y=0\", \"marker\": {\"color\": [0, 0, 0, 0, 0, 0, 0, 0, 0, 0, 0, 0, 0, 0, 0, 0, 0, 0, 0, 0, 0, 0, 0, 0, 0, 0, 0, 0, 0, 0, 0, 0, 0, 0, 0, 0, 0, 0, 0, 0, 0, 0, 0, 0, 0, 0, 0, 0, 0, 0, 0, 0, 0, 0, 0, 0, 0, 0, 0, 0, 0, 0, 0, 0, 0, 0, 0, 0, 0, 0, 0, 0, 0, 0, 0, 0, 0, 0, 0, 0, 0, 0, 0, 0, 0, 0, 0, 0, 0, 0, 0, 0, 0, 0, 0, 0, 0, 0, 0, 0, 0, 0, 0, 0, 0, 0, 0, 0, 0, 0, 0, 0, 0, 0, 0, 0, 0, 0, 0, 0, 0, 0, 0, 0, 0, 0, 0, 0, 0, 0, 0, 0, 0, 0, 0, 0, 0, 0, 0, 0, 0, 0, 0, 0, 0, 0, 0, 0, 0, 0, 0, 0, 0, 0, 0, 0, 0, 0, 0, 0, 0, 0, 0, 0, 0, 0, 0, 0, 0, 0, 0, 0, 0, 0, 0, 0, 0, 0, 0, 0, 0, 0, 0, 0, 0, 0, 0, 0, 0, 0, 0, 0, 0, 0, 0, 0, 0, 0, 0, 0, 0, 0, 0, 0, 0, 0, 0, 0, 0, 0, 0, 0, 0, 0, 0, 0], \"coloraxis\": \"coloraxis\", \"symbol\": \"circle\"}, \"mode\": \"markers\", \"name\": \"y=0\", \"scene\": \"scene\", \"showlegend\": true, \"type\": \"scatter3d\", \"x\": [0.0, 0.0, 1.0, 0.0, 0.0, 0.0, 0.0, 0.0, 1.0, 0.0, 0.0, 0.0, 0.0, 0.0, 0.0, 0.0, 1.0, 0.0, 0.0, 1.0, 1.0, 0.0, 0.0, 0.0, 0.0, 0.0, 1.0, 0.0, 1.0, 1.0, 0.0, 0.0, 1.0, 0.0, 1.0, 0.0, 0.0, 0.0, 1.0, 1.0, 1.0, 0.0, 0.0, 1.0, 1.0, 0.0, 1.0, 0.0, 0.0, 0.0, 0.0, 0.0, 0.0, 0.0, 0.0, 0.0, 0.0, 0.0, 0.0, 0.0, 0.0, 0.0, 1.0, 0.0, 1.0, 0.0, 0.0, 0.0, 0.0, 0.0, 0.0, 0.0, 0.0, 0.0, 0.0, 0.0, 0.0, 0.0, 0.0, 1.0, 1.0, 1.0, 0.0, 1.0, 0.0, 1.0, 1.0, 0.0, 1.0, 0.0, 0.0, 1.0, 1.0, 0.0, 0.0, 0.0, 1.0, 0.0, 0.0, 0.0, 0.0, 1.0, 0.0, 0.0, 0.0, 0.0, 0.0, 1.0, 1.0, 0.0, 0.0, 0.0, 0.0, 0.0, 0.0, 0.0, 1.0, 0.0, 0.0, 0.0, 1.0, 0.0, 0.0, 0.0, 0.0, 1.0, 1.0, 1.0, 0.0, 0.0, 0.0, 0.0, 0.0, 0.0, 0.0, 0.0, 1.0, 0.0, 1.0, 0.0, 0.0, 0.0, 0.0, 0.0, 1.0, 0.0, 0.0, 0.0, 1.0, 0.0, 1.0, 0.0, 0.0, 1.0, 0.0, 0.0, 0.0, 0.0, 0.0, 0.0, 0.0, 1.0, 0.0, 0.0, 0.0, 0.0, 1.0, 0.0, 1.0, 1.0, 0.0, 1.0, 0.0, 0.0, 0.0, 1.0, 1.0, 0.0, 0.0, 0.0, 1.0, 0.0, 0.0, 0.0, 1.0, 1.0, 1.0, 0.0, 0.0, 0.0, 0.0, 0.0, 1.0, 0.0, 0.0, 0.0, 0.0, 0.0, 0.0, 0.0, 1.0, 1.0, 0.0, 0.0, 1.0, 1.0, 0.0, 0.0, 0.0, 1.0, 1.0, 1.0, 0.0, 0.0, 1.0, 0.0], \"y\": [0.3035714285714285, 0.6428571428571429, 0.7142857142857143, 0.5357142857142857, 0.5535714285714285, 0.6428571428571429, 0.4999999999999999, 0.3392857142857143, 0.7142857142857143, 0.4107142857142857, 0.9107142857142857, 0.5357142857142857, 0.8035714285714285, 0.5178571428571429, 0.6071428571428571, 0.7142857142857143, 0.9821428571428571, 0.4999999999999999, 0.6607142857142857, 0.5714285714285713, 0.5714285714285713, 0.6249999999999999, 0.6964285714285713, 0.6071428571428571, 0.4642857142857143, 0.5892857142857143, 0.4107142857142857, 0.5892857142857143, 0.7321428571428571, 0.6428571428571429, 0.7321428571428571, 0.3392857142857143, 0.7142857142857143, 0.5357142857142857, 0.5714285714285713, 0.25, 0.4642857142857143, 0.5178571428571429, 0.3571428571428571, 0.7142857142857143, 0.3214285714285714, 0.8035714285714285, 0.6249999999999999, 0.7857142857142857, 0.8214285714285713, 0.7499999999999999, 0.4821428571428571, 0.5892857142857143, 0.5535714285714285, 0.8035714285714285, 0.7321428571428571, 0.4464285714285714, 0.4821428571428571, 0.3928571428571428, 0.6249999999999999, 0.4464285714285714, 0.6785714285714285, 0.4464285714285714, 0.2857142857142857, 0.5178571428571429, 0.5357142857142857, 0.2857142857142857, 0.3571428571428571, 0.4464285714285714, 0.8035714285714285, 0.6428571428571429, 0.4285714285714285, 0.6428571428571429, 0.4642857142857143, 0.5357142857142857, 0.4821428571428571, 0.4464285714285714, 0.3392857142857143, 0.6249999999999999, 0.375, 0.3392857142857143, 0.6249999999999999, 0.3214285714285714, 0.6607142857142857, 0.8214285714285713, 0.7678571428571429, 0.1964285714285714, 0.7142857142857143, 0.5357142857142857, 0.4285714285714285, 0.4464285714285714, 0.3214285714285714, 0.4999999999999999, 0.8214285714285713, 0.7499999999999999, 0.5714285714285713, 0.6607142857142857, 0.6607142857142857, 0.5357142857142857, 0.4464285714285714, 0.5357142857142857, 0.7321428571428571, 0.7857142857142857, 0.4285714285714285, 0.3928571428571428, 0.3928571428571428, 0.3392857142857143, 0.7142857142857143, 0.8928571428571427, 0.4285714285714285, 0.5178571428571429, 0.6071428571428571, 0.7499999999999999, 0.5535714285714285, 0.4107142857142857, 0.5714285714285713, 0.6785714285714285, 0.7678571428571429, 0.3214285714285714, 0.5357142857142857, 0.3214285714285714, 0.5892857142857143, 0.3214285714285714, 0.6785714285714285, 0.5714285714285713, 0.6964285714285713, 0.6964285714285713, 0.3928571428571428, 0.5714285714285713, 0.4464285714285714, 0.3392857142857143, 0.1071428571428571, 0.5714285714285713, 0.4464285714285714, 0.7321428571428571, 0.2678571428571428, 0.4821428571428571, 0.7857142857142857, 0.4464285714285714, 0.3035714285714285, 0.6071428571428571, 0.8214285714285713, 0.6249999999999999, 0.8392857142857143, 0.7142857142857143, 0.7499999999999999, 0.5714285714285713, 0.7142857142857143, 0.3571428571428571, 0.5714285714285713, 0.25, 0.7678571428571429, 0.4107142857142857, 0.6071428571428571, 0.7499999999999999, 0.4107142857142857, 0.6428571428571429, 0.3571428571428571, 0.6785714285714285, 0.5714285714285713, 0.8214285714285713, 0.3571428571428571, 0.3571428571428571, 0.3571428571428571, 0.5178571428571429, 0.6785714285714285, 0.6071428571428571, 0.8928571428571427, 0.2142857142857143, 0.6428571428571429, 0.8392857142857143, 0.5892857142857143, 0.9107142857142857, 0.3214285714285714, 0.3035714285714285, 0.8928571428571427, 0.3571428571428571, 0.4464285714285714, 0.3035714285714285, 0.4107142857142857, 0.3035714285714285, 0.4285714285714285, 0.4642857142857143, 0.7499999999999999, 0.5178571428571429, 0.9999999999999999, 0.5357142857142857, 0.4642857142857143, 0.8035714285714285, 0.7142857142857143, 0.375, 0.6428571428571429, 0.4642857142857143, 0.375, 0.3214285714285714, 0.5892857142857143, 0.5357142857142857, 0.8214285714285713, 0.8749999999999999, 0.6071428571428571, 0.6249999999999999, 0.2142857142857143, 0.2857142857142857, 0.3928571428571428, 0.4642857142857143, 0.7678571428571429, 0.4464285714285714, 0.6249999999999999, 0.4999999999999999, 0.4464285714285714, 0.9107142857142857, 0.8928571428571427, 0.6249999999999999, 0.375, 0.6607142857142857, 0.4821428571428571, 0.5714285714285713, 0.4464285714285714, 0.7142857142857143, 0.4821428571428571, 0.6428571428571429], \"z\": [-0.24734284708146217, -0.24734284708146217, 0.3134494938990298, 0.3134494938990298, -1.9297198700229383, 0.3134494938990298, 0.3134494938990298, 1.4350341758600138, 0.3134494938990298, -0.13518437888536378, 1.4350341758600138, -0.8081351880619542, 0.3134494938990298, -3.612096892964414, 0.3134494938990298, -0.24734284708146217, -0.24734284708146217, -0.24734284708146217, -0.24734284708146217, -1.3689275290424463, -0.24734284708146217, -0.24734284708146217, 0.8742418348795219, -2.49051221100343, 0.8742418348795219, -3.051304551983922, 0.3134494938990298, -0.24734284708146217, 0.8742418348795219, 0.3134494938990298, -0.24734284708146217, 0.3134494938990298, 0.3134494938990298, 0.8742418348795219, -0.24734284708146217, 0.8742418348795219, -0.8081351880619542, -1.9297198700229383, 0.3134494938990298, -0.24734284708146217, 0.3134494938990298, -0.8081351880619542, 0.3134494938990298, 0.8742418348795219, 0.8742418348795219, -0.24734284708146217, -0.24734284708146217, -0.8081351880619542, -0.24734284708146217, -1.3689275290424463, -0.8081351880619542, -0.24734284708146217, 0.3134494938990298, -0.24734284708146217, 0.8742418348795219, 0.3134494938990298, 0.8742418348795219, -2.49051221100343, 0.8742418348795219, 0.8742418348795219, 0.8742418348795219, 0.3134494938990298, 0.3134494938990298, 0.3134494938990298, 0.3134494938990298, -1.9297198700229383, 0.8742418348795219, 0.8742418348795219, 0.8742418348795219, 0.8742418348795219, -0.24734284708146217, -0.8081351880619542, -0.24734284708146217, -0.8081351880619542, -1.3689275290424463, 0.3134494938990298, 0.8742418348795219, 0.8742418348795219, -0.8081351880619542, 0.3134494938990298, -0.24734284708146217, 0.8742418348795219, -0.24734284708146217, -0.24734284708146217, -2.49051221100343, 0.3134494938990298, -0.24734284708146217, 0.3134494938990298, -2.49051221100343, 0.3134494938990298, -1.9297198700229383, -0.8081351880619542, 0.3134494938990298, -0.8081351880619542, 0.3134494938990298, 0.8742418348795219, 0.8742418348795219, -0.8081351880619542, -0.8081351880619542, 1.4350341758600138, 0.8742418348795219, -0.24734284708146217, -0.24734284708146217, 0.3134494938990298, 0.8742418348795219, 0.3134494938990298, -0.24734284708146217, -3.051304551983922, -0.24734284708146217, 0.8742418348795219, -0.8081351880619542, 0.8742418348795219, 0.3134494938990298, 1.4350341758600138, 0.8742418348795219, -0.8081351880619542, 0.3134494938990298, -0.24734284708146217, -0.24734284708146217, -0.24734284708146217, -0.8081351880619542, 0.8742418348795219, 0.8742418348795219, -1.3689275290424463, -0.24734284708146217, -0.8081351880619542, -0.24734284708146217, -0.24734284708146217, 0.3134494938990298, 0.8742418348795219, -0.8081351880619542, 0.8742418348795219, -0.24734284708146217, -0.8081351880619542, 1.4350341758600138, 0.8742418348795219, -0.8081351880619542, -0.24734284708146217, -0.8081351880619542, -0.24734284708146217, -1.3689275290424463, 0.3134494938990298, -0.8081351880619542, 0.3134494938990298, 0.3134494938990298, -1.3689275290424463, -0.8081351880619542, -0.8081351880619542, 0.3134494938990298, -0.24734284708146217, 0.3134494938990298, 0.8742418348795219, 0.3134494938990298, 0.3134494938990298, 0.3134494938990298, 0.3134494938990298, 0.8742418348795219, -0.8081351880619542, 0.8742418348795219, -0.8081351880619542, 0.3134494938990298, 0.3134494938990298, -0.8081351880619542, -0.24734284708146217, -0.8081351880619542, 0.3134494938990298, 0.8742418348795219, -0.24734284708146217, 0.8742418348795219, -0.24734284708146217, 0.8742418348795219, 0.8742418348795219, -0.8081351880619542, 0.3134494938990298, -2.49051221100343, 0.3134494938990298, -3.051304551983922, -0.24734284708146217, 0.3134494938990298, 0.8742418348795219, 0.3134494938990298, -0.8081351880619542, 0.3134494938990298, -0.24734284708146217, -2.49051221100343, 0.3134494938990298, 0.8742418348795219, 0.8742418348795219, -0.24734284708146217, -0.24734284708146217, -1.3689275290424463, -0.8081351880619542, -1.3689275290424463, -0.8081351880619542, 0.8742418348795219, -1.9297198700229383, 0.3134494938990298, -3.051304551983922, -1.9297198700229383, 0.8742418348795219, -0.24734284708146217, -3.051304551983922, 0.3134494938990298, -0.8081351880619542, 0.8742418348795219, 0.8742418348795219, -0.8081351880619542, 0.8742418348795219, -0.24734284708146217, 0.8742418348795219, -3.051304551983922, 0.8742418348795219, 0.3134494938990298, -0.24734284708146217, -0.24734284708146217, 0.8742418348795219]}, {\"hoverlabel\": {\"namelength\": 0}, \"hovertemplate\": \"y=%{marker.color}<br>Typical Chest Pain0=%{x}<br>Age=%{y}<br>EF-TTE=%{z}\", \"legendgroup\": \"y=1\", \"marker\": {\"color\": [1, 1, 1, 1, 1, 1, 1, 1, 1, 1, 1, 1, 1, 1, 1, 1, 1, 1, 1, 1, 1, 1, 1, 1, 1, 1, 1, 1, 1, 1, 1, 1, 1, 1, 1, 1, 1, 1, 1, 1, 1, 1, 1, 1, 1, 1, 1, 1, 1, 1, 1, 1, 1, 1, 1, 1, 1, 1, 1, 1, 1, 1, 1, 1, 1, 1, 1, 1, 1, 1, 1, 1, 1, 1, 1, 1, 1, 1, 1, 1, 1, 1, 1, 1, 1, 1], \"coloraxis\": \"coloraxis\", \"symbol\": \"diamond\"}, \"mode\": \"markers\", \"name\": \"y=1\", \"scene\": \"scene\", \"showlegend\": true, \"type\": \"scatter3d\", \"x\": [1.0, 1.0, 1.0, 1.0, 1.0, 1.0, 1.0, 1.0, 1.0, 1.0, 1.0, 1.0, 1.0, 1.0, 0.0, 1.0, 1.0, 1.0, 1.0, 1.0, 1.0, 1.0, 1.0, 1.0, 1.0, 1.0, 0.0, 1.0, 1.0, 1.0, 1.0, 1.0, 1.0, 1.0, 1.0, 1.0, 1.0, 1.0, 1.0, 1.0, 0.0, 1.0, 1.0, 1.0, 1.0, 1.0, 1.0, 1.0, 1.0, 0.0, 1.0, 1.0, 1.0, 1.0, 1.0, 0.0, 1.0, 0.0, 1.0, 0.0, 1.0, 1.0, 1.0, 1.0, 1.0, 0.0, 1.0, 1.0, 1.0, 1.0, 1.0, 1.0, 1.0, 1.0, 0.0, 1.0, 1.0, 1.0, 1.0, 1.0, 1.0, 1.0, 1.0, 1.0, 0.0, 1.0], \"y\": [0.4999999999999999, 0.2857142857142857, 0.4821428571428571, 0.4642857142857143, 0.1428571428571428, 0.5357142857142857, 0.4642857142857143, 0.375, 0.3035714285714285, 0.2321428571428571, 0.8749999999999999, 0.25, 0.3928571428571428, 0.25, 0.3214285714285714, 0.3571428571428571, 0.4285714285714285, 0.3035714285714285, 0.2678571428571428, 0.375, 0.4107142857142857, 0.3214285714285714, 0.3571428571428571, 0.1964285714285714, 0.6607142857142857, 0.2321428571428571, 0.3571428571428571, 0.6071428571428571, 0.4999999999999999, 0.375, 0.6785714285714285, 0.0, 0.3928571428571428, 0.6071428571428571, 0.3571428571428571, 0.1964285714285714, 0.2321428571428571, 0.6249999999999999, 0.3392857142857143, 0.1428571428571428, 0.6249999999999999, 0.3214285714285714, 0.4464285714285714, 0.6428571428571429, 0.3928571428571428, 0.2857142857142857, 0.8214285714285713, 0.3571428571428571, 0.4642857142857143, 0.3214285714285714, 0.4642857142857143, 0.3571428571428571, 0.3035714285714285, 0.2142857142857143, 0.5892857142857143, 0.2142857142857143, 0.7142857142857143, 0.7678571428571429, 0.4464285714285714, 0.0, 0.3035714285714285, 0.3571428571428571, 0.3571428571428571, 0.3392857142857143, 0.4107142857142857, 0.6428571428571429, 0.3928571428571428, 0.5178571428571429, 0.4464285714285714, 0.4642857142857143, 0.3392857142857143, 0.3571428571428571, 0.4642857142857143, 0.6607142857142857, 0.4107142857142857, 0.5714285714285713, 0.375, 0.4821428571428571, 0.4642857142857143, 0.4107142857142857, 0.2321428571428571, 0.1785714285714285, 0.4642857142857143, 0.5714285714285713, 0.6428571428571429, 0.4464285714285714], \"z\": [0.8742418348795219, 0.3134494938990298, 1.4350341758600138, 0.8742418348795219, 0.8742418348795219, 0.8742418348795219, -1.3689275290424463, 0.8742418348795219, -0.24734284708146217, 0.8742418348795219, -3.612096892964414, 0.3134494938990298, 0.8742418348795219, -3.051304551983922, 0.8742418348795219, 0.8742418348795219, 0.8742418348795219, 0.3134494938990298, -0.8081351880619542, 0.8742418348795219, 0.8742418348795219, 0.8742418348795219, 0.3134494938990298, -1.3689275290424463, 0.8742418348795219, 0.8742418348795219, 0.8742418348795219, -1.9297198700229383, 0.3134494938990298, 0.8742418348795219, 1.4350341758600138, 0.8742418348795219, 0.8742418348795219, 0.3134494938990298, 0.8742418348795219, 0.3134494938990298, 0.8742418348795219, 0.8742418348795219, 0.8742418348795219, 0.8742418348795219, -0.24734284708146217, 0.8742418348795219, 0.3134494938990298, 0.8742418348795219, 0.8742418348795219, 0.8742418348795219, 0.3134494938990298, 0.3134494938990298, -0.24734284708146217, 0.8742418348795219, 0.3134494938990298, 0.8742418348795219, -0.8081351880619542, 0.3134494938990298, 0.8742418348795219, 0.8742418348795219, 0.3134494938990298, 0.8742418348795219, 0.8742418348795219, 0.8742418348795219, 0.8742418348795219, 0.3134494938990298, 0.3134494938990298, 0.8742418348795219, 0.8742418348795219, 0.8742418348795219, -0.24734284708146217, 0.3134494938990298, -1.3689275290424463, -1.3689275290424463, 0.8742418348795219, 0.8742418348795219, 0.8742418348795219, 0.8742418348795219, 0.8742418348795219, 0.8742418348795219, -1.3689275290424463, 0.8742418348795219, 0.8742418348795219, -0.24734284708146217, 0.8742418348795219, 0.3134494938990298, 0.8742418348795219, -0.24734284708146217, -0.24734284708146217, -0.8081351880619542]}],\n",
       "                        {\"coloraxis\": {\"colorbar\": {\"title\": {\"text\": \"y\"}}, \"colorscale\": [[0.0, \"#0d0887\"], [0.1111111111111111, \"#46039f\"], [0.2222222222222222, \"#7201a8\"], [0.3333333333333333, \"#9c179e\"], [0.4444444444444444, \"#bd3786\"], [0.5555555555555556, \"#d8576b\"], [0.6666666666666666, \"#ed7953\"], [0.7777777777777778, \"#fb9f3a\"], [0.8888888888888888, \"#fdca26\"], [1.0, \"#f0f921\"]]}, \"height\": 600, \"legend\": {\"tracegroupgap\": 0}, \"margin\": {\"t\": 60}, \"scene\": {\"domain\": {\"x\": [0.0, 0.98], \"y\": [0.0, 1.0]}, \"xaxis\": {\"title\": {\"text\": \"Typical Chest Pain0\"}}, \"yaxis\": {\"title\": {\"text\": \"Age\"}}, \"zaxis\": {\"title\": {\"text\": \"EF-TTE\"}}}, \"template\": {\"data\": {\"bar\": [{\"error_x\": {\"color\": \"#2a3f5f\"}, \"error_y\": {\"color\": \"#2a3f5f\"}, \"marker\": {\"line\": {\"color\": \"#E5ECF6\", \"width\": 0.5}}, \"type\": \"bar\"}], \"barpolar\": [{\"marker\": {\"line\": {\"color\": \"#E5ECF6\", \"width\": 0.5}}, \"type\": \"barpolar\"}], \"carpet\": [{\"aaxis\": {\"endlinecolor\": \"#2a3f5f\", \"gridcolor\": \"white\", \"linecolor\": \"white\", \"minorgridcolor\": \"white\", \"startlinecolor\": \"#2a3f5f\"}, \"baxis\": {\"endlinecolor\": \"#2a3f5f\", \"gridcolor\": \"white\", \"linecolor\": \"white\", \"minorgridcolor\": \"white\", \"startlinecolor\": \"#2a3f5f\"}, \"type\": \"carpet\"}], \"choropleth\": [{\"colorbar\": {\"outlinewidth\": 0, \"ticks\": \"\"}, \"type\": \"choropleth\"}], \"contour\": [{\"colorbar\": {\"outlinewidth\": 0, \"ticks\": \"\"}, \"colorscale\": [[0.0, \"#0d0887\"], [0.1111111111111111, \"#46039f\"], [0.2222222222222222, \"#7201a8\"], [0.3333333333333333, \"#9c179e\"], [0.4444444444444444, \"#bd3786\"], [0.5555555555555556, \"#d8576b\"], [0.6666666666666666, \"#ed7953\"], [0.7777777777777778, \"#fb9f3a\"], [0.8888888888888888, \"#fdca26\"], [1.0, \"#f0f921\"]], \"type\": \"contour\"}], \"contourcarpet\": [{\"colorbar\": {\"outlinewidth\": 0, \"ticks\": \"\"}, \"type\": \"contourcarpet\"}], \"heatmap\": [{\"colorbar\": {\"outlinewidth\": 0, \"ticks\": \"\"}, \"colorscale\": [[0.0, \"#0d0887\"], [0.1111111111111111, \"#46039f\"], [0.2222222222222222, \"#7201a8\"], [0.3333333333333333, \"#9c179e\"], [0.4444444444444444, \"#bd3786\"], [0.5555555555555556, \"#d8576b\"], [0.6666666666666666, \"#ed7953\"], [0.7777777777777778, \"#fb9f3a\"], [0.8888888888888888, \"#fdca26\"], [1.0, \"#f0f921\"]], \"type\": \"heatmap\"}], \"heatmapgl\": [{\"colorbar\": {\"outlinewidth\": 0, \"ticks\": \"\"}, \"colorscale\": [[0.0, \"#0d0887\"], [0.1111111111111111, \"#46039f\"], [0.2222222222222222, \"#7201a8\"], [0.3333333333333333, \"#9c179e\"], [0.4444444444444444, \"#bd3786\"], [0.5555555555555556, \"#d8576b\"], [0.6666666666666666, \"#ed7953\"], [0.7777777777777778, \"#fb9f3a\"], [0.8888888888888888, \"#fdca26\"], [1.0, \"#f0f921\"]], \"type\": \"heatmapgl\"}], \"histogram\": [{\"marker\": {\"colorbar\": {\"outlinewidth\": 0, \"ticks\": \"\"}}, \"type\": \"histogram\"}], \"histogram2d\": [{\"colorbar\": {\"outlinewidth\": 0, \"ticks\": \"\"}, \"colorscale\": [[0.0, \"#0d0887\"], [0.1111111111111111, \"#46039f\"], [0.2222222222222222, \"#7201a8\"], [0.3333333333333333, \"#9c179e\"], [0.4444444444444444, \"#bd3786\"], [0.5555555555555556, \"#d8576b\"], [0.6666666666666666, \"#ed7953\"], [0.7777777777777778, \"#fb9f3a\"], [0.8888888888888888, \"#fdca26\"], [1.0, \"#f0f921\"]], \"type\": \"histogram2d\"}], \"histogram2dcontour\": [{\"colorbar\": {\"outlinewidth\": 0, \"ticks\": \"\"}, \"colorscale\": [[0.0, \"#0d0887\"], [0.1111111111111111, \"#46039f\"], [0.2222222222222222, \"#7201a8\"], [0.3333333333333333, \"#9c179e\"], [0.4444444444444444, \"#bd3786\"], [0.5555555555555556, \"#d8576b\"], [0.6666666666666666, \"#ed7953\"], [0.7777777777777778, \"#fb9f3a\"], [0.8888888888888888, \"#fdca26\"], [1.0, \"#f0f921\"]], \"type\": \"histogram2dcontour\"}], \"mesh3d\": [{\"colorbar\": {\"outlinewidth\": 0, \"ticks\": \"\"}, \"type\": \"mesh3d\"}], \"parcoords\": [{\"line\": {\"colorbar\": {\"outlinewidth\": 0, \"ticks\": \"\"}}, \"type\": \"parcoords\"}], \"scatter\": [{\"marker\": {\"colorbar\": {\"outlinewidth\": 0, \"ticks\": \"\"}}, \"type\": \"scatter\"}], \"scatter3d\": [{\"line\": {\"colorbar\": {\"outlinewidth\": 0, \"ticks\": \"\"}}, \"marker\": {\"colorbar\": {\"outlinewidth\": 0, \"ticks\": \"\"}}, \"type\": \"scatter3d\"}], \"scattercarpet\": [{\"marker\": {\"colorbar\": {\"outlinewidth\": 0, \"ticks\": \"\"}}, \"type\": \"scattercarpet\"}], \"scattergeo\": [{\"marker\": {\"colorbar\": {\"outlinewidth\": 0, \"ticks\": \"\"}}, \"type\": \"scattergeo\"}], \"scattergl\": [{\"marker\": {\"colorbar\": {\"outlinewidth\": 0, \"ticks\": \"\"}}, \"type\": \"scattergl\"}], \"scattermapbox\": [{\"marker\": {\"colorbar\": {\"outlinewidth\": 0, \"ticks\": \"\"}}, \"type\": \"scattermapbox\"}], \"scatterpolar\": [{\"marker\": {\"colorbar\": {\"outlinewidth\": 0, \"ticks\": \"\"}}, \"type\": \"scatterpolar\"}], \"scatterpolargl\": [{\"marker\": {\"colorbar\": {\"outlinewidth\": 0, \"ticks\": \"\"}}, \"type\": \"scatterpolargl\"}], \"scatterternary\": [{\"marker\": {\"colorbar\": {\"outlinewidth\": 0, \"ticks\": \"\"}}, \"type\": \"scatterternary\"}], \"surface\": [{\"colorbar\": {\"outlinewidth\": 0, \"ticks\": \"\"}, \"colorscale\": [[0.0, \"#0d0887\"], [0.1111111111111111, \"#46039f\"], [0.2222222222222222, \"#7201a8\"], [0.3333333333333333, \"#9c179e\"], [0.4444444444444444, \"#bd3786\"], [0.5555555555555556, \"#d8576b\"], [0.6666666666666666, \"#ed7953\"], [0.7777777777777778, \"#fb9f3a\"], [0.8888888888888888, \"#fdca26\"], [1.0, \"#f0f921\"]], \"type\": \"surface\"}], \"table\": [{\"cells\": {\"fill\": {\"color\": \"#EBF0F8\"}, \"line\": {\"color\": \"white\"}}, \"header\": {\"fill\": {\"color\": \"#C8D4E3\"}, \"line\": {\"color\": \"white\"}}, \"type\": \"table\"}]}, \"layout\": {\"annotationdefaults\": {\"arrowcolor\": \"#2a3f5f\", \"arrowhead\": 0, \"arrowwidth\": 1}, \"colorscale\": {\"diverging\": [[0, \"#8e0152\"], [0.1, \"#c51b7d\"], [0.2, \"#de77ae\"], [0.3, \"#f1b6da\"], [0.4, \"#fde0ef\"], [0.5, \"#f7f7f7\"], [0.6, \"#e6f5d0\"], [0.7, \"#b8e186\"], [0.8, \"#7fbc41\"], [0.9, \"#4d9221\"], [1, \"#276419\"]], \"sequential\": [[0.0, \"#0d0887\"], [0.1111111111111111, \"#46039f\"], [0.2222222222222222, \"#7201a8\"], [0.3333333333333333, \"#9c179e\"], [0.4444444444444444, \"#bd3786\"], [0.5555555555555556, \"#d8576b\"], [0.6666666666666666, \"#ed7953\"], [0.7777777777777778, \"#fb9f3a\"], [0.8888888888888888, \"#fdca26\"], [1.0, \"#f0f921\"]], \"sequentialminus\": [[0.0, \"#0d0887\"], [0.1111111111111111, \"#46039f\"], [0.2222222222222222, \"#7201a8\"], [0.3333333333333333, \"#9c179e\"], [0.4444444444444444, \"#bd3786\"], [0.5555555555555556, \"#d8576b\"], [0.6666666666666666, \"#ed7953\"], [0.7777777777777778, \"#fb9f3a\"], [0.8888888888888888, \"#fdca26\"], [1.0, \"#f0f921\"]]}, \"colorway\": [\"#636efa\", \"#EF553B\", \"#00cc96\", \"#ab63fa\", \"#FFA15A\", \"#19d3f3\", \"#FF6692\", \"#B6E880\", \"#FF97FF\", \"#FECB52\"], \"font\": {\"color\": \"#2a3f5f\"}, \"geo\": {\"bgcolor\": \"white\", \"lakecolor\": \"white\", \"landcolor\": \"#E5ECF6\", \"showlakes\": true, \"showland\": true, \"subunitcolor\": \"white\"}, \"hoverlabel\": {\"align\": \"left\"}, \"hovermode\": \"closest\", \"mapbox\": {\"style\": \"light\"}, \"paper_bgcolor\": \"white\", \"plot_bgcolor\": \"#E5ECF6\", \"polar\": {\"angularaxis\": {\"gridcolor\": \"white\", \"linecolor\": \"white\", \"ticks\": \"\"}, \"bgcolor\": \"#E5ECF6\", \"radialaxis\": {\"gridcolor\": \"white\", \"linecolor\": \"white\", \"ticks\": \"\"}}, \"scene\": {\"xaxis\": {\"backgroundcolor\": \"#E5ECF6\", \"gridcolor\": \"white\", \"gridwidth\": 2, \"linecolor\": \"white\", \"showbackground\": true, \"ticks\": \"\", \"zerolinecolor\": \"white\"}, \"yaxis\": {\"backgroundcolor\": \"#E5ECF6\", \"gridcolor\": \"white\", \"gridwidth\": 2, \"linecolor\": \"white\", \"showbackground\": true, \"ticks\": \"\", \"zerolinecolor\": \"white\"}, \"zaxis\": {\"backgroundcolor\": \"#E5ECF6\", \"gridcolor\": \"white\", \"gridwidth\": 2, \"linecolor\": \"white\", \"showbackground\": true, \"ticks\": \"\", \"zerolinecolor\": \"white\"}}, \"shapedefaults\": {\"line\": {\"color\": \"#2a3f5f\"}}, \"ternary\": {\"aaxis\": {\"gridcolor\": \"white\", \"linecolor\": \"white\", \"ticks\": \"\"}, \"baxis\": {\"gridcolor\": \"white\", \"linecolor\": \"white\", \"ticks\": \"\"}, \"bgcolor\": \"#E5ECF6\", \"caxis\": {\"gridcolor\": \"white\", \"linecolor\": \"white\", \"ticks\": \"\"}}, \"title\": {\"x\": 0.05}, \"xaxis\": {\"automargin\": true, \"gridcolor\": \"white\", \"linecolor\": \"white\", \"ticks\": \"\", \"zerolinecolor\": \"white\", \"zerolinewidth\": 2}, \"yaxis\": {\"automargin\": true, \"gridcolor\": \"white\", \"linecolor\": \"white\", \"ticks\": \"\", \"zerolinecolor\": \"white\", \"zerolinewidth\": 2}}}},\n",
       "                        {\"responsive\": true}\n",
       "                    ).then(function(){\n",
       "                            \n",
       "var gd = document.getElementById('ce4f5af3-7aab-451f-a537-c9ff82ef5073');\n",
       "var x = new MutationObserver(function (mutations, observer) {{\n",
       "        var display = window.getComputedStyle(gd).display;\n",
       "        if (!display || display === 'none') {{\n",
       "            console.log([gd, 'removed!']);\n",
       "            Plotly.purge(gd);\n",
       "            observer.disconnect();\n",
       "        }}\n",
       "}});\n",
       "\n",
       "// Listen for the removal of the full notebook cells\n",
       "var notebookContainer = gd.closest('#notebook-container');\n",
       "if (notebookContainer) {{\n",
       "    x.observe(notebookContainer, {childList: true});\n",
       "}}\n",
       "\n",
       "// Listen for the clearing of the current output cell\n",
       "var outputEl = gd.closest('.output');\n",
       "if (outputEl) {{\n",
       "    x.observe(outputEl, {childList: true});\n",
       "}}\n",
       "\n",
       "                        })\n",
       "                };\n",
       "                });\n",
       "            </script>\n",
       "        </div>"
      ]
     },
     "metadata": {},
     "output_type": "display_data"
    }
   ],
   "source": [
    "import plotly.express as px\n",
    "fig = px.scatter_3d(df_preprocessed, x= \"Typical Chest Pain0\", y=\"Age\", z=\"EF-TTE\",\n",
    "                    color=\"y\", symbol=\"y\")\n",
    "# \"Age\" \"Atypical0\" 'Region RWMA0' \"EF-TTE\" 'HTN0' \"Typical Chest Pain0\"\n",
    "fig.show()"
   ]
  },
  {
   "cell_type": "code",
   "execution_count": 24,
   "metadata": {},
   "outputs": [
    {
     "ename": "IndexError",
     "evalue": "boolean index did not match indexed array along dimension 0; dimension is 55 but corresponding boolean dimension is 93",
     "output_type": "error",
     "traceback": [
      "\u001b[0;31m---------------------------------------------------------------------------\u001b[0m",
      "\u001b[0;31mIndexError\u001b[0m                                Traceback (most recent call last)",
      "\u001b[0;32m<ipython-input-24-200b23d81eaa>\u001b[0m in \u001b[0;36m<module>\u001b[0;34m\u001b[0m\n\u001b[1;32m      6\u001b[0m \u001b[0mm_select\u001b[0m \u001b[0;34m=\u001b[0m \u001b[0mSelectKBest\u001b[0m\u001b[0;34m(\u001b[0m\u001b[0mmutual_info_classif\u001b[0m\u001b[0;34m,\u001b[0m\u001b[0mk\u001b[0m\u001b[0;34m=\u001b[0m\u001b[0;36m10\u001b[0m\u001b[0;34m)\u001b[0m\u001b[0;34m\u001b[0m\u001b[0;34m\u001b[0m\u001b[0m\n\u001b[1;32m      7\u001b[0m \u001b[0mm_select\u001b[0m\u001b[0;34m.\u001b[0m\u001b[0mfit_transform\u001b[0m\u001b[0;34m(\u001b[0m\u001b[0mX\u001b[0m\u001b[0;34m,\u001b[0m\u001b[0my\u001b[0m\u001b[0;34m)\u001b[0m\u001b[0;34m\u001b[0m\u001b[0;34m\u001b[0m\u001b[0m\n\u001b[0;32m----> 8\u001b[0;31m \u001b[0mm_feature\u001b[0m \u001b[0;34m=\u001b[0m \u001b[0mfeature_names\u001b[0m\u001b[0;34m[\u001b[0m\u001b[0mm_select\u001b[0m\u001b[0;34m.\u001b[0m\u001b[0mget_support\u001b[0m\u001b[0;34m(\u001b[0m\u001b[0;34m)\u001b[0m\u001b[0;34m]\u001b[0m\u001b[0;34m\u001b[0m\u001b[0;34m\u001b[0m\u001b[0m\n\u001b[0m\u001b[1;32m      9\u001b[0m \u001b[0mprint\u001b[0m\u001b[0;34m(\u001b[0m\u001b[0mm_feature\u001b[0m\u001b[0;34m)\u001b[0m\u001b[0;34m\u001b[0m\u001b[0;34m\u001b[0m\u001b[0m\n",
      "\u001b[0;32m/opt/conda/lib/python3.7/site-packages/pandas/core/indexes/base.py\u001b[0m in \u001b[0;36m__getitem__\u001b[0;34m(self, key)\u001b[0m\n\u001b[1;32m   4282\u001b[0m \u001b[0;34m\u001b[0m\u001b[0m\n\u001b[1;32m   4283\u001b[0m         \u001b[0mkey\u001b[0m \u001b[0;34m=\u001b[0m \u001b[0mcom\u001b[0m\u001b[0;34m.\u001b[0m\u001b[0mvalues_from_object\u001b[0m\u001b[0;34m(\u001b[0m\u001b[0mkey\u001b[0m\u001b[0;34m)\u001b[0m\u001b[0;34m\u001b[0m\u001b[0;34m\u001b[0m\u001b[0m\n\u001b[0;32m-> 4284\u001b[0;31m         \u001b[0mresult\u001b[0m \u001b[0;34m=\u001b[0m \u001b[0mgetitem\u001b[0m\u001b[0;34m(\u001b[0m\u001b[0mkey\u001b[0m\u001b[0;34m)\u001b[0m\u001b[0;34m\u001b[0m\u001b[0;34m\u001b[0m\u001b[0m\n\u001b[0m\u001b[1;32m   4285\u001b[0m         \u001b[0;32mif\u001b[0m \u001b[0;32mnot\u001b[0m \u001b[0mis_scalar\u001b[0m\u001b[0;34m(\u001b[0m\u001b[0mresult\u001b[0m\u001b[0;34m)\u001b[0m\u001b[0;34m:\u001b[0m\u001b[0;34m\u001b[0m\u001b[0;34m\u001b[0m\u001b[0m\n\u001b[1;32m   4286\u001b[0m             \u001b[0;32mreturn\u001b[0m \u001b[0mpromote\u001b[0m\u001b[0;34m(\u001b[0m\u001b[0mresult\u001b[0m\u001b[0;34m)\u001b[0m\u001b[0;34m\u001b[0m\u001b[0;34m\u001b[0m\u001b[0m\n",
      "\u001b[0;31mIndexError\u001b[0m: boolean index did not match indexed array along dimension 0; dimension is 55 but corresponding boolean dimension is 93"
     ]
    }
   ],
   "source": [
    "feature_names = X.columns\n",
    "from sklearn.feature_selection import f_classif, mutual_info_classif\n",
    "y = df_preprocessed['y'].values\n",
    "X = df_preprocessed.drop(columns=['y'])\n",
    "from sklearn.feature_selection import SelectKBest\n",
    "m_select = SelectKBest(mutual_info_classif,k=10)\n",
    "m_select.fit_transform(X,y)\n",
    "m_feature = feature_names[m_select.get_support()]\n",
    "print(m_feature)"
   ]
  },
  {
   "cell_type": "code",
   "execution_count": null,
   "metadata": {},
   "outputs": [],
   "source": [
    "f_select = SelectKBest(f_classif,k=10)\n",
    "f_select.fit_transform(X,y)\n",
    "f_feature = feature_names[f_select.get_support()]\n",
    "print(f_feature)"
   ]
  },
  {
   "cell_type": "code",
   "execution_count": 27,
   "metadata": {},
   "outputs": [
    {
     "data": {
      "text/plain": [
       "0      False\n",
       "1       True\n",
       "2      False\n",
       "3       True\n",
       "4       True\n",
       "       ...  \n",
       "297    False\n",
       "298    False\n",
       "299     True\n",
       "300    False\n",
       "301     True\n",
       "Name: Typical Chest Pain0, Length: 302, dtype: bool"
      ]
     },
     "execution_count": 27,
     "metadata": {},
     "output_type": "execute_result"
    }
   ],
   "source": [
    "df_preprocessed['Typical Chest Pain0']==1"
   ]
  },
  {
   "cell_type": "code",
   "execution_count": 30,
   "metadata": {},
   "outputs": [
    {
     "data": {
      "text/plain": [
       "1.4350341758600138"
      ]
     },
     "execution_count": 30,
     "metadata": {},
     "output_type": "execute_result"
    }
   ],
   "source": [
    "max(df_preprocessed['EF-TTE'])"
   ]
  },
  {
   "cell_type": "code",
   "execution_count": 130,
   "metadata": {},
   "outputs": [],
   "source": [
    "condn = (df_preprocessed['Typical Chest Pain0']==1).values * ((df_preprocessed['EF-TTE']-4.5*df_preprocessed['Age']+3.2)>=0).values"
   ]
  },
  {
   "cell_type": "code",
   "execution_count": 131,
   "metadata": {},
   "outputs": [
    {
     "data": {
      "text/plain": [
       "0.801980198019802"
      ]
     },
     "execution_count": 131,
     "metadata": {},
     "output_type": "execute_result"
    }
   ],
   "source": [
    "aa = df_preprocessed[condn]\n",
    "\n",
    "a = aa[aa['y']==1].shape[0]\n",
    "\n",
    "aa = df_preprocessed[np.logical_not(condn)]\n",
    "\n",
    "b = aa[aa['y']==0].shape[0]\n",
    "\n",
    "(a+b)/303"
   ]
  },
  {
   "cell_type": "code",
   "execution_count": 12,
   "metadata": {},
   "outputs": [
    {
     "data": {
      "text/plain": [
       "Index(['Age', 'Weight', 'Length', 'Sex', 'BMI', 'DM', 'HTN', 'Current Smoker',\n",
       "       'EX-Smoker', 'FH', 'Obesity', 'CRF', 'CVA', 'Airway disease',\n",
       "       'Thyroid Disease', 'CHF', 'DLP', 'BP', 'PR', 'Edema',\n",
       "       'Weak Peripheral Pulse', 'Lung rales', 'Systolic Murmur',\n",
       "       'Diastolic Murmur', 'Typical Chest Pain', 'Dyspnea', 'Function Class',\n",
       "       'Atypical', 'Nonanginal', 'Exertional CP', 'LowTH Ang', 'Q Wave',\n",
       "       'St Elevation', 'St Depression', 'Tinversion', 'LVH',\n",
       "       'Poor R Progression', 'BBB', 'FBS', 'CR', 'TG', 'LDL', 'HDL', 'BUN',\n",
       "       'ESR', 'HB', 'K', 'Na', 'WBC', 'Lymph', 'Neut', 'PLT', 'EF-TTE',\n",
       "       'Region RWMA', 'VHD', 'Cath'],\n",
       "      dtype='object')"
      ]
     },
     "execution_count": 12,
     "metadata": {},
     "output_type": "execute_result"
    }
   ],
   "source": [
    "df.columns"
   ]
  },
  {
   "cell_type": "code",
   "execution_count": 10,
   "metadata": {},
   "outputs": [
    {
     "data": {
      "text/html": [
       "<div>\n",
       "<style scoped>\n",
       "    .dataframe tbody tr th:only-of-type {\n",
       "        vertical-align: middle;\n",
       "    }\n",
       "\n",
       "    .dataframe tbody tr th {\n",
       "        vertical-align: top;\n",
       "    }\n",
       "\n",
       "    .dataframe thead th {\n",
       "        text-align: right;\n",
       "    }\n",
       "</style>\n",
       "<table border=\"1\" class=\"dataframe\">\n",
       "  <thead>\n",
       "    <tr style=\"text-align: right;\">\n",
       "      <th></th>\n",
       "      <th>Age</th>\n",
       "      <th>Weight</th>\n",
       "      <th>Length</th>\n",
       "      <th>Sex</th>\n",
       "      <th>BMI</th>\n",
       "      <th>DM</th>\n",
       "      <th>HTN</th>\n",
       "      <th>Current Smoker</th>\n",
       "      <th>EX-Smoker</th>\n",
       "      <th>FH</th>\n",
       "      <th>...</th>\n",
       "      <th>K</th>\n",
       "      <th>Na</th>\n",
       "      <th>WBC</th>\n",
       "      <th>Lymph</th>\n",
       "      <th>Neut</th>\n",
       "      <th>PLT</th>\n",
       "      <th>EF-TTE</th>\n",
       "      <th>Region RWMA</th>\n",
       "      <th>VHD</th>\n",
       "      <th>Cath</th>\n",
       "    </tr>\n",
       "  </thead>\n",
       "  <tbody>\n",
       "    <tr>\n",
       "      <th>0</th>\n",
       "      <td>53</td>\n",
       "      <td>90</td>\n",
       "      <td>175</td>\n",
       "      <td>Male</td>\n",
       "      <td>29.387755</td>\n",
       "      <td>0</td>\n",
       "      <td>1</td>\n",
       "      <td>1</td>\n",
       "      <td>0</td>\n",
       "      <td>0</td>\n",
       "      <td>...</td>\n",
       "      <td>4.7</td>\n",
       "      <td>141</td>\n",
       "      <td>5700</td>\n",
       "      <td>39</td>\n",
       "      <td>52</td>\n",
       "      <td>261</td>\n",
       "      <td>50</td>\n",
       "      <td>0</td>\n",
       "      <td>N</td>\n",
       "      <td>Cad</td>\n",
       "    </tr>\n",
       "    <tr>\n",
       "      <th>1</th>\n",
       "      <td>67</td>\n",
       "      <td>70</td>\n",
       "      <td>157</td>\n",
       "      <td>Fmale</td>\n",
       "      <td>28.398718</td>\n",
       "      <td>0</td>\n",
       "      <td>1</td>\n",
       "      <td>0</td>\n",
       "      <td>0</td>\n",
       "      <td>0</td>\n",
       "      <td>...</td>\n",
       "      <td>4.7</td>\n",
       "      <td>156</td>\n",
       "      <td>7700</td>\n",
       "      <td>38</td>\n",
       "      <td>55</td>\n",
       "      <td>165</td>\n",
       "      <td>40</td>\n",
       "      <td>4</td>\n",
       "      <td>N</td>\n",
       "      <td>Cad</td>\n",
       "    </tr>\n",
       "    <tr>\n",
       "      <th>2</th>\n",
       "      <td>54</td>\n",
       "      <td>54</td>\n",
       "      <td>164</td>\n",
       "      <td>Male</td>\n",
       "      <td>20.077335</td>\n",
       "      <td>0</td>\n",
       "      <td>0</td>\n",
       "      <td>1</td>\n",
       "      <td>0</td>\n",
       "      <td>0</td>\n",
       "      <td>...</td>\n",
       "      <td>4.7</td>\n",
       "      <td>139</td>\n",
       "      <td>7400</td>\n",
       "      <td>38</td>\n",
       "      <td>60</td>\n",
       "      <td>230</td>\n",
       "      <td>40</td>\n",
       "      <td>2</td>\n",
       "      <td>mild</td>\n",
       "      <td>Cad</td>\n",
       "    </tr>\n",
       "    <tr>\n",
       "      <th>3</th>\n",
       "      <td>66</td>\n",
       "      <td>67</td>\n",
       "      <td>158</td>\n",
       "      <td>Fmale</td>\n",
       "      <td>26.838648</td>\n",
       "      <td>0</td>\n",
       "      <td>1</td>\n",
       "      <td>0</td>\n",
       "      <td>0</td>\n",
       "      <td>0</td>\n",
       "      <td>...</td>\n",
       "      <td>4.4</td>\n",
       "      <td>142</td>\n",
       "      <td>13000</td>\n",
       "      <td>18</td>\n",
       "      <td>72</td>\n",
       "      <td>742</td>\n",
       "      <td>55</td>\n",
       "      <td>0</td>\n",
       "      <td>Severe</td>\n",
       "      <td>Normal</td>\n",
       "    </tr>\n",
       "    <tr>\n",
       "      <th>4</th>\n",
       "      <td>50</td>\n",
       "      <td>87</td>\n",
       "      <td>153</td>\n",
       "      <td>Fmale</td>\n",
       "      <td>37.165193</td>\n",
       "      <td>0</td>\n",
       "      <td>1</td>\n",
       "      <td>0</td>\n",
       "      <td>0</td>\n",
       "      <td>0</td>\n",
       "      <td>...</td>\n",
       "      <td>4.0</td>\n",
       "      <td>140</td>\n",
       "      <td>9200</td>\n",
       "      <td>55</td>\n",
       "      <td>39</td>\n",
       "      <td>274</td>\n",
       "      <td>50</td>\n",
       "      <td>0</td>\n",
       "      <td>Severe</td>\n",
       "      <td>Normal</td>\n",
       "    </tr>\n",
       "  </tbody>\n",
       "</table>\n",
       "<p>5 rows × 56 columns</p>\n",
       "</div>"
      ],
      "text/plain": [
       "   Age  Weight  Length    Sex        BMI  DM  HTN  Current Smoker  EX-Smoker  \\\n",
       "0   53      90     175   Male  29.387755   0    1               1          0   \n",
       "1   67      70     157  Fmale  28.398718   0    1               0          0   \n",
       "2   54      54     164   Male  20.077335   0    0               1          0   \n",
       "3   66      67     158  Fmale  26.838648   0    1               0          0   \n",
       "4   50      87     153  Fmale  37.165193   0    1               0          0   \n",
       "\n",
       "   FH  ...    K   Na    WBC Lymph Neut  PLT EF-TTE  Region RWMA     VHD  \\\n",
       "0   0  ...  4.7  141   5700    39   52  261     50            0       N   \n",
       "1   0  ...  4.7  156   7700    38   55  165     40            4       N   \n",
       "2   0  ...  4.7  139   7400    38   60  230     40            2    mild   \n",
       "3   0  ...  4.4  142  13000    18   72  742     55            0  Severe   \n",
       "4   0  ...  4.0  140   9200    55   39  274     50            0  Severe   \n",
       "\n",
       "     Cath  \n",
       "0     Cad  \n",
       "1     Cad  \n",
       "2     Cad  \n",
       "3  Normal  \n",
       "4  Normal  \n",
       "\n",
       "[5 rows x 56 columns]"
      ]
     },
     "execution_count": 10,
     "metadata": {},
     "output_type": "execute_result"
    }
   ],
   "source": [
    "df.head()"
   ]
  },
  {
   "cell_type": "code",
   "execution_count": 3,
   "metadata": {},
   "outputs": [],
   "source": [
    "cat_ftr = [\"Sex\",'Obesity','CRF', 'CVA','Airway disease','Thyroid Disease', 'CHF', 'DLP',\n",
    "          'Weak Peripheral Pulse', 'Lung rales','Systolic Murmur','Diastolic Murmur','Dyspnea', 'Function Class',\n",
    "          'Atypical', 'Nonanginal', 'Exertional CP', 'LowTH Ang','LVH','Poor R Progression', 'BBB','Region RWMA']\n",
    "bi_ftr = [\"DM\",\"HTN\",\"Current Smoker\",'EX-Smoker','FH','Edema','Typical Chest Pain',\n",
    "         'Q Wave','St Elevation', 'St Depression', 'Tinversion']\n",
    "ord_ftr = [\"VHD\"]\n",
    "cont_ftr = [\"Age\",\"Weight\",\"Length\",\"BMI\",'BP', 'PR','FBS', 'CR', 'TG', 'LDL', 'HDL', 'BUN',\n",
    "       'ESR', 'HB', 'K', 'Na', 'WBC', 'Lymph', 'Neut', 'PLT', 'EF-TTE']"
   ]
  },
  {
   "cell_type": "code",
   "execution_count": 4,
   "metadata": {},
   "outputs": [
    {
     "data": {
      "text/plain": [
       "0         Cad\n",
       "1         Cad\n",
       "2         Cad\n",
       "3      Normal\n",
       "4      Normal\n",
       "        ...  \n",
       "298       Cad\n",
       "299    Normal\n",
       "300    Normal\n",
       "301    Normal\n",
       "302       Cad\n",
       "Name: Cath, Length: 303, dtype: object"
      ]
     },
     "execution_count": 4,
     "metadata": {},
     "output_type": "execute_result"
    }
   ],
   "source": [
    "import pandas as pd\n",
    "import numpy as np\n",
    "df = pd.read_csv('Z_sani.csv')\n",
    "X = df.drop('Cath', axis=1)\n",
    "y = df['Cath']\n",
    "y"
   ]
  },
  {
   "cell_type": "code",
   "execution_count": 5,
   "metadata": {},
   "outputs": [
    {
     "data": {
      "text/plain": [
       "0      1\n",
       "1      1\n",
       "2      1\n",
       "3      0\n",
       "4      0\n",
       "      ..\n",
       "298    1\n",
       "299    0\n",
       "300    0\n",
       "301    0\n",
       "302    1\n",
       "Name: Cath, Length: 303, dtype: int64"
      ]
     },
     "execution_count": 5,
     "metadata": {},
     "output_type": "execute_result"
    }
   ],
   "source": [
    "from sklearn.preprocessing import LabelEncoder\n",
    "le = LabelEncoder()\n",
    "le.fit([\"Cad\",\"Normal\"])\n",
    "y1 = pd.DataFrame({\"y\":le.transform(y)*-1+1})\n",
    "df['Cath'] = y1\n",
    "y = df['Cath']\n",
    "y"
   ]
  },
  {
   "cell_type": "code",
   "execution_count": 54,
   "metadata": {},
   "outputs": [],
   "source": [
    "from sklearn.model_selection import train_test_split\n",
    "from sklearn.preprocessing import StandardScaler\n",
    "from sklearn.preprocessing import OneHotEncoder\n",
    "from sklearn.preprocessing import OrdinalEncoder\n",
    "import matplotlib.pyplot as plt\n",
    "from sklearn.model_selection import StratifiedKFold\n",
    "from sklearn.linear_model import LogisticRegression\n",
    "from sklearn.metrics import accuracy_score\n",
    "from sklearn.metrics import precision_score, recall_score, fbeta_score\n",
    "from sklearn.metrics import confusion_matrix\n",
    "\n",
    "def logit_pip(X,y,random_state,n_folds):\n",
    "\n",
    "    X_other, X_test, y_other, y_test = train_test_split(X, y, test_size=0.3, random_state = random_state[0])\n",
    "    kf = StratifiedKFold(n_splits=n_folds,shuffle=True,random_state=random_state[1])\n",
    "    CV_scores = []\n",
    "    test_scores = []\n",
    "    pre = []\n",
    "    rec = []\n",
    "    f13 = []\n",
    "    cf = []\n",
    "\n",
    "    for train_index, CV_index in kf.split(X_other,y_other):\n",
    "        X_train, X_CV = X_other.iloc[train_index], X_other.iloc[CV_index]\n",
    "        y_train, y_CV = y_other.iloc[train_index], y_other.iloc[CV_index]\n",
    "\n",
    "        scaler = StandardScaler()\n",
    "        oh = OneHotEncoder(sparse=False,handle_unknown = \"ignore\")\n",
    "        od = OrdinalEncoder(categories = [['N','mild','Moderate','Severe']])\n",
    "        X_train_cont = X_train[cont_ftr]\n",
    "        X_train_cat = X_train[cat_ftr]\n",
    "        X_train_od = X_train[ord_ftr]\n",
    "        X_train_cont = scaler.fit_transform(X_train_cont)\n",
    "        X_train_cat = oh.fit_transform(X_train_cat)\n",
    "        X_train_od = od.fit_transform(X_train_od)\n",
    "        X_train = np.concatenate((X_train_cont,X_train_cat,\n",
    "                                  np.array(X_train[bi_ftr]),X_train_od),axis=1)\n",
    "\n",
    "        X_c_cont = X_CV[cont_ftr]\n",
    "        X_c_cat = X_CV[cat_ftr]\n",
    "        X_c_od = X_CV[ord_ftr]\n",
    "        X_c_cont = scaler.transform(X_c_cont)\n",
    "        X_c_cat = oh.transform(X_c_cat)\n",
    "        X_c_od = od.transform(X_c_od)\n",
    "        X_c = np.concatenate((X_c_cont,X_c_cat,\n",
    "                              np.array(X_CV[bi_ftr]),X_c_od),axis=1)\n",
    "\n",
    "        X_t_cont = X_test[cont_ftr]\n",
    "        X_t_cat = X_test[cat_ftr]\n",
    "        X_t_od = X_test[ord_ftr]\n",
    "        X_t_cont = scaler.transform(X_t_cont)\n",
    "        X_t_cat = oh.transform(X_t_cat)\n",
    "        X_t_od = od.transform(X_t_od)\n",
    "        X_t = np.concatenate((X_t_cont,X_t_cat,\n",
    "                              np.array(X_test[bi_ftr]),X_t_od),axis=1)\n",
    "\n",
    "        cs = np.logspace(1,-3,num=50)\n",
    "        train_score = []\n",
    "        CV_score = []\n",
    "        regs = []\n",
    "        for c in cs:\n",
    "            reg = LogisticRegression(penalty=\"l1\",C=c,solver=\"saga\",max_iter=10**4)\n",
    "            reg.fit(X_train,y_train)\n",
    "            train_score.append(accuracy_score(y_train,reg.predict(X_train)))\n",
    "            CV_score.append(accuracy_score(y_CV,reg.predict(X_c)))\n",
    "            regs.append(reg)\n",
    "        best_c = cs[np.argmax(CV_score)]\n",
    "        reg = regs[np.argmax(CV_score)]\n",
    "        CV_scores.append(np.max(CV_score))\n",
    "        test_scores.append(accuracy_score(y_test,reg.predict(X_t)))\n",
    "        pre.append(precision_score(y_test,reg.predict(X_t)))\n",
    "        rec.append(recall_score(y_test,reg.predict(X_t)))\n",
    "        f13.append(fbeta_score(y_test,reg.predict(X_t),1.3))\n",
    "#     cf.append(confusion_matrix(y,reg.predict(X)))\n",
    "    return (CV_scores,test_scores,pre,rec,f13,best_c)"
   ]
  },
  {
   "cell_type": "code",
   "execution_count": 125,
   "metadata": {},
   "outputs": [
    {
     "data": {
      "text/plain": [
       "array([[0.77251082, 0.09019257],\n",
       "       [0.22748918, 0.90980743]])"
      ]
     },
     "execution_count": 125,
     "metadata": {},
     "output_type": "execute_result"
    }
   ],
   "source": [
    "from sklearn.linear_model import LogisticRegression\n",
    "from sklearn.preprocessing import StandardScaler\n",
    "from sklearn.preprocessing import OneHotEncoder\n",
    "from sklearn.preprocessing import OrdinalEncoder\n",
    "import matplotlib.pyplot as plt\n",
    "from sklearn.model_selection import StratifiedKFold\n",
    "from sklearn.linear_model import LogisticRegression\n",
    "from sklearn.metrics import accuracy_score\n",
    "from sklearn.metrics import precision_score, recall_score, fbeta_score\n",
    "from sklearn.metrics import confusion_matrix\n",
    "import pickle\n",
    "\n",
    "rst = np.array([[0, 0],[0, 0]])\n",
    "for i in range(1,11):\n",
    "    X_other, X_test, y_other, y_test = train_test_split(X, y, test_size=0.3, random_state = 10*i)\n",
    "    scaler = StandardScaler()\n",
    "    oh = OneHotEncoder(sparse=False,handle_unknown = \"ignore\")\n",
    "    od = OrdinalEncoder(categories = [['N','mild','Moderate','Severe']])\n",
    "    X_train_cont = X_other[cont_ftr]\n",
    "    X_train_cat = X_other[cat_ftr]\n",
    "    X_train_od = X_other[ord_ftr]\n",
    "    X_train_cont = scaler.fit_transform(X_train_cont)\n",
    "    X_train_cat = oh.fit_transform(X_train_cat)\n",
    "    X_train_od = od.fit_transform(X_train_od)\n",
    "    X_train = np.concatenate((X_train_cont,X_train_cat,\n",
    "                              np.array(X_other[bi_ftr]),X_train_od),axis=1)\n",
    "    X_t_cont = X_test[cont_ftr]\n",
    "    X_t_cat = X_test[cat_ftr]\n",
    "    X_t_od = X_test[ord_ftr]\n",
    "    X_t_cont = scaler.transform(X_t_cont)\n",
    "    X_t_cat = oh.transform(X_t_cat)\n",
    "    X_t_od = od.transform(X_t_od)\n",
    "    X_t = np.concatenate((X_t_cont,X_t_cat,\n",
    "                          np.array(X_test[bi_ftr]),X_t_od),axis=1)\n",
    "    reg = LogisticRegression(penalty=\"l1\",C=0.7196,solver=\"saga\",max_iter=10**4)\n",
    "    pickle.dump(reg, open(\"logi.sav\", 'wb'))\n",
    "    reg.fit(X_train,y_other)\n",
    "    rst = rst + np.array(confusion_matrix(y_test,reg.predict(X_t))/sum(confusion_matrix(y_test,reg.predict(X_t))))\n",
    "rst/10"
   ]
  },
  {
   "cell_type": "code",
   "execution_count": 55,
   "metadata": {},
   "outputs": [
    {
     "name": "stdout",
     "output_type": "stream",
     "text": [
      "Mean of test accuracy scores: 0.8712087912087911\n",
      "Std of test accuracy scores: 0.02964508490544158\n",
      "Mean of test pre scores: 0.9075312657856559\n",
      "Std of test pre scores: 0.021021791213951573\n",
      "Mean of test rec scores: 0.9154492094016575\n",
      "Std of test rec scores: 0.03328649551064279\n",
      "Mean of test f13 scores: 0.9121292381351221\n",
      "Std of test f13 scores: 0.025215248081666267\n",
      "0.7196856730011522\n"
     ]
    }
   ],
   "source": [
    "ac, pre, rec, f13 = [], [], [], []\n",
    "for i in range(1,6):\n",
    "    op = logit_pip(X,y,[10*i,14*i],10)\n",
    "    ac.append(np.mean(op[1]))\n",
    "    pre.append(np.mean(op[2]))\n",
    "    rec.append(np.mean(op[3]))\n",
    "    f13.append(np.mean(op[4]))\n",
    "print(\"Mean of test accuracy scores: \" + str(np.mean(ac)))\n",
    "print(\"Std of test accuracy scores: \" + str(np.std(ac)))\n",
    "\n",
    "print(\"Mean of test pre scores: \" + str(np.mean(pre)))\n",
    "print(\"Std of test pre scores: \" + str(np.std(pre)))\n",
    "\n",
    "print(\"Mean of test rec scores: \" + str(np.mean(rec)))\n",
    "print(\"Std of test rec scores: \" + str(np.std(rec)))\n",
    "\n",
    "print(\"Mean of test f13 scores: \" + str(np.mean(f13)))\n",
    "print(\"Std of test f13 scores: \" + str(np.std(f13)))\n",
    "\n",
    "print(op[5])"
   ]
  },
  {
   "cell_type": "code",
   "execution_count": 11,
   "metadata": {},
   "outputs": [],
   "source": [
    "from sklearn.model_selection import train_test_split\n",
    "from sklearn.preprocessing import StandardScaler\n",
    "from sklearn.preprocessing import OneHotEncoder\n",
    "from sklearn.preprocessing import OrdinalEncoder\n",
    "import matplotlib.pyplot as plt\n",
    "from sklearn.model_selection import StratifiedKFold\n",
    "from sklearn.ensemble import RandomForestClassifier\n",
    "from sklearn.metrics import accuracy_score\n",
    "\n",
    "def rf_pip(X,y,random_state,n_folds):\n",
    "    \n",
    "    X_other, X_test, y_other, y_test = train_test_split(X, y, test_size=0.3, random_state = random_state[0])\n",
    "    kf = StratifiedKFold(n_splits=n_folds,shuffle=True,random_state=random_state[1])\n",
    "    CV_scores = []\n",
    "    test_scores = []\n",
    "    pre = []\n",
    "    rec = []\n",
    "    f13 = []\n",
    "    cf = []\n",
    "    \n",
    "    for train_index, CV_index in kf.split(X_other,y_other):\n",
    "        X_train, X_CV = X_other.iloc[train_index], X_other.iloc[CV_index]\n",
    "        y_train, y_CV = y_other.iloc[train_index], y_other.iloc[CV_index]\n",
    "\n",
    "        scaler = StandardScaler()\n",
    "        oh = OneHotEncoder(sparse=False,handle_unknown = \"ignore\")\n",
    "        od = OrdinalEncoder(categories = [['N','mild','Moderate','Severe']])\n",
    "        X_train_cont = X_train[cont_ftr]\n",
    "        X_train_cat = X_train[cat_ftr]\n",
    "        X_train_od = X_train[ord_ftr]\n",
    "        X_train_cont = scaler.fit_transform(X_train_cont)\n",
    "        X_train_cat = oh.fit_transform(X_train_cat)\n",
    "        X_train_od = od.fit_transform(X_train_od)\n",
    "        X_train = np.concatenate((X_train_cont,X_train_cat,\n",
    "                                  np.array(X_train[bi_ftr]),X_train_od),axis=1)\n",
    "\n",
    "        X_c_cont = X_CV[cont_ftr]\n",
    "        X_c_cat = X_CV[cat_ftr]\n",
    "        X_c_od = X_CV[ord_ftr]\n",
    "        X_c_cont = scaler.transform(X_c_cont)\n",
    "        X_c_cat = oh.transform(X_c_cat)\n",
    "        X_c_od = od.transform(X_c_od)\n",
    "        X_c = np.concatenate((X_c_cont,X_c_cat,\n",
    "                              np.array(X_CV[bi_ftr]),X_c_od),axis=1)\n",
    "\n",
    "        X_t_cont = X_test[cont_ftr]\n",
    "        X_t_cat = X_test[cat_ftr]\n",
    "        X_t_od = X_test[ord_ftr]\n",
    "        X_t_cont = scaler.transform(X_t_cont)\n",
    "        X_t_cat = oh.transform(X_t_cat)\n",
    "        X_t_od = od.transform(X_t_od)\n",
    "        X_t = np.concatenate((X_t_cont,X_t_cat,\n",
    "                              np.array(X_test[bi_ftr]),X_t_od),axis=1)\n",
    "\n",
    "        train_score = []\n",
    "        CV_score = []\n",
    "        regs = []\n",
    "        par = range(2,11)\n",
    "        par_ls = []\n",
    "        for i in par:\n",
    "            for j in par:\n",
    "                reg = RandomForestClassifier(random_state = random_state[2], max_depth=i, \n",
    "                                             1=j,n_estimators = 50)\n",
    "                reg.fit(X_train,y_train)\n",
    "                train_score.append(accuracy_score(y_train,reg.predict(X_train)))\n",
    "                CV_score.append(accuracy_score(y_CV,reg.predict(X_c)))\n",
    "                regs.append(reg)\n",
    "        best_par = (par[np.argmax(CV_score)//len(par)],par[np.argmin(CV_score)%len(par)])\n",
    "        reg = regs[np.argmax(CV_score)]\n",
    "        CV_scores.append(np.max(CV_score))\n",
    "        test_scores.append(accuracy_score(y_test,reg.predict(X_t)))\n",
    "        pre.append(precision_score(y_test,reg.predict(X_t)))\n",
    "        rec.append(recall_score(y_test,reg.predict(X_t)))\n",
    "        f13.append(fbeta_score(y_test,reg.predict(X_t),1.3))\n",
    "#     cf.append(confusion_matrix(y,reg.predict(X)))\n",
    "    return (CV_scores,test_scores,pre,rec,f13,best_par)"
   ]
  },
  {
   "cell_type": "code",
   "execution_count": 12,
   "metadata": {},
   "outputs": [
    {
     "name": "stdout",
     "output_type": "stream",
     "text": [
      "Mean of test accuracy scores: 0.8529670329670329\n",
      "Std of test accuracy scores: 0.03738460892429093\n",
      "Mean of test pre scores: 0.8627126522312144\n",
      "Std of test pre scores: 0.032638098990344366\n",
      "Mean of test rec scores: 0.9481058404217496\n",
      "Std of test rec scores: 0.024651559000567664\n",
      "Mean of test f13 scores: 0.9140520463816664\n",
      "Std of test f13 scores: 0.0262678079402074\n",
      "(6, 2)\n"
     ]
    }
   ],
   "source": [
    "ac, pre, rec, f13 = [], [], [], []\n",
    "for i in range(1,6):\n",
    "    op = rf_pip(X,y,[10*i,14*i,96*i],10)\n",
    "    ac.append(np.mean(op[1]))\n",
    "    pre.append(np.mean(op[2]))\n",
    "    rec.append(np.mean(op[3]))\n",
    "    f13.append(np.mean(op[4]))\n",
    "print(\"Mean of test accuracy scores: \" + str(np.mean(ac)))\n",
    "print(\"Std of test accuracy scores: \" + str(np.std(ac)))\n",
    "\n",
    "print(\"Mean of test pre scores: \" + str(np.mean(pre)))\n",
    "print(\"Std of test pre scores: \" + str(np.std(pre)))\n",
    "\n",
    "print(\"Mean of test rec scores: \" + str(np.mean(rec)))\n",
    "print(\"Std of test rec scores: \" + str(np.std(rec)))\n",
    "\n",
    "print(\"Mean of test f13 scores: \" + str(np.mean(f13)))\n",
    "print(\"Std of test f13 scores: \" + str(np.std(f13)))\n",
    "\n",
    "print(op[5])"
   ]
  },
  {
   "cell_type": "code",
   "execution_count": 124,
   "metadata": {},
   "outputs": [
    {
     "data": {
      "text/plain": [
       "array([[0.80682802, 0.13356805],\n",
       "       [0.19317198, 0.86643195]])"
      ]
     },
     "execution_count": 124,
     "metadata": {},
     "output_type": "execute_result"
    }
   ],
   "source": [
    "from sklearn.ensemble import RandomForestClassifier\n",
    "\n",
    "rst = np.array([[0, 0],[0, 0]])\n",
    "for i in range(1,11):\n",
    "    X_other, X_test, y_other, y_test = train_test_split(X, y, test_size=0.3, random_state = 10*i)\n",
    "    scaler = StandardScaler()\n",
    "    oh = OneHotEncoder(sparse=False,handle_unknown = \"ignore\")\n",
    "    od = OrdinalEncoder(categories = [['N','mild','Moderate','Severe']])\n",
    "    X_train_cont = X_other[cont_ftr]\n",
    "    X_train_cat = X_other[cat_ftr]\n",
    "    X_train_od = X_other[ord_ftr]\n",
    "    X_train_cont = scaler.fit_transform(X_train_cont)\n",
    "    X_train_cat = oh.fit_transform(X_train_cat)\n",
    "    X_train_od = od.fit_transform(X_train_od)\n",
    "    X_train = np.concatenate((X_train_cont,X_train_cat,\n",
    "                              np.array(X_other[bi_ftr]),X_train_od),axis=1)\n",
    "    X_t_cont = X_test[cont_ftr]\n",
    "    X_t_cat = X_test[cat_ftr]\n",
    "    X_t_od = X_test[ord_ftr]\n",
    "    X_t_cont = scaler.transform(X_t_cont)\n",
    "    X_t_cat = oh.transform(X_t_cat)\n",
    "    X_t_od = od.transform(X_t_od)\n",
    "    X_t = np.concatenate((X_t_cont,X_t_cat,\n",
    "                          np.array(X_test[bi_ftr]),X_t_od),axis=1)\n",
    "    reg = RandomForestClassifier(random_state = 14, max_depth=6, \n",
    "                                             min_samples_split=2,n_estimators = 50)\n",
    "    pickle.dump(reg, open(\"rf.sav\", 'wb'))\n",
    "    reg.fit(X_train,y_other)\n",
    "    rst = rst + np.array(confusion_matrix(y_test,reg.predict(X_t))/sum(confusion_matrix(y_test,reg.predict(X_t))))\n",
    "rst/10"
   ]
  },
  {
   "cell_type": "code",
   "execution_count": 62,
   "metadata": {},
   "outputs": [],
   "source": [
    "from sklearn.model_selection import train_test_split\n",
    "from sklearn.preprocessing import StandardScaler\n",
    "from sklearn.preprocessing import OneHotEncoder\n",
    "from sklearn.preprocessing import OrdinalEncoder\n",
    "import matplotlib.pyplot as plt\n",
    "from sklearn.model_selection import StratifiedKFold\n",
    "from sklearn import svm\n",
    "from sklearn.metrics import accuracy_score\n",
    "\n",
    "def svm_pip(X,y,random_state,n_folds):\n",
    "    \n",
    "    X_other, X_test, y_other, y_test = train_test_split(X, y, test_size=0.3, random_state = random_state[0])\n",
    "    kf = StratifiedKFold(n_splits=n_folds,shuffle=True,random_state=random_state[1])\n",
    "    CV_scores = []\n",
    "    test_scores = []\n",
    "    pre = []\n",
    "    rec = []\n",
    "    f13 = []\n",
    "    cf = []\n",
    "    \n",
    "    for train_index, CV_index in kf.split(X_other,y_other):\n",
    "        X_train, X_CV = X_other.iloc[train_index], X_other.iloc[CV_index]\n",
    "        y_train, y_CV = y_other.iloc[train_index], y_other.iloc[CV_index]\n",
    "\n",
    "        scaler = StandardScaler()\n",
    "        oh = OneHotEncoder(sparse=False,handle_unknown = \"ignore\")\n",
    "        od = OrdinalEncoder(categories = [['N','mild','Moderate','Severe']])\n",
    "        X_train_cont = X_train[cont_ftr]\n",
    "        X_train_cat = X_train[cat_ftr]\n",
    "        X_train_od = X_train[ord_ftr]\n",
    "        X_train_cont = scaler.fit_transform(X_train_cont)\n",
    "        X_train_cat = oh.fit_transform(X_train_cat)\n",
    "        X_train_od = od.fit_transform(X_train_od)\n",
    "        X_train = np.concatenate((X_train_cont,X_train_cat,\n",
    "                                  np.array(X_train[bi_ftr]),X_train_od),axis=1)\n",
    "\n",
    "        X_c_cont = X_CV[cont_ftr]\n",
    "        X_c_cat = X_CV[cat_ftr]\n",
    "        X_c_od = X_CV[ord_ftr]\n",
    "        X_c_cont = scaler.transform(X_c_cont)\n",
    "        X_c_cat = oh.transform(X_c_cat)\n",
    "        X_c_od = od.transform(X_c_od)\n",
    "        X_c = np.concatenate((X_c_cont,X_c_cat,\n",
    "                              np.array(X_CV[bi_ftr]),X_c_od),axis=1)\n",
    "\n",
    "        X_t_cont = X_test[cont_ftr]\n",
    "        X_t_cat = X_test[cat_ftr]\n",
    "        X_t_od = X_test[ord_ftr]\n",
    "        X_t_cont = scaler.transform(X_t_cont)\n",
    "        X_t_cat = oh.transform(X_t_cat)\n",
    "        X_t_od = od.transform(X_t_od)\n",
    "        X_t = np.concatenate((X_t_cont,X_t_cat,\n",
    "                              np.array(X_test[bi_ftr]),X_t_od),axis=1)\n",
    "\n",
    "        train_score = []\n",
    "        CV_score = []\n",
    "        regs = []\n",
    "        par = np.logspace(6,-2,num=55)\n",
    "        for i in par:\n",
    "            for j in par:\n",
    "                reg = svm.SVC(C=i, gamma=j)\n",
    "                reg.fit(X_train,y_train)\n",
    "                train_score.append(accuracy_score(y_train,reg.predict(X_train)))\n",
    "                CV_score.append(accuracy_score(y_CV,reg.predict(X_c)))\n",
    "                regs.append(reg)\n",
    "        best_par = (par[np.argmax(CV_score)//len(par)],par[np.argmin(CV_score)%len(par)])\n",
    "        reg = regs[np.argmax(CV_score)]\n",
    "        CV_scores.append(np.max(CV_score))\n",
    "        test_scores.append(accuracy_score(y_test,reg.predict(X_t)))\n",
    "        pre.append(precision_score(y_test,reg.predict(X_t)))\n",
    "        rec.append(recall_score(y_test,reg.predict(X_t)))\n",
    "        f13.append(fbeta_score(y_test,reg.predict(X_t),1.3))\n",
    "#     cf.append(confusion_matrix(y,reg.predict(X)))\n",
    "    return (CV_scores,test_scores,pre,rec,f13,best_par)"
   ]
  },
  {
   "cell_type": "code",
   "execution_count": 63,
   "metadata": {},
   "outputs": [
    {
     "name": "stdout",
     "output_type": "stream",
     "text": [
      "Mean of test accuracy scores: 0.8468131868131868\n",
      "Std of test accuracy scores: 0.04145406858145874\n",
      "Mean of test pre scores: 0.8788956205180259\n",
      "Std of test pre scores: 0.03676566027103305\n",
      "Mean of test rec scores: 0.9184276291626476\n",
      "Std of test rec scores: 0.030045370548996923\n",
      "Mean of test f13 scores: 0.9021060866759167\n",
      "Std of test f13 scores: 0.028137773642411375\n",
      "(1.6681005372000592, 1000000.0)\n"
     ]
    }
   ],
   "source": [
    "ac, pre, rec, f13 = [], [], [], []\n",
    "for i in range(1,6):\n",
    "    op = svm_pip(X,y,[10*i,14*i,96*i],10)\n",
    "    ac.append(np.mean(op[1]))\n",
    "    pre.append(np.mean(op[2]))\n",
    "    rec.append(np.mean(op[3]))\n",
    "    f13.append(np.mean(op[4]))\n",
    "print(\"Mean of test accuracy scores: \" + str(np.mean(ac)))\n",
    "print(\"Std of test accuracy scores: \" + str(np.std(ac)))\n",
    "\n",
    "print(\"Mean of test pre scores: \" + str(np.mean(pre)))\n",
    "print(\"Std of test pre scores: \" + str(np.std(pre)))\n",
    "\n",
    "print(\"Mean of test rec scores: \" + str(np.mean(rec)))\n",
    "print(\"Std of test rec scores: \" + str(np.std(rec)))\n",
    "\n",
    "print(\"Mean of test f13 scores: \" + str(np.mean(f13)))\n",
    "print(\"Std of test f13 scores: \" + str(np.std(f13)))\n",
    "\n",
    "print(op[5])"
   ]
  },
  {
   "cell_type": "code",
   "execution_count": 128,
   "metadata": {},
   "outputs": [
    {
     "name": "stdout",
     "output_type": "stream",
     "text": [
      "(91, 82)\n",
      "(91, 80)\n",
      "(91, 82)\n",
      "(91, 82)\n",
      "(91, 81)\n",
      "(91, 81)\n",
      "(91, 82)\n",
      "(91, 82)\n",
      "(91, 82)\n",
      "(91, 82)\n"
     ]
    },
    {
     "data": {
      "text/plain": [
       "array([[0.74809808, 0.10061025],\n",
       "       [0.25190192, 0.89938975]])"
      ]
     },
     "execution_count": 128,
     "metadata": {},
     "output_type": "execute_result"
    }
   ],
   "source": [
    "from sklearn import svm\n",
    "\n",
    "rst = np.array([[0, 0],[0, 0]])\n",
    "for i in range(1,11):\n",
    "    X_other, X_test, y_other, y_test = train_test_split(X, y, test_size=0.3, random_state = 10*i)\n",
    "    scaler = StandardScaler()\n",
    "    oh = OneHotEncoder(sparse=False,handle_unknown = \"ignore\")\n",
    "    od = OrdinalEncoder(categories = [['N','mild','Moderate','Severe']])\n",
    "    X_train_cont = X_other[cont_ftr]\n",
    "    X_train_cat = X_other[cat_ftr]\n",
    "    X_train_od = X_other[ord_ftr]\n",
    "    X_train_cont = scaler.fit_transform(X_train_cont)\n",
    "    X_train_cat = oh.fit_transform(X_train_cat)\n",
    "    X_train_od = od.fit_transform(X_train_od)\n",
    "    X_train = np.concatenate((X_train_cont,X_train_cat,\n",
    "                              np.array(X_other[bi_ftr]),X_train_od),axis=1)\n",
    "    X_t_cont = X_test[cont_ftr]\n",
    "    X_t_cat = X_test[cat_ftr]\n",
    "    X_t_od = X_test[ord_ftr]\n",
    "    X_t_cont = scaler.transform(X_t_cont)\n",
    "    X_t_cat = oh.transform(X_t_cat)\n",
    "    X_t_od = od.transform(X_t_od)\n",
    "    X_t = np.concatenate((X_t_cont,X_t_cat,\n",
    "                          np.array(X_test[bi_ftr]),X_t_od),axis=1)\n",
    "    print(X_t.shape)\n",
    "    reg = svm.SVC(C=1567, gamma=.015632)\n",
    "    pickle.dump(reg, open(\"svm.sav\", 'wb'))\n",
    "    reg.fit(X_train,y_other)\n",
    "    rst = rst + np.array( confusion_matrix(y_test,reg.predict(X_t)) /sum(confusion_matrix(y_test,reg.predict(X_t))))\n",
    "rst/10"
   ]
  },
  {
   "cell_type": "code",
   "execution_count": 64,
   "metadata": {},
   "outputs": [],
   "source": [
    "from sklearn.model_selection import train_test_split\n",
    "from sklearn.preprocessing import StandardScaler\n",
    "from sklearn.preprocessing import OneHotEncoder\n",
    "from sklearn.preprocessing import OrdinalEncoder\n",
    "import matplotlib.pyplot as plt\n",
    "from sklearn.model_selection import StratifiedKFold\n",
    "from sklearn.metrics import accuracy_score\n",
    "from sklearn.neighbors import KNeighborsClassifier\n",
    "\n",
    "def knn_pip(X,y,random_state,n_folds):\n",
    "    \n",
    "    X_other, X_test, y_other, y_test = train_test_split(X, y, test_size=0.3, random_state = random_state[0])\n",
    "    kf = StratifiedKFold(n_splits=n_folds,shuffle=True,random_state=random_state[1])\n",
    "    CV_scores = []\n",
    "    test_scores = []\n",
    "    pre = []\n",
    "    rec = []\n",
    "    f13 = []\n",
    "    cf = []\n",
    "    \n",
    "    for train_index, CV_index in kf.split(X_other,y_other):\n",
    "        X_train, X_CV = X_other.iloc[train_index], X_other.iloc[CV_index]\n",
    "        y_train, y_CV = y_other.iloc[train_index], y_other.iloc[CV_index]\n",
    "\n",
    "        scaler = StandardScaler()\n",
    "        oh = OneHotEncoder(sparse=False,handle_unknown = \"ignore\")\n",
    "        od = OrdinalEncoder(categories = [['N','mild','Moderate','Severe']])\n",
    "        X_train_cont = X_train[cont_ftr]\n",
    "        X_train_cat = X_train[cat_ftr]\n",
    "        X_train_od = X_train[ord_ftr]\n",
    "        X_train_cont = scaler.fit_transform(X_train_cont)\n",
    "        X_train_cat = oh.fit_transform(X_train_cat)\n",
    "        X_train_od = od.fit_transform(X_train_od)\n",
    "        X_train = np.concatenate((X_train_cont,X_train_cat,\n",
    "                                  np.array(X_train[bi_ftr]),X_train_od),axis=1)\n",
    "\n",
    "        X_c_cont = X_CV[cont_ftr]\n",
    "        X_c_cat = X_CV[cat_ftr]\n",
    "        X_c_od = X_CV[ord_ftr]\n",
    "        X_c_cont = scaler.transform(X_c_cont)\n",
    "        X_c_cat = oh.transform(X_c_cat)\n",
    "        X_c_od = od.transform(X_c_od)\n",
    "        X_c = np.concatenate((X_c_cont,X_c_cat,\n",
    "                              np.array(X_CV[bi_ftr]),X_c_od),axis=1)\n",
    "\n",
    "        X_t_cont = X_test[cont_ftr]\n",
    "        X_t_cat = X_test[cat_ftr]\n",
    "        X_t_od = X_test[ord_ftr]\n",
    "        X_t_cont = scaler.transform(X_t_cont)\n",
    "        X_t_cat = oh.transform(X_t_cat)\n",
    "        X_t_od = od.transform(X_t_od)\n",
    "        X_t = np.concatenate((X_t_cont,X_t_cat,\n",
    "                              np.array(X_test[bi_ftr]),X_t_od),axis=1)\n",
    "\n",
    "        train_score = []\n",
    "        CV_score = []\n",
    "        regs = []\n",
    "        par = range(3,15)\n",
    "        for i in par:\n",
    "            for j in par:\n",
    "                reg = KNeighborsClassifier(l=i, weights='distance',p=j)\n",
    "                reg.fit(X_train,y_train)\n",
    "                train_score.append(accuracy_score(y_train,reg.predict(X_train)))\n",
    "                CV_score.append(accuracy_score(y_CV,reg.predict(X_c)))\n",
    "                regs.append(reg)\n",
    "        best_par = (par[np.argmax(CV_score)//len(par)],par[np.argmin(CV_score)%len(par)])\n",
    "        reg = regs[np.argmax(CV_score)]\n",
    "        CV_scores.append(np.max(CV_score))\n",
    "        test_scores.append(accuracy_score(y_test,reg.predict(X_t)))\n",
    "        pre.append(precision_score(y_test,reg.predict(X_t)))\n",
    "        rec.append(recall_score(y_test,reg.predict(X_t)))\n",
    "        f13.append(fbeta_score(y_test,reg.predict(X_t),1.3))\n",
    "#     cf.append(confusion_matrix(y,reg.predict(X)))\n",
    "    return (CV_scores,test_scores,pre,rec,f13,best_par)"
   ]
  },
  {
   "cell_type": "code",
   "execution_count": 65,
   "metadata": {},
   "outputs": [
    {
     "name": "stdout",
     "output_type": "stream",
     "text": [
      "Mean of test accuracy scores: 0.7538461538461538\n",
      "Std of test accuracy scores: 0.03094143335451086\n",
      "Mean of test pre scores: 0.8033191959815273\n",
      "Std of test pre scores: 0.04699947984213723\n",
      "Mean of test rec scores: 0.879563580269785\n",
      "Std of test rec scores: 0.01466150703880407\n",
      "Mean of test f13 scores: 0.8479388098180582\n",
      "Std of test f13 scores: 0.015656154407450853\n",
      "(3, 13)\n"
     ]
    }
   ],
   "source": [
    "ac, pre, rec, f13 = [], [], [], []\n",
    "for i in range(1,6):\n",
    "    op = knn_pip(X,y,[10*i,14*i,96*i],10)\n",
    "    ac.append(np.mean(op[1]))\n",
    "    pre.append(np.mean(op[2]))\n",
    "    rec.append(np.mean(op[3]))\n",
    "    f13.append(np.mean(op[4]))\n",
    "print(\"Mean of test accuracy scores: \" + str(np.mean(ac)))\n",
    "print(\"Std of test accuracy scores: \" + str(np.std(ac)))\n",
    "\n",
    "print(\"Mean of test pre scores: \" + str(np.mean(pre)))\n",
    "print(\"Std of test pre scores: \" + str(np.std(pre)))\n",
    "\n",
    "print(\"Mean of test rec scores: \" + str(np.mean(rec)))\n",
    "print(\"Std of test rec scores: \" + str(np.std(rec)))\n",
    "\n",
    "print(\"Mean of test f13 scores: \" + str(np.mean(f13)))\n",
    "print(\"Std of test f13 scores: \" + str(np.std(f13)))\n",
    "\n",
    "print(op[5])"
   ]
  },
  {
   "cell_type": "code",
   "execution_count": 110,
   "metadata": {},
   "outputs": [
    {
     "data": {
      "text/plain": [
       "array([[0.40148148, 0.26588536],\n",
       "       [0.59851852, 0.73411464]])"
      ]
     },
     "execution_count": 110,
     "metadata": {},
     "output_type": "execute_result"
    }
   ],
   "source": [
    "from sklearn.neighbors import KNeighborsClassifier\n",
    "\n",
    "rst = np.array([[0, 0],[0, 0]])\n",
    "for i in range(1,6):\n",
    "    X_other, X_test, y_other, y_test = train_test_split(X, y, test_size=0.3, random_state = 14*i)\n",
    "    scaler = StandardScaler()\n",
    "    oh = OneHotEncoder(sparse=False,handle_unknown = \"ignore\")\n",
    "    od = OrdinalEncoder(categories = [['N','mild','Moderate','Severe']])\n",
    "    X_train_cont = X_other[cont_ftr]\n",
    "    X_train_cat = X_other[cat_ftr]\n",
    "    X_train_od = X_other[ord_ftr]\n",
    "    X_train_cont = scaler.fit_transform(X_train_cont)\n",
    "    X_train_cat = oh.fit_transform(X_train_cat)\n",
    "    X_train_od = od.fit_transform(X_train_od)\n",
    "    X_train = np.concatenate((X_train_cont,X_train_cat,\n",
    "                              np.array(X_other[bi_ftr]),X_train_od),axis=1)\n",
    "    X_t_cont = X_test[cont_ftr]\n",
    "    X_t_cat = X_test[cat_ftr]\n",
    "    X_t_od = X_test[ord_ftr]\n",
    "    X_t_cont = scaler.transform(X_t_cont)\n",
    "    X_t_cat = oh.transform(X_t_cat)\n",
    "    X_t_od = od.transform(X_t_od)\n",
    "    X_t = np.concatenate((X_t_cont,X_t_cat,\n",
    "                          np.array(X_test[bi_ftr]),X_t_od),axis=1)\n",
    "    reg = KNeighborsClassifier(n_neighbors=3, weights='distance',p=13)\n",
    "    pickle.dump(reg, open(\"knn.sav\", 'wb'))\n",
    "    reg.fit(X_train,y_other)\n",
    "    rst = rst + np.array(confusion_matrix(y_test,reg.predict(X_t))/sum(confusion_matrix(y_test,reg.predict(X_t))))\n",
    "rst/5"
   ]
  },
  {
   "cell_type": "code",
   "execution_count": 6,
   "metadata": {},
   "outputs": [],
   "source": [
    "from sklearn.model_selection import train_test_split\n",
    "from sklearn.preprocessing import StandardScaler\n",
    "from sklearn.preprocessing import OneHotEncoder\n",
    "from sklearn.preprocessing import OrdinalEncoder\n",
    "import matplotlib.pyplot as plt\n",
    "from sklearn.model_selection import StratifiedKFold\n",
    "from sklearn.metrics import accuracy_score\n",
    "from sklearn.ensemble import AdaBoostClassifier\n",
    "from sklearn.tree import DecisionTreeClassifier\n",
    "from sklearn.metrics import precision_score, recall_score, fbeta_score\n",
    "from sklearn.metrics import confusion_matrix\n",
    "\n",
    "def ada_pip(X,y,random_state,n_folds):\n",
    "    \n",
    "    X_other, X_test, y_other, y_test = train_test_split(X, y, test_size=0.3, random_state = random_state[0])\n",
    "    kf = StratifiedKFold(n_splits=n_folds,shuffle=True,random_state=random_state[1])\n",
    "    CV_scores = []\n",
    "    test_scores = []\n",
    "    pre = []\n",
    "    rec = []\n",
    "    f13 = []\n",
    "    cf = []\n",
    "    \n",
    "    for train_index, CV_index in kf.split(X_other,y_other):\n",
    "        X_train, X_CV = X_other.iloc[train_index], X_other.iloc[CV_index]\n",
    "        y_train, y_CV = y_other.iloc[train_index], y_other.iloc[CV_index]\n",
    "\n",
    "        scaler = StandardScaler()\n",
    "        oh = OneHotEncoder(sparse=False,handle_unknown = \"ignore\")\n",
    "        od = OrdinalEncoder(categories = [['N','mild','Moderate','Severe']])\n",
    "        X_train_cont = X_train[cont_ftr]\n",
    "        X_train_cat = X_train[cat_ftr]\n",
    "        X_train_od = X_train[ord_ftr]\n",
    "        X_train_cont = scaler.fit_transform(X_train_cont)\n",
    "        X_train_cat = oh.fit_transform(X_train_cat)\n",
    "        X_train_od = od.fit_transform(X_train_od)\n",
    "        X_train = np.concatenate((X_train_cont,X_train_cat,\n",
    "                                  np.array(X_train[bi_ftr]),X_train_od),axis=1)\n",
    "\n",
    "        X_c_cont = X_CV[cont_ftr]\n",
    "        X_c_cat = X_CV[cat_ftr]\n",
    "        X_c_od = X_CV[ord_ftr]\n",
    "        X_c_cont = scaler.transform(X_c_cont)\n",
    "        X_c_cat = oh.transform(X_c_cat)\n",
    "        X_c_od = od.transform(X_c_od)\n",
    "        X_c = np.concatenate((X_c_cont,X_c_cat,\n",
    "                              np.array(X_CV[bi_ftr]),X_c_od),axis=1)\n",
    "\n",
    "        X_t_cont = X_test[cont_ftr]\n",
    "        X_t_cat = X_test[cat_ftr]\n",
    "        X_t_od = X_test[ord_ftr]\n",
    "        X_t_cont = scaler.transform(X_t_cont)\n",
    "        X_t_cat = oh.transform(X_t_cat)\n",
    "        X_t_od = od.transform(X_t_od)\n",
    "        X_t = np.concatenate((X_t_cont,X_t_cat,\n",
    "                              np.array(X_test[bi_ftr]),X_t_od),axis=1)\n",
    "\n",
    "        train_score = []\n",
    "        CV_score = []\n",
    "        regs = []\n",
    "        par1 = range(1,15)\n",
    "        par2 = np.logspace(1,-4,num=25)\n",
    "        for i in par1:\n",
    "            for j in par2:\n",
    "                reg = AdaBoostClassifier(base_estimator=DecisionTreeClassifier(max_depth=i),learning_rate=j,\n",
    "                                         n_estimators=100, random_state=random_state[2])\n",
    "                reg.fit(X_train,y_train)\n",
    "                train_score.append(accuracy_score(y_train,reg.predict(X_train)))\n",
    "                CV_score.append(accuracy_score(y_CV,reg.predict(X_c)))\n",
    "                regs.append(reg)\n",
    "        best_par = (par1[np.argmax(CV_score)//(len(par1))],\n",
    "                   par2[np.argmax(CV_score)%(len(par1))])\n",
    "        reg = regs[np.argmax(CV_score)]\n",
    "        CV_scores.append(np.max(CV_score))\n",
    "        test_scores.append(accuracy_score(y_test,reg.predict(X_t)))\n",
    "        pre.append(precision_score(y_test,reg.predict(X_t)))\n",
    "        rec.append(recall_score(y_test,reg.predict(X_t)))\n",
    "        f13.append(fbeta_score(y_test,reg.predict(X_t),1.3))\n",
    "#     cf.append(confusion_matrix(y,reg.predict(X)))\n",
    "    return (CV_scores,test_scores,pre,rec,f13,best_par)"
   ]
  },
  {
   "cell_type": "code",
   "execution_count": 7,
   "metadata": {},
   "outputs": [
    {
     "name": "stdout",
     "output_type": "stream",
     "text": [
      "Mean of test accuracy scores: 0.82\n",
      "Std of test accuracy scores: 0.0278557881630855\n",
      "Mean of test pre scores: 0.8771587833890326\n",
      "Std of test pre scores: 0.017326820039221192\n",
      "Mean of test rec scores: 0.8762407603576724\n",
      "Std of test rec scores: 0.036218198118151294\n",
      "Mean of test f13 scores: 0.8752367391458545\n",
      "Std of test f13 scores: 0.024654969591772012\n",
      "(6, 0.019573417814876596)\n"
     ]
    }
   ],
   "source": [
    "ac, pre, rec, f13 = [], [], [], []\n",
    "for i in range(1,6):\n",
    "    op = ada_pip(X,y,[10*i,14*i,96*i],10)\n",
    "    ac.append(np.mean(op[1]))\n",
    "    pre.append(np.mean(op[2]))\n",
    "    rec.append(np.mean(op[3]))\n",
    "    f13.append(np.mean(op[4]))\n",
    "print(\"Mean of test accuracy scores: \" + str(np.mean(ac)))\n",
    "print(\"Std of test accuracy scores: \" + str(np.std(ac)))\n",
    "\n",
    "print(\"Mean of test pre scores: \" + str(np.mean(pre)))\n",
    "print(\"Std of test pre scores: \" + str(np.std(pre)))\n",
    "\n",
    "print(\"Mean of test rec scores: \" + str(np.mean(rec)))\n",
    "print(\"Std of test rec scores: \" + str(np.std(rec)))\n",
    "\n",
    "print(\"Mean of test f13 scores: \" + str(np.mean(f13)))\n",
    "print(\"Std of test f13 scores: \" + str(np.std(f13)))\n",
    "\n",
    "print(op[5])"
   ]
  },
  {
   "cell_type": "code",
   "execution_count": 109,
   "metadata": {},
   "outputs": [
    {
     "data": {
      "text/plain": [
       "array([[0.69959262, 0.15102953],\n",
       "       [0.30040738, 0.84897047]])"
      ]
     },
     "execution_count": 109,
     "metadata": {},
     "output_type": "execute_result"
    }
   ],
   "source": [
    "from sklearn.ensemble import AdaBoostClassifier\n",
    "from sklearn.tree import DecisionTreeClassifier\n",
    "\n",
    "rst = np.array([[0, 0],[0, 0]])\n",
    "for i in range(1,11):\n",
    "    X_other, X_test, y_other, y_test = train_test_split(X, y, test_size=0.3, random_state = 14*i)\n",
    "    scaler = StandardScaler()\n",
    "    oh = OneHotEncoder(sparse=False,handle_unknown = \"ignore\")\n",
    "    od = OrdinalEncoder(categories = [['N','mild','Moderate','Severe']])\n",
    "    X_train_cont = X_other[cont_ftr]\n",
    "    X_train_cat = X_other[cat_ftr]\n",
    "    X_train_od = X_other[ord_ftr]\n",
    "    X_train_cont = scaler.fit_transform(X_train_cont)\n",
    "    X_train_cat = oh.fit_transform(X_train_cat)\n",
    "    X_train_od = od.fit_transform(X_train_od)\n",
    "    X_train = np.concatenate((X_train_cont,X_train_cat,\n",
    "                              np.array(X_other[bi_ftr]),X_train_od),axis=1)\n",
    "    X_t_cont = X_test[cont_ftr]\n",
    "    X_t_cat = X_test[cat_ftr]\n",
    "    X_t_od = X_test[ord_ftr]\n",
    "    X_t_cont = scaler.transform(X_t_cont)\n",
    "    X_t_cat = oh.transform(X_t_cat)\n",
    "    X_t_od = od.transform(X_t_od)\n",
    "    X_t = np.concatenate((X_t_cont,X_t_cat,\n",
    "                          np.array(X_test[bi_ftr]),X_t_od),axis=1)\n",
    "    reg = AdaBoostClassifier(base_estimator=DecisionTreeClassifier(max_depth=6),learning_rate=0.1957,\n",
    "                                         n_estimators=100, random_state=16*i)\n",
    "    pickle.dump(reg, open(\"ada.sav\", 'wb'))\n",
    "    reg.fit(X_train,y_other)\n",
    "    rst = rst + np.array(confusion_matrix(y_test,reg.predict(X_t))/sum(confusion_matrix(y_test,reg.predict(X_t))))\n",
    "rst/10"
   ]
  },
  {
   "cell_type": "code",
   "execution_count": null,
   "metadata": {},
   "outputs": [],
   "source": [
    "from sklearn.model_selection import train_test_split\n",
    "from sklearn.preprocessing import StandardScaler\n",
    "from sklearn.preprocessing import OneHotEncoder\n",
    "from sklearn.preprocessing import OrdinalEncoder\n",
    "import matplotlib.pyplot as plt\n",
    "from sklearn.model_selection import StratifiedKFold\n",
    "from sklearn.metrics import accuracy_score\n",
    "from sklearn.metrics import precision_score, recall_score, fbeta_score\n",
    "from sklearn.ensemble import GradientBoostingClassifier\n",
    "\n",
    "def xg_pip(X,y,random_state,n_folds):\n",
    "    \n",
    "    X_other, X_test, y_other, y_test = train_test_split(X, y, test_size=0.3, random_state = random_state[0])\n",
    "    kf = StratifiedKFold(n_splits=n_folds,shuffle=True,random_state=random_state[1])\n",
    "    CV_scores = []\n",
    "    test_scores = []\n",
    "    pre = []\n",
    "    rec = []\n",
    "    f13 = []\n",
    "    cf = []\n",
    "    \n",
    "    for train_index, CV_index in kf.split(X_other,y_other):\n",
    "        X_train, X_CV = X_other.iloc[train_index], X_other.iloc[CV_index]\n",
    "        y_train, y_CV = y_other.iloc[train_index], y_other.iloc[CV_index]\n",
    "\n",
    "        scaler = StandardScaler()\n",
    "        oh = OneHotEncoder(sparse=False,handle_unknown = \"ignore\")\n",
    "        od = OrdinalEncoder(categories = [['N','mild','Moderate','Severe']])\n",
    "        X_train_cont = X_train[cont_ftr]\n",
    "        X_train_cat = X_train[cat_ftr]\n",
    "        X_train_od = X_train[ord_ftr]\n",
    "        X_train_cont = scaler.fit_transform(X_train_cont)\n",
    "        X_train_cat = oh.fit_transform(X_train_cat)\n",
    "        X_train_od = od.fit_transform(X_train_od)\n",
    "        X_train = np.concatenate((X_train_cont,X_train_cat,\n",
    "                                  np.array(X_train[bi_ftr]),X_train_od),axis=1)\n",
    "\n",
    "        X_c_cont = X_CV[cont_ftr]\n",
    "        X_c_cat = X_CV[cat_ftr]\n",
    "        X_c_od = X_CV[ord_ftr]\n",
    "        X_c_cont = scaler.transform(X_c_cont)\n",
    "        X_c_cat = oh.transform(X_c_cat)\n",
    "        X_c_od = od.transform(X_c_od)\n",
    "        X_c = np.concatenate((X_c_cont,X_c_cat,\n",
    "                              np.array(X_CV[bi_ftr]),X_c_od),axis=1)\n",
    "\n",
    "        X_t_cont = X_test[cont_ftr]\n",
    "        X_t_cat = X_test[cat_ftr]\n",
    "        X_t_od = X_test[ord_ftr]\n",
    "        X_t_cont = scaler.transform(X_t_cont)\n",
    "        X_t_cat = oh.transform(X_t_cat)\n",
    "        X_t_od = od.transform(X_t_od)\n",
    "        X_t = np.concatenate((X_t_cont,X_t_cat,\n",
    "                              np.array(X_test[bi_ftr]),X_t_od),axis=1)\n",
    "\n",
    "        train_score = []\n",
    "        CV_score = []\n",
    "        regs = []\n",
    "        par1 = range(10,201,10)\n",
    "        par2 = np.logspace(1,-4,num=25)\n",
    "        for i in par1:\n",
    "            for j in par2:\n",
    "                reg = GradientBoostingClassifier(n_estimators=i,learning_rate=j,\n",
    "                                          random_state=random_state[2])\n",
    "                reg.fit(X_train,y_train)\n",
    "                train_score.append(accuracy_score(y_train,reg.predict(X_train)))\n",
    "                CV_score.append(accuracy_score(y_CV,reg.predict(X_c)))\n",
    "                regs.append(reg)\n",
    "#         best_par = (par1[np.argmax(CV_score)//(len(par1))],\n",
    "#                    par2[np.argmax(CV_score)%(len(par1))])\n",
    "        reg = regs[np.argmax(CV_score)]\n",
    "        CV_scores.append(np.max(CV_score))\n",
    "        test_scores.append(accuracy_score(y_test,reg.predict(X_t)))\n",
    "        pre.append(precision_score(y_test,reg.predict(X_t)))\n",
    "        rec.append(recall_score(y_test,reg.predict(X_t)))\n",
    "        f13.append(fbeta_score(y_test,reg.predict(X_t),1.3))\n",
    "#     cf.append(confusion_matrix(y,reg.predict(X)))\n",
    "    return (CV_scores,test_scores,pre,rec,f13)\n"
   ]
  },
  {
   "cell_type": "code",
   "execution_count": 108,
   "metadata": {},
   "outputs": [
    {
     "data": {
      "text/plain": [
       "array([[0.78327031, 0.15152391],\n",
       "       [0.21672969, 0.84847609]])"
      ]
     },
     "execution_count": 108,
     "metadata": {},
     "output_type": "execute_result"
    }
   ],
   "source": [
    "from sklearn.ensemble import GradientBoostingClassifier\n",
    "\n",
    "from sklearn.tree import DecisionTreeClassifier\n",
    "\n",
    "rst = np.array([[0, 0],[0, 0]])\n",
    "for i in range(1,6):\n",
    "    X_other, X_test, y_other, y_test = train_test_split(X, y, test_size=0.3, random_state = 14*i)\n",
    "    scaler = StandardScaler()\n",
    "    oh = OneHotEncoder(sparse=False,handle_unknown = \"ignore\")\n",
    "    od = OrdinalEncoder(categories = [['N','mild','Moderate','Severe']])\n",
    "    X_train_cont = X_other[cont_ftr]\n",
    "    X_train_cat = X_other[cat_ftr]\n",
    "    X_train_od = X_other[ord_ftr]\n",
    "    X_train_cont = scaler.fit_transform(X_train_cont)\n",
    "    X_train_cat = oh.fit_transform(X_train_cat)\n",
    "    X_train_od = od.fit_transform(X_train_od)\n",
    "    X_train = np.concatenate((X_train_cont,X_train_cat,\n",
    "                              np.array(X_other[bi_ftr]),X_train_od),axis=1)\n",
    "    X_t_cont = X_test[cont_ftr]\n",
    "    X_t_cat = X_test[cat_ftr]\n",
    "    X_t_od = X_test[ord_ftr]\n",
    "    X_t_cont = scaler.transform(X_t_cont)\n",
    "    X_t_cat = oh.transform(X_t_cat)\n",
    "    X_t_od = od.transform(X_t_od)\n",
    "    X_t = np.concatenate((X_t_cont,X_t_cat,\n",
    "                          np.array(X_test[bi_ftr]),X_t_od),axis=1)\n",
    "    reg = GradientBoostingClassifier(n_estimators=160,learning_rate=0.06,\n",
    "                                          random_state=16*i)\n",
    "    pickle.dump(reg, open(\"xg.sav\", 'wb'))\n",
    "    reg.fit(X_train,y_other)\n",
    "    rst = rst + np.array(confusion_matrix(y_test,reg.predict(X_t))/sum(confusion_matrix(y_test,reg.predict(X_t))))\n",
    "rst/5"
   ]
  },
  {
   "cell_type": "code",
   "execution_count": 10,
   "metadata": {},
   "outputs": [
    {
     "name": "stdout",
     "output_type": "stream",
     "text": [
      "Mean of test accuracy scores: 0.8178021978021978\n",
      "Std of test accuracy scores: 0.042454575908585306\n",
      "Mean of test pre scores: 0.883416054476101\n",
      "Std of test pre scores: 0.01019980155146883\n",
      "Mean of test rec scores: 0.8665027386878918\n",
      "Std of test rec scores: 0.06089659681542645\n",
      "Mean of test f13 scores: 0.8707106851440811\n",
      "Std of test f13 scores: 0.03918085717369017\n"
     ]
    }
   ],
   "source": [
    "ac, pre, rec, f13 = [], [], [], []\n",
    "for i in range(1,6):\n",
    "    op = xg_pip(X,y,[10*i,14*i,96*i],10)\n",
    "    ac.append(np.mean(op[1]))\n",
    "    pre.append(np.mean(op[2]))\n",
    "    rec.append(np.mean(op[3]))\n",
    "    f13.append(np.mean(op[4]))\n",
    "print(\"Mean of test accuracy scores: \" + str(np.mean(ac)))\n",
    "print(\"Std of test accuracy scores: \" + str(np.std(ac)))\n",
    "\n",
    "print(\"Mean of test pre scores: \" + str(np.mean(pre)))\n",
    "print(\"Std of test pre scores: \" + str(np.std(pre)))\n",
    "\n",
    "print(\"Mean of test rec scores: \" + str(np.mean(rec)))\n",
    "print(\"Std of test rec scores: \" + str(np.std(rec)))\n",
    "\n",
    "print(\"Mean of test f13 scores: \" + str(np.mean(f13)))\n",
    "print(\"Std of test f13 scores: \" + str(np.std(f13)))\n",
    "\n",
    "# print(op[5])"
   ]
  },
  {
   "cell_type": "markdown",
   "metadata": {},
   "source": [
    "Mean of test accuracy scores: 0.8243956043956043\n",
    "Std of test accuracy scores: 0.030129936376547903\n",
    "Mean of test pre scores: 0.8838646360404766\n",
    "Std of test pre scores: 0.018200243957284964\n",
    "Mean of test rec scores: 0.8760111308990162\n",
    "Std of test rec scores: 0.04114048583585612\n",
    "Mean of test f13 scores: 0.8771853207368455\n",
    "Std of test f13 scores: 0.02578465408647863"
   ]
  },
  {
   "cell_type": "code",
   "execution_count": 20,
   "metadata": {},
   "outputs": [],
   "source": [
    "from sklearn.linear_model import LogisticRegression\n",
    "from sklearn.pipeline import Pipeline\n",
    "from sklearn.compose import ColumnTransformer\n",
    "from sklearn.pipeline import make_pipeline\n",
    "from sklearn.model_selection import GridSearchCV\n",
    "from sklearn.model_selection import train_test_split\n",
    "from sklearn.preprocessing import StandardScaler\n",
    "from sklearn.preprocessing import OneHotEncoder\n",
    "from sklearn.preprocessing import OrdinalEncoder\n",
    "import matplotlib.pyplot as plt\n",
    "from sklearn.model_selection import StratifiedKFold\n",
    "from sklearn.metrics import accuracy_score\n",
    "from sklearn.metrics import precision_score, recall_score, fbeta_score\n",
    "\n",
    "def ML_pipeline_kfold_LR1(X,y,random_state,n_folds):\n",
    "    # create a test set\n",
    "    X_other, X_test, y_other, y_test = train_test_split(X, y, test_size=0.3, random_state = random_state)\n",
    "    # splitter for _other\n",
    "    kf = StratifiedKFold(n_splits=n_folds,shuffle=True,random_state=random_state)\n",
    "    # create the pipeline: preprocessor + supervised ML method\n",
    "    cat_ftrs = cat_ftr \n",
    "    cont_ftrs = cont_ftr + bi_ftr\n",
    "    # one-hot encoder\n",
    "    categorical_transformer = Pipeline(steps=[\n",
    "        ('onehot', OneHotEncoder(sparse=False,handle_unknown='ignore'))])\n",
    "    # standard scaler\n",
    "    numeric_transformer = Pipeline(steps=[\n",
    "        ('scaler', StandardScaler())])\n",
    "    preprocessor = ColumnTransformer(\n",
    "        transformers=[\n",
    "            ('num', numeric_transformer, cont_ftrs),\n",
    "            ('cat', categorical_transformer, cat_ftrs)])\n",
    "    final_scaler = StandardScaler()\n",
    "    pipe = make_pipeline(preprocessor,final_scaler,LogisticRegression(penalty='l1',solver='saga',max_iter=10**4))\n",
    "    # the parameter(s) we want to tune\n",
    "    param_grid = {'logisticregression__C':np.logspace(1,-3,num=50)}\n",
    "    # prepare gridsearch\n",
    "    grid = GridSearchCV(pipe, param_grid=param_grid,cv=kf, return_train_score = True,n_jobs=-1)\n",
    "    # do kfold CV on _other\n",
    "    grid.fit(X_other, y_other)\n",
    "    feature_names = cont_ftrs + \\\n",
    "                list(grid.best_estimator_[0].named_transformers_['cat'][0].get_feature_names(cat_ftrs))\n",
    "    return grid, np.array(feature_names), X_test, y_test"
   ]
  },
  {
   "cell_type": "code",
   "execution_count": 19,
   "metadata": {},
   "outputs": [],
   "source": [
    "grid, feature_names, X_test, y_test = ML_pipeline_kfold_LR1(X,y,42,5)\n",
    "print('test score:',grid.score(X_test,y_test))\n",
    "coefs = grid.best_estimator_[-1].coef_[0]\n",
    "sorted_indcs = np.argsort(np.abs(coefs))"
   ]
  },
  {
   "cell_type": "code",
   "execution_count": 22,
   "metadata": {},
   "outputs": [
    {
     "data": {
      "image/png": "[encoded data removed]",
      "text/plain": [
       "<Figure size 432x288 with 1 Axes>"
      ]
     },
     "metadata": {
      "needs_background": "light"
     },
     "output_type": "display_data"
    }
   ],
   "source": [
    "plt.rcParams.update({'font.size': 14})\n",
    "plt.barh(np.arange(10),coefs[sorted_indcs[-10:]])\n",
    "plt.yticks(np.arange(10),feature_names[sorted_indcs[-10:]])\n",
    "plt.xlabel('coefficient')\n",
    "# plt.title('not all scaled')\n",
    "plt.tight_layout()\n",
    "plt.savefig('log_ftr.png',dpi=300)\n",
    "plt.show()"
   ]
  },
  {
   "cell_type": "code",
   "execution_count": 27,
   "metadata": {},
   "outputs": [],
   "source": [
    "from sklearn.model_selection import train_test_split\n",
    "from sklearn.preprocessing import StandardScaler\n",
    "from sklearn.preprocessing import OneHotEncoder\n",
    "from sklearn.preprocessing import OrdinalEncoder\n",
    "import matplotlib.pyplot as plt\n",
    "from sklearn.model_selection import StratifiedKFold\n",
    "from sklearn.linear_model import LogisticRegression\n",
    "from sklearn.metrics import accuracy_score\n",
    "from sklearn.metrics import precision_score, recall_score, fbeta_score\n",
    "from sklearn.metrics import confusion_matrix\n",
    "\n",
    "def logit_pip_ftr(X,y,random_state,n_folds):\n",
    "\n",
    "    X_other, X_test, y_other, y_test = train_test_split(X, y, test_size=0.3, random_state = random_state[0])\n",
    "    kf = StratifiedKFold(n_splits=n_folds,shuffle=True,random_state=random_state[1])\n",
    "    CV_scores = []\n",
    "    test_scores = []\n",
    "    pre = []\n",
    "    rec = []\n",
    "    f13 = []\n",
    "    cf = []\n",
    "\n",
    "    for train_index, CV_index in kf.split(X_other,y_other):\n",
    "        X_train, X_CV = X_other.iloc[train_index], X_other.iloc[CV_index]\n",
    "        y_train, y_CV = y_other.iloc[train_index], y_other.iloc[CV_index]\n",
    "\n",
    "        scaler = StandardScaler()\n",
    "        scaler2 = StandardScaler()\n",
    "        oh = OneHotEncoder(sparse=False,handle_unknown = \"ignore\")\n",
    "        od = OrdinalEncoder(categories = [['N','mild','Moderate','Severe']])\n",
    "        X_train_cont = X_train[cont_ftr]\n",
    "        X_train_cat = X_train[cat_ftr]\n",
    "        X_train_od = X_train[ord_ftr]\n",
    "        X_train_cont = scaler.fit_transform(X_train_cont)\n",
    "        X_train_cat = scaler2.fit_transform(oh.fit_transform(X_train_cat))\n",
    "        X_train_od = scaler2.fit_transform(od.fit_transform(X_train_od))\n",
    "        X_train = np.concatenate((X_train_cont,X_train_cat,\n",
    "                                  np.array(X_train[bi_ftr]),X_train_od),axis=1)\n",
    "\n",
    "        X_c_cont = X_CV[cont_ftr]\n",
    "        X_c_cat = X_CV[cat_ftr]\n",
    "        X_c_od = X_CV[ord_ftr]\n",
    "        X_c_cont = scaler.transform(X_c_cont)\n",
    "        X_c_cat = scaler2.fit_transform(oh.transform(X_c_cat))\n",
    "        X_c_od = scaler2.fit_transform(od.transform(X_c_od))\n",
    "        X_c = np.concatenate((X_c_cont,X_c_cat,\n",
    "                              np.array(X_CV[bi_ftr]),X_c_od),axis=1)\n",
    "\n",
    "        X_t_cont = X_test[cont_ftr]\n",
    "        X_t_cat = X_test[cat_ftr]\n",
    "        X_t_od = X_test[ord_ftr]\n",
    "        X_t_cont = scaler.transform(X_t_cont)\n",
    "        X_t_cat = scaler2.fit_transform(oh.transform(X_t_cat))\n",
    "        X_t_od = scaler2.fit_transform(od.transform(X_t_od))\n",
    "        X_t = np.concatenate((X_t_cont,X_t_cat,\n",
    "                              np.array(X_test[bi_ftr]),X_t_od),axis=1)\n",
    "\n",
    "        cs = np.logspace(1,-3,num=50)\n",
    "        train_score = []\n",
    "        CV_score = []\n",
    "        regs = []\n",
    "        for c in cs:\n",
    "            reg = LogisticRegression(penalty=\"l1\",C=c,solver=\"saga\",max_iter=10**4)\n",
    "            reg.fit(X_train,y_train)\n",
    "            train_score.append(accuracy_score(y_train,reg.predict(X_train)))\n",
    "            CV_score.append(accuracy_score(y_CV,reg.predict(X_c)))\n",
    "            regs.append(reg)\n",
    "        best_c = cs[np.argmax(CV_score)]\n",
    "        reg = regs[np.argmax(CV_score)]\n",
    "        CV_scores.append(np.max(CV_score))\n",
    "        test_scores.append(accuracy_score(y_test,reg.predict(X_t)))\n",
    "        pre.append(precision_score(y_test,reg.predict(X_t)))\n",
    "        rec.append(recall_score(y_test,reg.predict(X_t)))\n",
    "        f13.append(fbeta_score(y_test,reg.predict(X_t),1.3))\n",
    "    return (CV_scores,test_scores,pre,rec,f13,best_c)"
   ]
  },
  {
   "cell_type": "code",
   "execution_count": 28,
   "metadata": {},
   "outputs": [
    {
     "data": {
      "text/plain": [
       "([0.8604651162790697,\n",
       "  0.8837209302325582,\n",
       "  0.9285714285714286,\n",
       "  0.8095238095238095,\n",
       "  0.8571428571428571],\n",
       " [0.9010989010989011,\n",
       "  0.9230769230769231,\n",
       "  0.9340659340659341,\n",
       "  0.9230769230769231,\n",
       "  0.9230769230769231],\n",
       " [0.9130434782608695,\n",
       "  0.9154929577464789,\n",
       "  0.9285714285714286,\n",
       "  0.927536231884058,\n",
       "  0.9154929577464789],\n",
       " [0.9545454545454546,\n",
       "  0.9848484848484849,\n",
       "  0.9848484848484849,\n",
       "  0.9696969696969697,\n",
       "  0.9848484848484849],\n",
       " [0.9386839481555334,\n",
       "  0.9578722471787009,\n",
       "  0.9631486173845986,\n",
       "  0.9535836933643514,\n",
       "  0.9578722471787009],\n",
       " 0.33932217718953295)"
      ]
     },
     "execution_count": 28,
     "metadata": {},
     "output_type": "execute_result"
    }
   ],
   "source": [
    "logit_pip_ftr(X,y,[10,14],5)"
   ]
  },
  {
   "cell_type": "code",
   "execution_count": null,
   "metadata": {},
   "outputs": [],
   "source": [
    "scaler = StandardScaler()\n",
    "scaler2 = StandardScaler()\n",
    "oh = OneHotEncoder(sparse=False,handle_unknown = \"ignore\")\n",
    "od = OrdinalEncoder(categories = [['N','mild','Moderate','Severe']])\n",
    "X_train_cont = X[cont_ftr]\n",
    "X_train_cat = X[cat_ftr]\n",
    "X_train_od = X[ord_ftr]\n",
    "X_train_cont = scaler.fit_transform(X_train_cont)\n",
    "X_train_cat = scaler2.fit_transform(oh.fit_transform(X_train_cat))\n",
    "X_train_od = scaler2.fit_transform(od.fit_transform(X_train_od))\n",
    "X_train = np.concatenate((X_train_cont,X_train_cat,\n",
    "                          np.array(X[bi_ftr]),X_train_od),axis=1)\n",
    "\n",
    "reg = LogisticRegression(penalty=\"l1\",C=0.33932217718953295,solver=\"saga\",max_iter=10**4)\n",
    "reg.fit(X_train,y)"
   ]
  }
 ],
 "metadata": {
  "kernelspec": {
   "display_name": "Python 3",
   "language": "python",
   "name": "python3"
  },
  "language_info": {
   "codemirror_mode": {
    "name": "ipython",
    "version": 3
   },
   "file_extension": ".py",
   "mimetype": "text/x-python",
   "name": "python",
   "nbconvert_exporter": "python",
   "pygments_lexer": "ipython3",
   "version": "3.7.3"
  }
 },
 "nbformat": 4,
 "nbformat_minor": 4
}
